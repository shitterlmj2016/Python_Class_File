{
 "cells": [
  {
   "cell_type": "code",
   "execution_count": 1,
   "metadata": {
    "collapsed": true
   },
   "outputs": [],
   "source": [
    "import requests\n",
    "import bs4"
   ]
  },
  {
   "cell_type": "code",
   "execution_count": 10,
   "metadata": {},
   "outputs": [],
   "source": [
    "try:\n",
    "    app_id = '725c514e155a79fff50947ebe34e2e3a'\n",
    "    city = 'new%20york'\n",
    "    response = requests.get(f'https://api.openweathermap.org/data/2.5/weather?q={city}&appid={app_id}')\n",
    "    response.raise_for_status()\n",
    "except:\n",
    "    print('exception')"
   ]
  },
  {
   "cell_type": "code",
   "execution_count": 10,
   "metadata": {},
   "outputs": [
    {
     "name": "stdout",
     "output_type": "stream",
     "text": [
      "Rain\n"
     ]
    }
   ],
   "source": [
    "if response.status_code == 200:\n",
    "    # do interesting thing\n",
    "#     print(response.status_code)\n",
    "#     print(response.content)\n",
    "#     print(response.json())\n",
    "    data = response.json()\n",
    "    print(data['weather'][0]['main'])"
   ]
  },
  {
   "cell_type": "code",
   "execution_count": 2,
   "metadata": {
    "collapsed": true
   },
   "outputs": [],
   "source": [
    "response = requests.get('https://css-tricks.com/how-css-selectors-work/')\n",
    "response.raise_for_status()"
   ]
  },
  {
   "cell_type": "code",
   "execution_count": 3,
   "metadata": {
    "collapsed": true
   },
   "outputs": [],
   "source": [
    "soup = bs4.BeautifulSoup(response.content, 'html.parser')"
   ]
  },
  {
   "cell_type": "code",
   "execution_count": 7,
   "metadata": {},
   "outputs": [
    {
     "name": "stdout",
     "output_type": "stream",
     "text": [
      "6 <class 'list'>\n"
     ]
    }
   ],
   "source": [
    "divs = soup.select('div.code-group')\n",
    "print(len(divs), type(divs))"
   ]
  },
  {
   "cell_type": "code",
   "execution_count": 8,
   "metadata": {},
   "outputs": [
    {
     "name": "stdout",
     "output_type": "stream",
     "text": [
      "28 <class 'list'> <class 'bs4.element.Tag'>\n"
     ]
    }
   ],
   "source": [
    "code = soup.select('code')\n",
    "print(len(code), type(code), type(code[0]))"
   ]
  },
  {
   "cell_type": "code",
   "execution_count": 11,
   "metadata": {},
   "outputs": [
    {
     "name": "stdout",
     "output_type": "stream",
     "text": [
      "64\n"
     ]
    }
   ],
   "source": [
    "paragraphs = soup.select('p')\n",
    "print(len(paragraphs))"
   ]
  },
  {
   "cell_type": "code",
   "execution_count": 14,
   "metadata": {},
   "outputs": [
    {
     "name": "stdout",
     "output_type": "stream",
     "text": [
      "By\n",
      "        \n",
      "\n",
      "            Chris Coyier          \n",
      "\n",
      "On\n",
      "\n",
      "          August 9, 2014\n",
      "\n",
      "Are you new to CSS? This article is for you! Perhaps the biggest key to understanding CSS is understanding selectors. Selectors are what allows you to target specific HTML elements and apply style to them. Let's not think about style right now though, let's just focus on the selecting.\n",
      "\n",
      "\n",
      "\n",
      "In the examples below, the CSS would be in a file called something like style.css that is referenced from an HTML document called something like index.html. They are separate files, which is the great thing about CSS, keeping the design away from the document.\n",
      "\n",
      "Here's what that HTML file would be like:\n",
      "\n",
      "And the CSS file would contain just the selector blocks like you'll see below.\n",
      "\n",
      "ID selectors are the most powerful type of selector in terms of CSS specificity. Meaning that they beat out other types of selectors and the styles defined within win. That sounds good, but that's typically considered bad, because it's nice to have lower-specificity selectors that are easier to override when needed.\n",
      "\n",
      "Class selectors are your friend. They are probably the most useful and versatile selectors out there. In part because they are well supported in all browsers. In part because you can add multiple classes (just separated by a space) on HTML elements. In part because there are JavaScript things you can do specifically for manipulating classes.\n",
      "\n",
      "Tag selectors are at their most useful when changing properties that are unique to that HTML element. Like setting the list-style on a <ul> or tab-size on a <pre>. Also in reset stylesheets where you are specifically trying to unset styles that browsers apply to certain elements.\n",
      "\n",
      "Don't rely on them too much though. It's typically more useful to have a class define styling that you can use on any HTML element.\n",
      "\n",
      "You might argue that attribute selectors are even more useful than classes because they have the same specificity value, but can be any attribute not just class, plus they can have a value you can select by.\n",
      "\n",
      "Hardly an issue anymore, but attribute selectors aren't supported in IE 6.\n",
      "\n",
      "There are several different positional selectors beyond :nth-child. Using simple expressions (like 3n = \"every third\") you can select elements based on their position in the HTML. You can play with that idea here or check out some useful recipes.\n",
      "\n",
      ":empty is one of many pseudo selectors, which you can recognize by the colon (:) in them. They typically represent something that you couldn't know by just the element and attributes alone.\n",
      "\n",
      "Note that these are slightly different than pseudo elements, which you can recognize by the double colon (::). They are responsible for adding things to the page by the things they select.\n",
      "\n",
      "Selectors can be combined together. For instance:\n",
      "\n",
      "There are also selector combinators like ~ and + and > that affect selectors, like:\n",
      "\n",
      "Here on CSS-Tricks there is an entire Almanac that covers all the selectors in CSS, as well as properties.\n",
      "\n",
      "Show Comments\n",
      "\n",
      "For “Attribute Selector”, shouldn’t the CSS read [data-modal=\"true\"] instead?\n",
      "\n",
      "There was a typo in there! Thanks for catching Phan. Gonna bury this since it’s no longer relevant.\n",
      "\n",
      "Double colon is not recognized on IE, right? Gotta use the single colon syntax.\n",
      "\n",
      "That is true for IE 8 yep. I think it’s nice presenting the concept with the different between selector and element with the different number of colons though. It’s always choosy in a beginner article what to cover and what not to, lest overwhelm.\n",
      "\n",
      "Very well written Chris.\n",
      "\n",
      "You should note that IDs must only be used once per page,because a lot of begginers don’t know that :)\n",
      "\n",
      "*same IDs\n",
      "\n",
      "Weirdly enough, while that’s absolutely a best practice, CSS doesn’t really care about that.\n",
      "\n",
      "why should it? having a unique id is a restriction for html documents not css.\n",
      "\n",
      "That is what I meant.  I know CSS doesn’t care and that is all OK.\n",
      "The name of the ID should be unique in a HTML document.\n",
      "\n",
      "And this can potentially be confusing for beginners.\n",
      "\n",
      "\n",
      "\n",
      "\n",
      "\n",
      "Validator will throw an error if you have this in same page. But it is not a big deal :)\n",
      "\n",
      "That is what I meant.  I know CSS doesn’t care and that is all OK.\n",
      "The name of the ID should be unique in a HTML document.\n",
      "\n",
      "And this can potentially be confusing for beginners.\n",
      "\n",
      "Validator will throw an error if you have this in same page. But it is not a big deal :)\n",
      "\n",
      "fuck ,sorry about this Chris.\n",
      "\n",
      "I meant on ID happy-cake\n",
      "\n",
      "CSS don’t care multiple same IDs but javascript care ( javascript will focus the last one in the flow )\n",
      "that’s why multiple same IDs are forbiden.\n",
      "\n",
      "That :empty selector tho… #mindblown\n",
      "\n",
      "I was thinking the same thing. I’m pretty good with pseudo selectors/elements, but I didn’t even know about that one!\n",
      "\n",
      ":empty is great but be aware that white space can/should be rendered as a text node in the dom. As soon as there is a textnode in an element, :empty will be false on that element.\n",
      "This behaviour does differ between browsers last time I checked(maybe also depending on type of element).\n",
      "\n",
      "I wouldn’t like to rely on this selector, it’s too invisible when working on the html and an extra newline is easily added.\n",
      "\n",
      "In the almanac as well: http://css-tricks.com/almanac/selectors/e/empty/\n",
      "\n",
      "Thanks Chris for creating a post geared at the beginner CSS developer…I teach CSS and a lot of concepts in CSS that some blog writers take for granted are completely foreign to newbies just starting out in CSS…Post like these really help…\n",
      "\n",
      "Thanks for sharing your knowledge…\n",
      "\n",
      "While I am not a CSS beginner myself, this is a solid overview on working with selectors. Good link to pass on to a few folks I know in the process of learning this stuff. Thanks as always, Chris!\n",
      "\n",
      "Me too share with my new students… Thanks Chris\n",
      "\n",
      "short. simple :)\n",
      "\n",
      "this is a nice “game” to practice  : http://flukeout.github.io/ !\n",
      "you have to select the woobling item. To begin the 3 first answers to type in the blinking blue field are :\n",
      "plate\n",
      "bento\n",
      "plate#fancy\n",
      "\n",
      "enjoy beginners !\n",
      "\n",
      "This is a perfect representation of my big “AHA” moment with CSS. Odd as it may seem, realizing that “selector” actually meant that you are “selecting” something was a huge step for me in understanding how CSS worked.\n",
      "\n",
      "Duh, How else would it work?\n",
      "\n",
      "Thanks for the article. I had no clue about those last three selectors.\n",
      "\n",
      "Thanks Chris. This is great article.\n",
      "\n",
      "Thanks Chris. What a Useful article.\n",
      "\n",
      "Very useful information for the persons who are learning CSS.\n",
      "\n",
      "Thank you for putting it all in one place. Several tutorials I had a look at were rather convoluted and I have visited CSS tricks a few times now to get my head cleared up again, in fact it nicely showed up in Google once I knew how to pose the question or I would not have found you back in May or June.\n",
      "\n",
      "Honestly I have always been hesitant to use those special selectors. Will they work in all browsers?\n",
      "\n",
      "what’s different with “.class:after” and “.class::after” ? one “:” and two “::” ? why?\n",
      "\n",
      "TerryLee, the “.class:after” is the old CSS2 syntax for pseudo selectors.\n",
      "The “.class::after” is the new CSS3 syntax. And the reason it has two “::” is to clearly differentiate a pseudo-class from a pseudo-element.\n",
      "For example “a:active” is a pseudo-class which targets the active state of an anchor.\n",
      "Imagine using “a:after” for adding some content after an anchor. It will just be confusing for some people. And because of that, it’s better to use “a::after”. Still, note that IE8 still uses the old CSS2 syntax with just one “:”.\n",
      "\n",
      "Email Address\n",
      "\n",
      "CSS-Tricks* is created, written by, and maintained by Chris Coyier and a team of swell people. It is built on WordPress, hosted by Media Temple. It is made possible through sponsorships from products and services we like.\n",
      "\n",
      "*May or may not contain any actual \"CSS\" or \"Tricks\".\n",
      "\n"
     ]
    }
   ],
   "source": [
    "for p in paragraphs:\n",
    "    print(p.text.strip())\n",
    "    print()"
   ]
  },
  {
   "cell_type": "code",
   "execution_count": 15,
   "metadata": {
    "collapsed": true
   },
   "outputs": [],
   "source": [
    "anchors = soup.find_all('a')"
   ]
  },
  {
   "cell_type": "code",
   "execution_count": 16,
   "metadata": {},
   "outputs": [
    {
     "name": "stdout",
     "output_type": "stream",
     "text": [
      "/\n",
      "/\n",
      "/\n",
      "/video-screencasts/\n",
      "/almanac/\n",
      "/gallery/\n",
      "/snippets/\n",
      "/forums/\n",
      "/newsletters/\n",
      "/jobs/\n",
      "/guides/\n",
      "https://css-tricks.com/author/chriscoyier/\n",
      "http://css-tricks.com/specifics-on-css-specificity/\n",
      "http://css-tricks.com/a-line-in-the-sand/\n",
      "http://css-tricks.com/poll-results-what-css-reset-do-you-use/\n",
      "http://css-tricks.com/attribute-selectors/\n",
      "http://css-tricks.com/specifics-on-css-specificity/\n",
      "http://css-tricks.com/how-nth-child-works/\n",
      "http://css-tricks.com/examples/nth-child-tester/\n",
      "http://css-tricks.com/useful-nth-child-recipies/\n",
      "http://css-tricks.com/pseudo-class-selectors/\n",
      "http://css-tricks.com/pseudo-element-roundup/\n",
      "http://css-tricks.com/child-and-sibling-selectors/\n",
      "http://css-tricks.com/almanac/\n",
      "https://css-tricks.com/how-css-selectors-work/?share=facebook\n",
      "https://css-tricks.com/how-css-selectors-work/?share=twitter\n",
      "https://css-tricks.com/how-css-selectors-work/?share=linkedin\n",
      "https://css-tricks.com/how-css-selectors-work/#comment-1584304\n",
      "https://css-tricks.com/how-css-selectors-work/#comment-1584311\n",
      "https://css-tricks.com/how-css-selectors-work/#comment-1584305\n",
      "https://css-tricks.com/how-css-selectors-work/#comment-1584312\n",
      "https://css-tricks.com/how-css-selectors-work/#comment-1584307\n",
      "https://css-tricks.com/how-css-selectors-work/#comment-1584308\n",
      "https://css-tricks.com/how-css-selectors-work/#comment-1584325\n",
      "http://codepen.io/chriscoyier/pen/kipfq\n",
      "https://css-tricks.com/how-css-selectors-work/#comment-1584330\n",
      "https://css-tricks.com/how-css-selectors-work/#comment-1584336\n",
      "https://css-tricks.com/how-css-selectors-work/#comment-1584337\n",
      "https://css-tricks.com/how-css-selectors-work/#comment-1584338\n",
      "https://css-tricks.com/how-css-selectors-work/#comment-1584480\n",
      "https://css-tricks.com/how-css-selectors-work/#comment-1584310\n",
      "https://css-tricks.com/how-css-selectors-work/#comment-1584332\n",
      "https://css-tricks.com/how-css-selectors-work/#comment-1584362\n",
      "http://css-tricks.com/almanac/selectors/e/empty/\n",
      "https://css-tricks.com/how-css-selectors-work/#comment-1584313\n",
      "https://css-tricks.com/how-css-selectors-work/#comment-1584315\n",
      "https://css-tricks.com/how-css-selectors-work/#comment-1584346\n",
      "https://css-tricks.com/how-css-selectors-work/#comment-1584316\n",
      "https://css-tricks.com/how-css-selectors-work/#comment-1584320\n",
      "http://flukeout.github.io/\n",
      "https://css-tricks.com/how-css-selectors-work/#comment-1584321\n",
      "https://css-tricks.com/how-css-selectors-work/#comment-1584331\n",
      "https://css-tricks.com/how-css-selectors-work/#comment-1584327\n",
      "https://css-tricks.com/how-css-selectors-work/#comment-1584339\n",
      "https://css-tricks.com/how-css-selectors-work/#comment-1584342\n",
      "https://css-tricks.com/how-css-selectors-work/#comment-1584345\n",
      "https://css-tricks.com/how-css-selectors-work/#comment-1584396\n",
      "https://css-tricks.com/how-css-selectors-work/#comment-1584401\n",
      "https://css-tricks.com/how-css-selectors-work/#comment-1584411\n",
      "https://css-tricks.com/how-css-selectors-work/#comment-1584564\n",
      "/contact/\n",
      "https://mediatemple.net/landing/csstricks/?utm_source=CSS-Tricks&utm_medium=display&utm_campaign=heaeder-box\n",
      "https://mediatemple.net/landing/csstricks/?utm_source=CSS-Tricks&utm_medium=display&utm_campaign=heaeder-box\n",
      "https://chriscoyier.net\n",
      "/about/\n",
      "https://wordpress.org/\n",
      "https://mediatemple.net/landing/csstricks/?utm_source=CSS-Tricks&utm_medium=display&utm_campaign=footer-link\n",
      "/advertising/\n",
      "https://twitter.com/css\n",
      "/contact/\n",
      "/about/\n",
      "/archives/\n",
      "/advertising/\n",
      "/jobs/\n",
      "/license/\n",
      "/subscription-options/\n",
      "/random\n",
      "/guest-posting/\n",
      "https://codepen.io/url/job/ZwPJAr\n",
      "https://codepen.io/url/job/zGOEbz\n",
      "https://codepen.io/url/job/ZLOxJz\n",
      "/jobs/\n",
      "https://codepen.io/job/new/\n"
     ]
    }
   ],
   "source": [
    "for a in anchors:\n",
    "    print(a['href'])"
   ]
  },
  {
   "cell_type": "code",
   "execution_count": null,
   "metadata": {
    "collapsed": true
   },
   "outputs": [],
   "source": []
  }
 ],
 "metadata": {
  "kernelspec": {
   "display_name": "Python 3",
   "language": "python",
   "name": "python3"
  },
  "language_info": {
   "codemirror_mode": {
    "name": "ipython",
    "version": 3
   },
   "file_extension": ".py",
   "mimetype": "text/x-python",
   "name": "python",
   "nbconvert_exporter": "python",
   "pygments_lexer": "ipython3",
   "version": "3.6.3"
  }
 },
 "nbformat": 4,
 "nbformat_minor": 2
}
