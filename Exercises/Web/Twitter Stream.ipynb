{
 "cells": [
  {
   "cell_type": "markdown",
   "metadata": {},
   "source": [
    "# Working with streaming data: Using the Twitter API to capture tweets\n",
    "If you've done any data science or data analysis work, you've probably read in a csv file or connected to a database and queried rows. A typical data analysis workflow involves retrieving stored data, loading it into an analysis tool, and then exploring it. This works well when you're dealing with historical data such as analyzing what products a customer at your online store is most likely to purchase, or whether people's diets changed in response to advertising. But what if you want to predict stock prices in real-time? Or figure out what people are watching on television right now?\n",
    "\n",
    "As more data is generated, it's becoming increasingly important to be able to work with real-time data. Real-time, or streaming, data is generated continuously, and in the case of the stock market, there can be millions of rows generated every hour. Due to size and time constraints, there often isn't a neat dataset that you can analyze — you'll need to either store the data to analyze later, or analyze it in real time, as you get it.\n",
    "\n",
    "Being able to work with streaming data is a critical skill for any aspiring data scientist. In this post, we'll talk about strategies for working with streaming data, and walk through an example where we stream and store data from Twitter.\n",
    "\n",
    "[source](https://www.dataquest.io/blog/streaming-data-python/)"
   ]
  },
  {
   "cell_type": "markdown",
   "metadata": {},
   "source": [
    "# Twitter\n",
    "\n",
    "For those of you unfamiliar with Twitter, it's a social network where people post short, 140-character, status messages called tweets. Because tweets are sent out continuously, Twitter is a great way to figure out how people feel about current events. In this post, we'll create a tool that enables us to find out how people feel about Donald Trump and Hillary Clinton, both of whom are US Presidential candidates. To do this, we'll need to:\n",
    "\n",
    "* Stream tweets from the Twitter API.\n",
    "* Filter out the tweets that aren't relevant.\n",
    "* Process the tweets to figure out what emotions they express about each candidate.\n",
    "* Store the tweets for additional analysis.\n",
    "\n",
    "We'll build up the code as we go through the post, but you can look here if you want to see the finished version."
   ]
  },
  {
   "cell_type": "markdown",
   "metadata": {},
   "source": [
    "## Event-driven programming\n",
    "As we mentioned earlier, in a typical data analysis workflow, you'll:\n",
    "\n",
    "1. Open a csv file.\n",
    "2. Iterate over the rows.\n",
    "3. Discover insights and create visualizations.\n",
    "\n",
    "This flow might involve a script like this:"
   ]
  },
  {
   "cell_type": "code",
   "execution_count": 2,
   "metadata": {},
   "outputs": [
    {
     "name": "stdout",
     "output_type": "stream",
     "text": [
      "17.656666666666666\n"
     ]
    },
    {
     "data": {
      "text/plain": [
       "<matplotlib.axes._subplots.AxesSubplot at 0x11aa0bf60>"
      ]
     },
     "execution_count": 2,
     "metadata": {},
     "output_type": "execute_result"
    },
    {
     "data": {
      "image/png": "[encoded data removed]",
      "text/plain": [
       "<Figure size 432x288 with 1 Axes>"
      ]
     },
     "metadata": {},
     "output_type": "display_data"
    }
   ],
   "source": [
    "%matplotlib inline\n",
    "import pandas\n",
    "\n",
    "data = pandas.read_csv(\"products_sold.csv\")\n",
    "\n",
    "# Print out the mean selling price.\n",
    "print(data[\"price\"].mean())\n",
    "\n",
    "# Plot out the sale prices.\n",
    "data[\"price\"].plot()"
   ]
  },
  {
   "cell_type": "markdown",
   "metadata": {},
   "source": [
    "In the above example, the Python interpreter starts at the first line in our program, then proceeds through it until it's finished. This is called procedural programming, because the program is executing in a fixed order, like a procedure.\n",
    "\n",
    "We could modify the program above to work with a set of tweets that we've downloaded beforehand:"
   ]
  },
  {
   "cell_type": "code",
   "execution_count": 3,
   "metadata": {
    "collapsed": true
   },
   "outputs": [],
   "source": [
    "def get_sentiment(text):\n",
    "    return \"positive\""
   ]
  },
  {
   "cell_type": "code",
   "execution_count": 4,
   "metadata": {},
   "outputs": [
    {
     "name": "stdout",
     "output_type": "stream",
     "text": [
      "0    positive\n",
      "1    positive\n",
      "Name: text, dtype: object\n"
     ]
    }
   ],
   "source": [
    "import pandas\n",
    "\n",
    "tweets = pandas.read_csv(\"tweets.csv\")\n",
    "\n",
    "# Get the emotion (sentiment) in each tweet.\n",
    "# This is an example function that we'll assume is defined further up.\n",
    "sentiment = tweets[\"text\"].apply(get_sentiment)\n",
    "\n",
    "# Plot out the sentiment in each tweet.\n",
    "# sentiment.plot()\n",
    "\n",
    "print(sentiment)"
   ]
  },
  {
   "cell_type": "markdown",
   "metadata": {},
   "source": [
    "Although working with a csv file of tweets is straightforward, it's unclear how we'd modify this program to work with a streaming tweets. With streaming tweets, we wouldn't have a nice csv file — we'd have to retrieve the tweets in real-time. To work with streaming tweets, we need to:\n",
    "\n",
    "* Open a persistent connection to the Twitter API.\n",
    "* Process each tweet that we receive.\n",
    "* Store the processed tweets.\n",
    "\n",
    "In order to accomplish this, we'll need to use a programming paradigm called event-driven programming. In event-driven programming, the program executes actions based on external inputs. A good example is a web browser. A web browser might consist of a few functions:"
   ]
  },
  {
   "cell_type": "code",
   "execution_count": 5,
   "metadata": {
    "collapsed": true
   },
   "outputs": [],
   "source": [
    "def go_to_site(url):\n",
    "    # Given a url, visit the site.\n",
    "    # ...\n",
    "    pass\n",
    "\n",
    "def go_back():\n",
    "    # Go back to the last site.\n",
    "    # ...\n",
    "    pass\n",
    "    \n",
    "def go_forward():\n",
    "    # Go forward to the next site (if applicable)\n",
    "    # ...\n",
    "    pass\n",
    "    \n",
    "def reload():\n",
    "    # Reload the current page.\n",
    "    # ...\n",
    "    pass"
   ]
  },
  {
   "cell_type": "markdown",
   "metadata": {},
   "source": [
    "When the web browser loads, it doesn't do anything, and instead waits for the user to take an action. The user typing a URL into the URL bar and hitting enter will trigger the function **go_to_site**, which will render the content of that URL.\n",
    "\n",
    "In a web browser, a function could be called once, many times, or not at all. It all depends on what the user does. The program isn't following a procedure, and is instead waiting for external actions. Each action can be called an event, which is what makes this style of programming event-driven. Functions can be tied to events (in this case button presses by the user). Each function that is tied to an event is called a callback function for that event. For example, entering a URL in the browser bar is tied to the **go_to_site** _callback function_, which then visits the site. Clicking the back button is tied to the **go_back** _callback function_, which visits the previous site.\n",
    "\n",
    "![Web Page](https://www.dataquest.io/blog/content/images/chrome_screen.png)\n",
    "_A screenshot of the Chrome browser — you can see the buttons that are tied to each callback function._"
   ]
  },
  {
   "cell_type": "markdown",
   "metadata": {},
   "source": [
    "In the web browser example, we're relying on the user to generate events, but we can also rely on other programs to generate events. Let's say that we have a program that streams tweets, and then calls our program to process them. We'd only need a few functions in our program:"
   ]
  },
  {
   "cell_type": "code",
   "execution_count": 6,
   "metadata": {
    "collapsed": true
   },
   "outputs": [],
   "source": [
    "def filter_tweet(tweet):\n",
    "    # Remove any tweets that don't match our criteria.\n",
    "    if not tweet_matches_criteria(tweet):\n",
    "        return\n",
    "    # Process the remaining tweets.\n",
    "    process_tweet(tweet)\n",
    "\n",
    "def process_tweet(tweet):\n",
    "    # Annotate the tweet dictionary with any other information we need.\n",
    "    tweet[\"sentiment\"] = get_sentiment(tweet)\n",
    "    # Store the tweet.\n",
    "    store_tweet(tweet)\n",
    "    \n",
    "def store_tweet(tweet):\n",
    "    # Saves a tweet for later processing.\n",
    "    # ...\n",
    "    pass"
   ]
  },
  {
   "cell_type": "markdown",
   "metadata": {},
   "source": [
    "We setup a separate program to get tweets in real-time — let's called this the **streamer**. We register **filter_tweet** as a callback with **streamer**, so **filter_tweet** will be called every time a new tweet is received. We're able to decide if we want to process the tweet or not, then call **process_tweet** and **store_tweet** to handle the tweet."
   ]
  },
  {
   "cell_type": "markdown",
   "metadata": {},
   "source": [
    "## The Twitter Streaming API\n",
    "In order to make it easy to work with real-time tweets, Twitter provides the Twitter Streaming API. There are quite a few rules about how to stream tweets from Twitter, but the main ones are:\n",
    "\n",
    "* Create a persistent connection to the Twitter API, and read each connection incrementally.\n",
    "* Process tweets quickly, and don't let your program get backed up.\n",
    "* Handle errors and other issues properly.\n",
    "\n",
    "There are a variety of clients for the Twitter Streaming API across all major programming languages. For Python, there are quite a few, which you can find [here](https://dev.twitter.com/resources/twitter-libraries). The most popular is [tweepy](https://github.com/tweepy/tweepy), which allows you to connect to the streaming API and handle errors properly.\n",
    "\n",
    "Although tweepy handles most of the logistics of dealing with the stream for us, we'll walk through what's happening behind the scenes."
   ]
  },
  {
   "cell_type": "markdown",
   "metadata": {},
   "source": [
    "### Opening a connection\n",
    "The first step is to open a connection to the Twitter Streaming API. This involves opening a persistent HTTP connection. Tweepy does this with the following code segment, which you can find [here](https://github.com/tweepy/tweepy/blob/master/tweepy/streaming.py#L241):\n",
    "\n",
    "```python\n",
    "resp = self.session.request('POST',\n",
    "                            url,\n",
    "                            data=self.body,\n",
    "                            timeout=self.timeout,\n",
    "                            stream=True,\n",
    "                            auth=auth,\n",
    "                            verify=self.verify)\n",
    "```\n",
    "\n",
    "The above code segment makes a request using the python requests library, and passed the stream=True keyword argument to keep the connection open forever. Whenever a new tweet is created on Twitter, it will send the tweet to our program over the connection.\n",
    "\n",
    "You may notice the url parameter above. We can gather all the tweets generated on Twitter by hitting the firehose.json API endpoint. Gathering all tweets at once would overwhelm our computer, though, since it's hundreds of thousands of tweets a minute. This access is also restricted, and not everyone can access the firehose data. We'll instead have to access the filter.json API endpoint. This API endpoint takes in a list of strings, then searches for those strings in tweets. Instead of all tweets, you get a filtered subset, which makes them much easier for your local machine to work with.\n",
    "\n",
    "You may also notice the auth keyword argument above. The Twitter Streaming API requires authentication. You'll need to create a developer account, then pass your credentials into tweepy so it can pass them to Twitter. We'll walk through how to do this in a later section."
   ]
  },
  {
   "cell_type": "markdown",
   "metadata": {},
   "source": [
    "### Listening for tweets\n",
    "Once we open a connection, we'll need to listen for tweets coming over the connection. Twitter sends data in plain text over the connection, like this:\n",
    "\n",
    "```bash\n",
    "HTTP/1.1 200 OK\n",
    "Content-Type: application/json\n",
    "Transfer-Encoding: chunked\n",
    "\n",
    "1953\n",
    "{\"retweet_count\":0,\"text\":\"Man I like me some @twitterapi\",\"entities\":{\"urls\":[],\"hashtags\":[],\"user_mentions\":[{\"indices\":[19,30],\"name\":\"Twitter API\",\"id\":6253282,\"screen_name\":\"twitterapi\",\"id_str\":\"6253282\"}]},\"retweeted\":false,\"in_reply_to_status_id_str\":null,\"place\":null,\"in_reply_to_user_id_str\":null,\"coordinates\":null,\"source\":\"web\",\"in_reply_to_screen_name\":null,\"in_reply_to_user_id\":null,\"in_reply_to_status_id\":null,\"favorited\":false,\"contributors\":null,\"geo\":null,\"truncated\":false,\"created_at\":\"Wed Feb 29 19:42:02 +0000 2012\",\"user\":{\"is_translator\":false,\"follow_request_sent\":null,\"statuses_count\":142,\"profile_background_color\":\"C0DEED\",\"default_profile\":false,\"lang\":\"en\",\"notifications\":null,\"profile_background_tile\":true,\"location\":\"\",\"profile_sidebar_fill_color\":\"ffffff\",\"followers_count\":8,\"profile_image_url\":\"http:\\/\\/a1.twimg.com\\/profile_images\\/1540298033\\/phatkicks_normal.jpg\",\"contributors_enabled\":false,\"profile_background_image_url_https\":\"https:\\/\\/si0.twimg.com\\/profile_background_images\\/365782739\\/doof.jpg\",\"description\":\"I am just a testing account, following me probably won't gain you very much\",\"following\":null,\"profile_sidebar_border_color\":\"C0DEED\",\"profile_image_url_https\":\"https:\\/\\/si0.twimg.com\\/profile_images\\/1540298033\\/phatkicks_normal.jpg\",\"default_profile_image\":false,\"show_all_inline_media\":false,\"verified\":false,\"profile_use_background_image\":true,\"favourites_count\":1,\"friends_count\":5,\"profile_text_color\":\"333333\",\"protected\":false,\"profile_background_image_url\":\"http:\\/\\/a3.twimg.com\\/profile_background_images\\/365782739\\/doof.jpg\",\"time_zone\":\"Pacific Time (US & Canada)\",\"created_at\":\"Fri Sep 09 16:13:20 +0000 2011\",\"name\":\"fakekurrik\",\"geo_enabled\":true,\"profile_link_color\":\"0084B4\",\"url\":\"http:\\/\\/blog.roomanna.com\",\"id\":370773112,\"id_str\":\"370773112\",\"listed_count\":0,\"utc_offset\":-28800,\"screen_name\":\"fakekurrik\"},\"id\":174942523154894848,\"id_str\":\"174942523154894848\"}\n",
    "```\n",
    "\n",
    "The first few lines are HTTP connection headers, which we can ignore, as these are only used when establishing the connection. Once we establish the connection, we'll get back a series of numbers and JSON encoded tweets. The numbers indicate that tweet data is being sent over the connection, and tell the program how many bytes to read from the connection to get the tweet data. In this case, 1953 is the number of bytes to read off of the stream until the end of the tweet. Reading the next 1953 bytes will get us the data for the tweet.\n",
    "\n",
    "As you can see, the data contains not just the text of the tweet, but information on who sent it, how many followers they have, and other metadata. This data is in JSON format, and can be read in and processed using the Python json library. As more tweets are sent to us from the Twitter API, they'll follow a similar format, of the length in bytes on one line, and the data for the tweet on the next length. All the tweets will be sent through the same persistent connection."
   ]
  },
  {
   "cell_type": "markdown",
   "metadata": {},
   "source": [
    "### Calling the callback\n",
    "Once tweepy decodes the tweet data, it passes the data to a preregistered callback function. You can see the code for it here, and we'll copy a portion below:\n",
    "\n",
    "```python\n",
    "def _data(self, data):\n",
    "    if self.listener.on_data(data) is False:\n",
    "        self.running = False\n",
    "```\n",
    "\n",
    "**self.listener** is actually an instance of a user-defined class which has a method called **on_data**. **on_data** processes the tweet, then returns **True** or **False**. If **on_data** returns **True**, it processed the tweet okay, and everything is fine. If **on_data** returns **False**, the connection will be shut down.\n",
    "\n",
    "We'll place our custom code to process the tweet in the **listener**, and then return the appropriate status (**True** or **False**)."
   ]
  },
  {
   "cell_type": "markdown",
   "metadata": {},
   "source": [
    "### Rate limiting and other concerns\n",
    "The Twitter Streaming API has [rate limits](https://dev.twitter.com/streaming/overview/connecting), and prohibits too many connection attempts happening too quickly. It also prevents too many connections being made to it using the same authorization keys. Thankfully, tweepy takes care of these details for us, and we can focus on our program.\n",
    "\n",
    "The main thing that we have to be aware of is the queue of tweets that we're processing. If we take too long to process tweets, they will start to get queued, and Twitter may disconnect us. This means that processing each tweet needs to be extremely fast."
   ]
  },
  {
   "cell_type": "markdown",
   "metadata": {},
   "source": [
    "## Setting up Tweepy\n",
    "Now that we understand how streaming tweets from Twitter works, we can go ahead and setup tweepy to start streaming data. The first thing we'll need to do is visit the [Twitter Developer Center](https://dev.twitter.com/) and create a developer account. This account will enable us to create credentials that let us authenticate with the Twitter Streaming API.\n",
    "\n",
    "After creating the account, we can go to the [Application Console](https://apps.twitter.com/) and create a new Twitter application. This will let us get credentials specific to the application, which will let us connect to the API.\n",
    "\n",
    "![Twitter](https://www.dataquest.io/blog/content/images/twitter_make_app.png)\n",
    "_Fill out all the values to make a Twitter application._\n",
    "\n",
    "As you can see in the screenshot above, you'll want to leave the \"Callback URL\" field blank. In the \"Website\" field fill in a website if you have one, otherwise you can enter a placeholder value like <https://www.site.com>.\n",
    "\n",
    "Once you create your application, you can click on the \"Keys and Access Tokens\" tab to get your credentials. You'll need to get the following from under \"Application Settings\":\n",
    "\n",
    "* **Consumer Key (API Key)** — we'll refer to this as **TWITTER_APP_KEY**.\n",
    "* **Consumer Secret (API Secret)** — we'll refer to this as **TWITTER_APP_SECRET**.\n",
    "\n",
    "You'll also need to do the following in the section under \"Your Access Token\":\n",
    "\n",
    "* Click \"Create my access token\":\n",
    "* Get the value called Access Token — we'll refer to this as TWITTER_KEY.\n",
    "* Get the value called Access Token Secret — we'll refer to this as TWITTER_SECRET.\n",
    "\n"
   ]
  },
  {
   "cell_type": "markdown",
   "metadata": {},
   "source": [
    "We can setup tweepy to authenticate with Twitter with the following code:\n",
    "\n",
    "```python\n",
    "auth = tweepy.OAuthHandler(TWITTER_APP_KEY, TWITTER_APP_SECRET)\n",
    "auth.set_access_token(TWITTER_KEY, TWITTER_SECRET)\n",
    "```\n",
    "\n",
    "Then, we can create an API object to pull data from Twitter — we'll pass in the authentication:\n",
    "\n",
    "```python\n",
    "api= tweepy.API(auth)\n",
    "```"
   ]
  },
  {
   "cell_type": "markdown",
   "metadata": {},
   "source": [
    "## Setting up a listener\n",
    "As we noted above, opening a Twitter stream using tweepy requires a user-defined **listener** class. We'll need to subclass the **StreamListener** class, and implement some custom logic. The **StreamListener** class has a method called **on_data**. This method will automatically figure out what kind of data Twitter sent, and call an appropriate method to deal with the specific data type. It's possible to deal with events like users sending direct messages, tweets being deleted, and more. For now, we only care about when users post tweets. Thus, we'll need to override the on_status method:\n",
    "\n",
    "```python\n",
    "class StreamListener(tweepy.StreamListener):\n",
    "\n",
    "    def on_status(self, status):\n",
    "        print(status.text)\n",
    "```\n",
    "\n",
    "The above code will create a listener that prints the text of any tweet that comes from the Twitter API.\n",
    "\n",
    "We'll also need to override the on_error method of StreamListener so that we can handle errors coming from the Twitter API properly. The Twitter API will send a 420 status code if we're being rate limited. If this happens, we'll want to disconnect. If it's any other error, we'll keep going:\n",
    "\n",
    "```python\n",
    "class StreamListener(tweepy.StreamListener):\n",
    "\n",
    "    def on_status(self, status):\n",
    "        print(status.text)\n",
    "        \n",
    "    def on_error(self, status_code):\n",
    "        if status_code == 420:\n",
    "            return False\n",
    "```"
   ]
  },
  {
   "cell_type": "markdown",
   "metadata": {},
   "source": [
    "## Starting the listener\n",
    "Once we setup the listener, we're ready to wire everything up, and stream tweets that mention **Donald Trump** or **Hillary Clinton**.\n",
    "\n",
    "In the below code segment, we'll:\n",
    "\n",
    "* Create an instance of our StreamListener class.\n",
    "* Create an instance of the tweepy Stream class, which will stream the tweets.\n",
    "    * We pass in our authentication credentials (api.auth) so that Twitter allows us to connect.\n",
    "    * We pass in our stream_listener so that our callback functions are called.\n",
    "* Start streaming tweets by calling the filter method. This will start streaming tweets from the filter.json API endpoint, and passing them to our listener callback.\n",
    "    * We pass in a list of terms to filter on, as the API requires.\n",
    "    \n",
    "```python\n",
    "stream_listener = StreamListener()\n",
    "stream = tweepy.Stream(auth=api.auth, listener=stream_listener)\n",
    "stream.filter(track=[\"trump\", \"clinton\", \"hillary clinton\", \"donald trump\"])\n",
    "```\n",
    "\n",
    "Once we set this up, we have a simple Twitter streamer! It won't do much (just print out the text of all tweets mentioning Hillary Clinton or Donald Trump), but we've accomplished a lot with very little code."
   ]
  },
  {
   "cell_type": "markdown",
   "metadata": {},
   "source": [
    "## Filtering events\n",
    "\n",
    "We want to look at how people feel about each presidential candidate. This means that we want to ignore retweets. Retweets show up in the stream of data from the Twitter API, but the same text can show up hundreds or thousands of times. This will skew our results, as one person's tweet will effectively count thousands of times in our analysis. The tweet that is passed into the on_status method is an instance of the Status class. This class has properties describing the tweet, including the property retweeted_status, which tells us whether or not the tweet is a retweet. We can filter out retweets by checking for the retweeted_status property. In the below code, we:\n",
    "\n",
    "* Modify the on_status function to filter out retweets.\n",
    "    * If the retweeted_status property exists, then don't process the tweet.\n",
    "    * Print all tweets that aren't retweets.\n",
    "    \n",
    "```python\n",
    "def on_status(self, status):\n",
    "    if status.retweeted_status:\n",
    "        return\n",
    "    print(status.text)\n",
    "```\n",
    "\n",
    "So far, we've used the text property and the retweeted_status property of the tweet. You can find a full list of available properties here. The values come from the Twitter API, and tweepy then sets them as properties of an instance of the Status class. We could perform additional filtering by using fields such as:\n",
    "\n",
    "* **retweet_count** — the number of times a tweet has been retweeted.\n",
    "* **withheld_in_countries** — the tweet has been withheld in certain countries.\n",
    "* **favorite_count** — the number of times the tweet has been favorited by other users.\n",
    "\n",
    "For example, the below code will filter out any tweets with less than **10** favorites:\n",
    "\n",
    "```python\n",
    "def on_status(self, status):\n",
    "    if status.favorite_count is None or status.favorite_count < 10:\n",
    "        return\n",
    "    print(status.text)\n",
    "```"
   ]
  },
  {
   "cell_type": "markdown",
   "metadata": {},
   "source": [
    "## Extracting information\n",
    "\n",
    "Because we have to process tweets quickly, we don't want to do anything too intensive before we save them. We'll mainly want to extract and store the properties we want. Because we're interested in analyzing the emotions of people who support **Hillary Clinton** or **Donald Trump**, there are a few fields that will be interesting to us:\n",
    "\n",
    "* The user's description (**status.user.description**). This is the description the user who created the tweet wrote in their biography.\n",
    "* The user's location (**status.user.location**). This is the location the user who created the tweet wrote in their biography.\n",
    "* The screen name of the user (**status.user.screen_name**).\n",
    "* When the user's account was created (**status.user.created_at**).\n",
    "* How many followers the user has (**status.user.followers_count**).\n",
    "* The background color the user has chosen for their profile (**status.user.profile_background_color**).\n",
    "* The text of the tweet (**status.text**).\n",
    "* The unique id that Twitter assigned to the tweet (**status.id_str**).\n",
    "* When the tweet was sent (**status.created_at**).\n",
    "* How many times the tweet has been retweeted (**status.retweet_count**).\n",
    "* The tweet's coordinates (**status.coordinates**). The geographic coordinates from where the tweet was sent.\n",
    "\n",
    "These properties will enable us to analyze interesting things like whether users with more followers support Trump or Clinton.\n",
    "\n",
    "We can extract this information in the on_status method:\n",
    "\n",
    "```python\n",
    "description = status.user.description\n",
    "loc = status.user.location\n",
    "text = status.text\n",
    "coords = status.coordinates\n",
    "name = status.user.screen_name\n",
    "user_created = status.user.created_at\n",
    "followers = status.user.followers_count\n",
    "id_str = status.id_str\n",
    "created = status.created_at\n",
    "retweets = status.retweet_count\n",
    "bg_color = status.user.profile_background_color\n",
    "```"
   ]
  },
  {
   "cell_type": "markdown",
   "metadata": {},
   "source": [
    "## Processing the tweets\n",
    "Because we're interested in the emotion of people who support both presidential candidates, we'll want to analyze the text of each tweet to figure out the sentiments it expresses. This will tell us if people usually tweet positive things about Hillary Clinton, for example. We can use a method called sentiment analysis to tag each tweet with a sentiment score, from -1 to 1. A -1 means that the tweet is very negative a 0 is neutral, and a 1 means that the tweet is very positive. Sentiment analysis tools typically generate this score by seeing if words known to indicate negative and positive sentiment occur in a string. For example, if the word hate occurs in a string, it is more likely to be negative. Because sentiment analysis is essentially string matching, it is extremely quick to work, which is important for us, since the longer we take to process, the more likely that we'll fall behind on processing tweets and be disconnected.\n",
    "\n",
    "In order to perform sentiment analysis, we can use a library called TextBlob, which allows us to do sentiment analysis in Python, among other natural language processing tasks.\n",
    "\n",
    "The below code will:\n",
    "\n",
    "* Initialize the TextBlob class on the text of the tweet.\n",
    "* Get the sentiment score from the class.\n",
    "\n",
    "```python\n",
    "blob = TextBlob(text)\n",
    "sent = blob.sentiment\n",
    "```\n",
    "\n",
    "Once we have the sent object, we'll need to extract polarity and subjectivity from it. polarity is the negativity or positivity of the tweet, on a -1 to 1 scale. subjectivity is how objective or subjective the tweet is. 0 means that the tweet is very objective, and 1 means that it is very subjective. In order to do this, we just need to access properties:\n",
    "\n",
    "```python\n",
    "polarity = sent.polarity\n",
    "subjectivity = sent.subjectivity\n",
    "```"
   ]
  },
  {
   "cell_type": "markdown",
   "metadata": {},
   "source": [
    "## Storing the tweets\n",
    "Once we have all the data we want on each tweet, we're ready to store it for later processing. It's possible to store our data in a csv file, but a csv file makes it hard to query the data. If we want to read from a csv file, we either have to load the whole thing, or go through a convoluted process to query and only load the pieces we want.\n",
    "\n",
    "A good place to store our data is in a database. Because they are commonly used and easy to query, we'll use a relational database. SQLite is the simplest to use major relational database, as it doesn't require any processes to be running, and everything is stored in a single file.\n",
    "\n",
    "In order to access the database, we'll use the dataset package, which makes it extremely simple to access a database and store data. Instead of creating a database and tables, we simply store data, and the dataset package will take care of automatically creating the database and all the tables we need.\n",
    "\n",
    "We have to first connect to our database using a connection string:\n",
    "\n",
    "```python\n",
    "import dataset\n",
    "db = dataset.connect(\"sqlite:///tweets.db\")\n",
    "```\n",
    "\n",
    "When using SQLite, if the database file (in this case, tweets.db) doesn't exist, it will be automatically created in the current folder.\n",
    "\n",
    "Then we have to dump our coordinates json dictionary to a string, so we can store it:\n",
    "\n",
    "```python\n",
    "if coords is not None:\n",
    "    coords = json.dumps(coords)\n",
    "```\n",
    "\n",
    "Finally, we can add code in the on_status method to write a tweet to the database:\n",
    "\n",
    "```python\n",
    "table = db[\"tweets\"]\n",
    "table.insert(dict(\n",
    "    user_description=description,\n",
    "    user_location=loc,\n",
    "    coordinates=coords,\n",
    "    text=text,\n",
    "    user_name=name,\n",
    "    user_created=user_created,\n",
    "    user_followers=followers,\n",
    "    id_str=id_str,\n",
    "    created=created,\n",
    "    retweet_count=retweets,\n",
    "    user_bg_color=bg_color,\n",
    "    polarity=sent.polarity,\n",
    "    subjectivity=sent.subjectivity,\n",
    "))\n",
    "```\n",
    "\n",
    "We're now able to write each of our processed tweets to a database. Once they're in a database, they can be easily queried, or dumped out to csv for further analysis."
   ]
  },
  {
   "cell_type": "markdown",
   "metadata": {},
   "source": [
    "## Wiring everything together\n",
    "We now have all the pieces we'll need to stream data from the Twitter API! We'll just need to put everything together into a single file that we can run from the command line. This will enable us to stream tweets for as long as we want to. You can take a look at the final program that performs the streaming here. This program can be run by typing python scraper.py after which it will run forever, streaming tweets, processing them, and saving them to disk. You can use Ctrl+C to stop the program.\n",
    "\n",
    "We'll want to separate out some of the constants that we've used (like the database connection string, our database name, and our Twitter keys) into a separate file, called settings.py, so that they're easy to change. Here are the default contents of settings.py:\n",
    "\n",
    "```python\n",
    "TRACK_TERMS = [\"trump\", \"clinton\", \"hillary clinton\", \"donald trump\"]\n",
    "CONNECTION_STRING = \"sqlite:///tweets.db\"\n",
    "CSV_NAME = \"tweets.csv\"\n",
    "TABLE_NAME = \"tweets\"\n",
    "```\n",
    "\n",
    "You can see the settings file [here](https://github.com/dataquestio/twitter-scrape/blob/master/settings.py).\n",
    "\n",
    "You can read full instructions for running the code yourself [here](https://github.com/dataquestio/twitter-scrape/blob/master/README.md)."
   ]
  },
  {
   "cell_type": "markdown",
   "metadata": {},
   "source": [
    "## Analyzing the tweets\n",
    "If we want to analyze the tweets after storing them, we'll need to write additional code to query the database. We can also do this using the datasets package.\n",
    "\n",
    "For example, the below code would query all of the tweets from our database:\n",
    "\n",
    "```python\n",
    "db = dataset.connect(\"sqlite:///tweets.db\")\n",
    "\n",
    "result = db[\"tweets\"].all()\n",
    "```\n",
    "\n",
    "Once we have a set of results, we can either process them, or store them to a csv file, like in this example:\n",
    "\n",
    "```python\n",
    "dataset.freeze(result, format='csv', filename=settings.CSV_NAME)\n",
    "```\n",
    "\n",
    "You can see the code for a program to dump all the existing tweets to a csv file [here](https://github.com/dataquestio/twitter-scrape/blob/master/dump.py). You can run this program from the command line with \n",
    "\n",
    "```bash\n",
    "python dump.py\n",
    "```"
   ]
  },
  {
   "cell_type": "code",
   "execution_count": null,
   "metadata": {
    "collapsed": true
   },
   "outputs": [],
   "source": []
  }
 ],
 "metadata": {
  "kernelspec": {
   "display_name": "Python 3",
   "language": "python",
   "name": "python3"
  },
  "language_info": {
   "codemirror_mode": {
    "name": "ipython",
    "version": 3
   },
   "file_extension": ".py",
   "mimetype": "text/x-python",
   "name": "python",
   "nbconvert_exporter": "python",
   "pygments_lexer": "ipython3",
   "version": "3.6.3"
  }
 },
 "nbformat": 4,
 "nbformat_minor": 2
}
