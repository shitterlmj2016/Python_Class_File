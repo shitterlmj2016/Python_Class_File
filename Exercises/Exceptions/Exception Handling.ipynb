{
 "cells": [
  {
   "cell_type": "markdown",
   "metadata": {},
   "source": [
    "[Source](https://www.python-course.eu/exception_handling.php)\n",
    "\n",
    "# Exception Handling\n",
    "\n",
    "An exception is an error that happens during the execution of a program. Exceptions are known to non-programmers as instances that do not conform to a general rule. The name \"exception\" in computer science has this meaning as well: It implies that the problem (the exception) doesn't occur frequently, i.e. the exception is the \"exception to the rule\". Exception handling is a construct in some programming languages to handle or deal with errors automatically. Many programming languages like C++, Objective-C, PHP, Java, Ruby, Python, and many others have built-in support for exception handling.\n",
    "\n",
    "Error handling is generally resolved by saving the state of execution at the moment the error occurred and interrupting the normal flow of the program to execute a special function or piece of code, which is known as the exception handler. Depending on the kind of error (\"division by zero\", \"file open error\" and so on) which had occurred, the error handler can \"fix\" the problem and the program can be continued afterwards with the previously saved data."
   ]
  },
  {
   "cell_type": "markdown",
   "metadata": {},
   "source": [
    "## Exception Handling in Python\n",
    "\n",
    "Exceptions handling in Python is very similar to Java. The code, which harbours the risk of an exception, is embedded in a try block. But whereas in Java exceptions are caught by catch clauses, we have statements introduced by an \"except\" keyword in Python. It's possible to \"create custom-made\" exceptions: With the raise statement it's possible to force a specified exception to occur.\n",
    "\n",
    "Let's look at a simple example. Assuming we want to ask the user to enter an integer number. If we use a raw_input(), the input will be a string, which we have to cast into an integer. If the input has not been a valid integer, we will generate (raise) a ValueError. We show this in the following interactive session:"
   ]
  },
  {
   "cell_type": "code",
   "execution_count": 6,
   "metadata": {},
   "outputs": [
    {
     "name": "stdout",
     "output_type": "stream",
     "text": [
      "Please enter a number: a\n"
     ]
    },
    {
     "ename": "ValueError",
     "evalue": "invalid literal for int() with base 10: 'a'",
     "output_type": "error",
     "traceback": [
      "\u001b[0;31m---------------------------------------------------\u001b[0m",
      "\u001b[0;31mValueError\u001b[0m        Traceback (most recent call last)",
      "\u001b[0;32m<ipython-input-6-ca7ea13788bf>\u001b[0m in \u001b[0;36m<module>\u001b[0;34m()\u001b[0m\n\u001b[1;32m      1\u001b[0m \u001b[0muser_input\u001b[0m \u001b[0;34m=\u001b[0m \u001b[0minput\u001b[0m\u001b[0;34m(\u001b[0m\u001b[0;34m\"Please enter a number: \"\u001b[0m\u001b[0;34m)\u001b[0m\u001b[0;34m\u001b[0m\u001b[0m\n\u001b[0;32m----> 2\u001b[0;31m \u001b[0mn\u001b[0m \u001b[0;34m=\u001b[0m \u001b[0mint\u001b[0m\u001b[0;34m(\u001b[0m\u001b[0muser_input\u001b[0m\u001b[0;34m)\u001b[0m\u001b[0;34m\u001b[0m\u001b[0m\n\u001b[0m",
      "\u001b[0;31mValueError\u001b[0m: invalid literal for int() with base 10: 'a'"
     ]
    }
   ],
   "source": [
    "user_input = input(\"Please enter a number: \")\n",
    "n = int(user_input)"
   ]
  },
  {
   "cell_type": "markdown",
   "metadata": {},
   "source": [
    "With the aid of exception handling, we can write robust code for reading an integer from input:"
   ]
  },
  {
   "cell_type": "code",
   "execution_count": null,
   "metadata": {
    "collapsed": true
   },
   "outputs": [],
   "source": [
    "while True:\n",
    "    try:\n",
    "        user_input = input(\"Please enter an integer: \")\n",
    "        n = int(user_input)\n",
    "    except ValueError:\n",
    "        print(\"No valid integer! Please try again ...\")\n",
    "print(\"Great, you successfully entered an integer!\")"
   ]
  },
  {
   "cell_type": "markdown",
   "metadata": {},
   "source": [
    "It's a loop, which breaks only, if a valid integer has been given. \n",
    "\n",
    "The example script works like this:\n",
    "\n",
    "The while loop is entered. The code within the try clause will be executed statement by statement. If no exception occurs during the execution, the execution will reach the break statement and the while loop will be left. If an exception occurs, i.e. in the casting of n, the rest of the try block will be skipped and the except clause will be executed. The raised error, in our case a ValueError, has to match one of the names after except. In our example only one, i.e. \"ValueError:\". After having printed the text of the print statement, the execution does another loop. It starts with a new input(). "
   ]
  },
  {
   "cell_type": "markdown",
   "metadata": {},
   "source": [
    "## Multiple Except Clauses\n",
    "\n",
    "A try statement may have more than one except clause for different exceptions. But at most one except clause will be executed.\n",
    "\n",
    "Our next example shows a try clause, in which we open a file for reading, read a line from this file and convert this line into an integer. There are at least two possible exceptions:\n",
    "\n",
    "* IOError\n",
    "* ValueError\n",
    "\n",
    "Just in case we have an additional unnamed except clause for an unexpected error:"
   ]
  },
  {
   "cell_type": "code",
   "execution_count": 15,
   "metadata": {},
   "outputs": [
    {
     "name": "stdout",
     "output_type": "stream",
     "text": [
      "code is now here\n"
     ]
    }
   ],
   "source": [
    "import sys\n",
    "\n",
    "try:\n",
    "    f = open('integers.txt')\n",
    "    s = f.readline()\n",
    "    i = int(s.strip())\n",
    "except IOError as e:\n",
    "    print(\"I/O error({0}): {1}\".format(e.errno, e.strerror))\n",
    "except ValueError:\n",
    "    print(\"No valid integer in line.\")\n",
    "except:\n",
    "    print(\"Unexpected error:\", sys.exc_info()[0])\n",
    "    raise"
   ]
  },
  {
   "cell_type": "markdown",
   "metadata": {},
   "source": [
    "The handling of the IOError in the previous example is of special interest. The IOError returns a tuple with an error number and a string with the error message, which we assign to the variables errno and strerror by \"except IOError as (errno, strerror)\". \n",
    "\n",
    "If we call the above script with a non-existing file, we get the message:"
   ]
  },
  {
   "cell_type": "code",
   "execution_count": 10,
   "metadata": {},
   "outputs": [
    {
     "name": "stdout",
     "output_type": "stream",
     "text": [
      "I/O error(2): No such file or directory\n"
     ]
    }
   ],
   "source": [
    "try:\n",
    "    f = open('integers2.txt')\n",
    "    s = f.readline()\n",
    "    i = int(s.strip())\n",
    "except IOError as e:\n",
    "    print(\"I/O error({0}): {1}\".format(e.errno, e.strerror))\n",
    "except ValueError:\n",
    "    print(\"No valid integer in line.\")\n",
    "except:\n",
    "    print(\"Unexpected error:\", sys.exc_info()[0])\n",
    "    raise"
   ]
  },
  {
   "cell_type": "markdown",
   "metadata": {},
   "source": [
    "And if the file integers.txt is not readable, e.g. if we don't have the permission to read it, we get the following message:\n",
    "\n",
    "```\n",
    "I/O error(13): Permission denied\n",
    "```"
   ]
  },
  {
   "cell_type": "markdown",
   "metadata": {},
   "source": [
    "An except clause may name more than one exception in a tuple of error names, as we see in the following example:"
   ]
  },
  {
   "cell_type": "code",
   "execution_count": 14,
   "metadata": {},
   "outputs": [
    {
     "name": "stdout",
     "output_type": "stream",
     "text": [
      "An I/O error or a ValueError occurred\n"
     ]
    }
   ],
   "source": [
    "try:\n",
    "    f = open('integers.txt')\n",
    "    s = f.readline()\n",
    "    i = int(s.strip())\n",
    "except (IOError, ValueError):\n",
    "    print(\"An I/O error or a ValueError occurred\")\n",
    "except:\n",
    "    print(\"An unexpected error occurred\")\n",
    "    raise"
   ]
  },
  {
   "cell_type": "markdown",
   "metadata": {},
   "source": [
    "## Clean-up Actions (try ... finally)\n",
    "\n",
    "So far the try statement had always been paired with except clauses. But there is another way to use it as well. The try statement can be followed by a finally clause. Finally clauses are called clean-up or termination clauses, because they must be executed under all circumstances, i.e. a \"finally\" clause is always executed regardless if an exception occurred in a try block or not. \n",
    "\n",
    "A simple example to demonstrate the finally clause:"
   ]
  },
  {
   "cell_type": "code",
   "execution_count": 16,
   "metadata": {},
   "outputs": [
    {
     "name": "stdout",
     "output_type": "stream",
     "text": [
      "Your number: z\n",
      "There may or may not have been an exception.\n"
     ]
    },
    {
     "ename": "ValueError",
     "evalue": "could not convert string to float: 'z'",
     "output_type": "error",
     "traceback": [
      "\u001b[0;31m---------------------------------------------------------------------------\u001b[0m",
      "\u001b[0;31mValueError\u001b[0m                                Traceback (most recent call last)",
      "\u001b[0;32m<ipython-input-16-be9c74d292dc>\u001b[0m in \u001b[0;36m<module>\u001b[0;34m()\u001b[0m\n\u001b[1;32m      1\u001b[0m \u001b[0;32mtry\u001b[0m\u001b[0;34m:\u001b[0m\u001b[0;34m\u001b[0m\u001b[0m\n\u001b[0;32m----> 2\u001b[0;31m     \u001b[0mx\u001b[0m \u001b[0;34m=\u001b[0m \u001b[0mfloat\u001b[0m\u001b[0;34m(\u001b[0m\u001b[0minput\u001b[0m\u001b[0;34m(\u001b[0m\u001b[0;34m\"Your number: \"\u001b[0m\u001b[0;34m)\u001b[0m\u001b[0;34m)\u001b[0m\u001b[0;34m\u001b[0m\u001b[0m\n\u001b[0m\u001b[1;32m      3\u001b[0m     \u001b[0minverse\u001b[0m \u001b[0;34m=\u001b[0m \u001b[0;36m1.0\u001b[0m \u001b[0;34m/\u001b[0m \u001b[0mx\u001b[0m\u001b[0;34m\u001b[0m\u001b[0m\n\u001b[1;32m      4\u001b[0m \u001b[0;32mfinally\u001b[0m\u001b[0;34m:\u001b[0m\u001b[0;34m\u001b[0m\u001b[0m\n\u001b[1;32m      5\u001b[0m     \u001b[0mprint\u001b[0m\u001b[0;34m(\u001b[0m\u001b[0;34m\"There may or may not have been an exception.\"\u001b[0m\u001b[0;34m)\u001b[0m\u001b[0;34m\u001b[0m\u001b[0m\n",
      "\u001b[0;31mValueError\u001b[0m: could not convert string to float: 'z'"
     ]
    }
   ],
   "source": [
    "try:\n",
    "    x = float(input(\"Your number: \"))\n",
    "    inverse = 1.0 / x\n",
    "finally:\n",
    "    print(\"There may or may not have been an exception.\")\n",
    "print(\"The inverse: \", inverse)"
   ]
  },
  {
   "cell_type": "markdown",
   "metadata": {},
   "source": [
    "Let's look at the output of the previous script, if we first input a correct number and after this a string, which is raising an error:"
   ]
  },
  {
   "cell_type": "markdown",
   "metadata": {},
   "source": [
    "## Combining try, except and finally\n",
    "\n",
    "\"finally\" and \"except\" can be used together for the same try block, as can be seen the following Python example:"
   ]
  },
  {
   "cell_type": "code",
   "execution_count": 19,
   "metadata": {},
   "outputs": [
    {
     "name": "stdout",
     "output_type": "stream",
     "text": [
      "Your number: 7,2\n",
      "You should have given either an int or a float\n",
      "There may or may not have been an exception.\n"
     ]
    }
   ],
   "source": [
    "try:\n",
    "    x = float(input(\"Your number: \"))\n",
    "    inverse = 1.0 / x\n",
    "except ValueError:\n",
    "    print(\"You should have given either an int or a float\")\n",
    "except ZeroDivisionError:\n",
    "    print(\"Infinity\")\n",
    "finally:\n",
    "    print(\"There may or may not have been an exception.\")"
   ]
  },
  {
   "cell_type": "markdown",
   "metadata": {},
   "source": [
    "## else Clause\n",
    "\n",
    "The try ... except statement has an optional else clause. An else block has to be positioned after all the except clauses. An else clause will be executed if the try clause doesn't raise an exception. \n",
    "\n",
    "The following example opens a file and reads in all the lines into a list called \"text\":"
   ]
  },
  {
   "cell_type": "code",
   "execution_count": 30,
   "metadata": {},
   "outputs": [
    {
     "name": "stdout",
     "output_type": "stream",
     "text": [
      "cannot open integers2.txt\n"
     ]
    }
   ],
   "source": [
    "import sys\n",
    "file_name = 'integers.txt'\n",
    "text = []\n",
    "try:\n",
    "    fh = open(file_name, 'r')\n",
    "    text = fh.readlines()\n",
    "    fh.close()\n",
    "except IOError:\n",
    "    print('cannot open', file_name)\n",
    "\n",
    "if text:\n",
    "    print(text[4])"
   ]
  },
  {
   "cell_type": "markdown",
   "metadata": {},
   "source": [
    "The previous example is nearly the same as:"
   ]
  },
  {
   "cell_type": "code",
   "execution_count": 29,
   "metadata": {},
   "outputs": [
    {
     "name": "stdout",
     "output_type": "stream",
     "text": [
      "cannot open integers2.txt\n"
     ]
    }
   ],
   "source": [
    "file_name = 'integers.txt'\n",
    "text = []\n",
    "try:\n",
    "    fh = open(file_name, 'r')\n",
    "except IOError:\n",
    "    print('cannot open', file_name)\n",
    "else:\n",
    "    text = fh.readlines()\n",
    "    fh.close()\n",
    "\n",
    "if text:\n",
    "    print(text[4])"
   ]
  },
  {
   "cell_type": "markdown",
   "metadata": {},
   "source": [
    "The main difference is that in the first case, all statements of the try block can lead to the same error message \"cannot open ...\", which is wrong, if fh.close() or fh.readlines() raise an error. "
   ]
  },
  {
   "cell_type": "markdown",
   "metadata": {},
   "source": [
    "# The assert Statement\n",
    "The assert statement is intended for debugging statements. It can be seen as an abbreviated notation for a conditional raise statement, i.e. an exception is only raised, if a certain condition is not True. \n",
    "\n",
    "Without using the assert statement, we can formulate it like this in Python: \n",
    "\n",
    "``` python\n",
    "if not <some_test>:\n",
    "        raise AssertionError(<message>)\n",
    "```\n",
    "\n",
    "The following code, using the assert statement, is semantically equivalent, i.e. has the same meaning:\n",
    "\n",
    "``` python\n",
    "assert <some_test>, <message>\n",
    "```\n",
    "\n",
    "The line above can be \"read\" as: If <some_test> evaluates to False, an exception is raised and <message> will be output. \n",
    "\n",
    "Example: "
   ]
  },
  {
   "cell_type": "code",
   "execution_count": 19,
   "metadata": {
    "collapsed": true
   },
   "outputs": [],
   "source": [
    "x = 2\n",
    "y = 3\n",
    "assert x < y, \"x has to be smaller than y\""
   ]
  },
  {
   "cell_type": "code",
   "execution_count": null,
   "metadata": {
    "collapsed": true
   },
   "outputs": [],
   "source": []
  },
  {
   "cell_type": "code",
   "execution_count": 18,
   "metadata": {},
   "outputs": [
    {
     "ename": "AssertionError",
     "evalue": "x has to be smaller than y",
     "output_type": "error",
     "traceback": [
      "\u001b[0;31m---------------------------------------------------\u001b[0m",
      "\u001b[0;31mAssertionError\u001b[0m    Traceback (most recent call last)",
      "\u001b[0;32m<ipython-input-18-d4d7cbf40c0f>\u001b[0m in \u001b[0;36m<module>\u001b[0;34m()\u001b[0m\n\u001b[1;32m      1\u001b[0m \u001b[0mx\u001b[0m \u001b[0;34m=\u001b[0m \u001b[0;36m5\u001b[0m\u001b[0;34m\u001b[0m\u001b[0m\n\u001b[1;32m      2\u001b[0m \u001b[0my\u001b[0m \u001b[0;34m=\u001b[0m \u001b[0;36m3\u001b[0m\u001b[0;34m\u001b[0m\u001b[0m\n\u001b[0;32m----> 3\u001b[0;31m \u001b[0;32massert\u001b[0m \u001b[0mx\u001b[0m \u001b[0;34m<\u001b[0m \u001b[0my\u001b[0m\u001b[0;34m,\u001b[0m \u001b[0;34m\"x has to be smaller than y\"\u001b[0m\u001b[0;34m\u001b[0m\u001b[0m\n\u001b[0m",
      "\u001b[0;31mAssertionError\u001b[0m: x has to be smaller than y"
     ]
    }
   ],
   "source": [
    "x = 5\n",
    "y = 3\n",
    "assert x < y, \"x has to be smaller than y\""
   ]
  },
  {
   "cell_type": "code",
   "execution_count": 28,
   "metadata": {
    "collapsed": true
   },
   "outputs": [],
   "source": [
    "def get_current_temp():\n",
    "    return 49\n",
    "#     return 200 # bug"
   ]
  },
  {
   "cell_type": "code",
   "execution_count": 29,
   "metadata": {
    "collapsed": true
   },
   "outputs": [],
   "source": [
    "max_temp = 180\n",
    "current_temp = get_current_temp() \n",
    "assert current_temp < max_temp, \"current temp %d exceeds max %d\" % (current_temp, max_temp)\n"
   ]
  },
  {
   "cell_type": "markdown",
   "metadata": {},
   "source": [
    "Define your own customm [exceptions](https://www.programiz.com/python-programming/user-defined-exception) "
   ]
  },
  {
   "cell_type": "code",
   "execution_count": null,
   "metadata": {
    "collapsed": true
   },
   "outputs": [],
   "source": []
  }
 ],
 "metadata": {
  "kernelspec": {
   "display_name": "Python 3",
   "language": "python",
   "name": "python3"
  },
  "language_info": {
   "codemirror_mode": {
    "name": "ipython",
    "version": 3
   },
   "file_extension": ".py",
   "mimetype": "text/x-python",
   "name": "python",
   "nbconvert_exporter": "python",
   "pygments_lexer": "ipython3",
   "version": "3.6.3"
  }
 },
 "nbformat": 4,
 "nbformat_minor": 2
}
