{
 "cells": [
  {
   "cell_type": "markdown",
   "metadata": {},
   "source": [
    "[Source](https://www.codementor.io/aviaryan/downloading-files-from-urls-in-python-77q3bs0un)\n",
    "\n",
    "# Downloading Files in Python\n",
    "\n",
    "This notebook demonstrates how to efficiently/correctly download files from URLs using Python.\n",
    "\n",
    "The example uses the ```requests``` library, but there are many other libraries that can achieve the same thing with diffent syntax\n",
    "\n",
    "Let's start with baby steps on how to download a file using ```request```"
   ]
  },
  {
   "cell_type": "code",
   "execution_count": 12,
   "metadata": {},
   "outputs": [],
   "source": [
    "import requests\n",
    "\n",
    "url = 'http://google.com/favicon.ico'\n",
    "response = requests.get(url, allow_redirects=True)\n",
    "file_name = 'google.ico'\n",
    "file_mode = 'wb'\n",
    "file = open(file_name, file_mode)\n",
    "file.write(response.content)\n",
    "file.close()"
   ]
  },
  {
   "cell_type": "code",
   "execution_count": 3,
   "metadata": {},
   "outputs": [
    {
     "data": {
      "text/plain": [
       "'/Users/kolobj/Google Drive/Python/Exercises/Files'"
      ]
     },
     "execution_count": 3,
     "metadata": {},
     "output_type": "execute_result"
    }
   ],
   "source": [
    "import os\n",
    "os.getcwd()"
   ]
  },
  {
   "cell_type": "markdown",
   "metadata": {},
   "source": [
    "The above code will download the media at <http://google.com/favicon.ico> and save it as google.ico.\n",
    "\n",
    "Now let's take another example where url is <https://www.youtube.com/watch?v=9bZkp7q19f0>.\n",
    "\n",
    "What do you think will happen if the above code is used to download it?\n",
    "\n",
    "If you said that a HTML page will be downloaded, you are spot on. \n",
    "\n",
    "Headers usually contain a **Content-Type** parameter which tells us about the type of data the url is linking to. You can inspect the headers to determine if you'd like to save the content."
   ]
  },
  {
   "cell_type": "code",
   "execution_count": 20,
   "metadata": {},
   "outputs": [
    {
     "name": "stdout",
     "output_type": "stream",
     "text": [
      "image/jpeg\n"
     ]
    }
   ],
   "source": [
    "# a naive way\n",
    "# url = 'https://www.youtube.com/watch?v=9bZkp7q19f0'\n",
    "# url = 'http://google.com/favicon.ico'\n",
    "# url = 'https://www.andrew.cmu.edu/user/lakoglu/postdoc@Heinz_files/image001.jpg'\n",
    "url = 'https://automatetheboringstuff.com/files/rj.txt'\n",
    "response = requests.get(url, allow_redirects=True)\n",
    "print(response.headers.get('content-type'))"
   ]
  },
  {
   "cell_type": "markdown",
   "metadata": {},
   "source": [
    "It works but is not the optimum way to do so as it involves downloading the file for checking the header.\n",
    "\n",
    "So if the file is large, this will do nothing but waste bandwidth.\n",
    "\n",
    "If you're concerned about bandwidth you can fetch just the header and skip over resources that don't match the content you're trying to download."
   ]
  },
  {
   "cell_type": "code",
   "execution_count": 25,
   "metadata": {
    "collapsed": true
   },
   "outputs": [],
   "source": [
    "# define a method is_downloadable that checks for specific content types\n",
    "def is_downloadable(url):\n",
    "    \"\"\"\n",
    "    Does the url contain a downloadable resource\n",
    "    \"\"\"\n",
    "    h = requests.head(url, allow_redirects=True)\n",
    "    header = h.headers\n",
    "    content_type = header.get('content-type')\n",
    "    if 'text' in content_type.lower():\n",
    "        return False\n",
    "    if 'html' in content_type.lower():\n",
    "        return False\n",
    "    return True"
   ]
  },
  {
   "cell_type": "code",
   "execution_count": 23,
   "metadata": {},
   "outputs": [
    {
     "name": "stdout",
     "output_type": "stream",
     "text": [
      "False\n"
     ]
    }
   ],
   "source": [
    "print(is_downloadable('https://www.youtube.com/watch?v=9bZkp7q19f0'))"
   ]
  },
  {
   "cell_type": "code",
   "execution_count": 24,
   "metadata": {},
   "outputs": [
    {
     "name": "stdout",
     "output_type": "stream",
     "text": [
      "True\n"
     ]
    }
   ],
   "source": [
    "print(is_downloadable('http://google.com/favicon.ico'))"
   ]
  },
  {
   "cell_type": "markdown",
   "metadata": {},
   "source": [
    "To restrict download by file size, we can get the filesize from the **Content-Length** header and then do suitable comparisons."
   ]
  },
  {
   "cell_type": "code",
   "execution_count": 44,
   "metadata": {
    "collapsed": true
   },
   "outputs": [],
   "source": [
    "# define a method is_downloadable that checks for specific content types with a max size\n",
    "def is_downloadable(url, max_length=None): \n",
    "    \"\"\"\n",
    "    Does the url contain a downloadable resource\n",
    "    \"\"\"\n",
    "    h = requests.head(url, allow_redirects=True)\n",
    "    header = h.headers\n",
    "    \n",
    "    content_length = header.get('content-length', None)\n",
    "    print('content-length: {0}, max_length: {1}'.format(content_length, max_length))\n",
    "    if max_length and content_length and int(content_length) > max_length:  \n",
    "        return False\n",
    "    \n",
    "    content_type = header.get('content-type')\n",
    "    if 'text' in content_type.lower():\n",
    "        return False\n",
    "    if 'html' in content_type.lower():\n",
    "        return False\n",
    "    return True\n"
   ]
  },
  {
   "cell_type": "markdown",
   "metadata": {},
   "source": [
    "So using the above function, we can skip downloading urls which don't link to media."
   ]
  },
  {
   "cell_type": "code",
   "execution_count": 45,
   "metadata": {},
   "outputs": [
    {
     "name": "stdout",
     "output_type": "stream",
     "text": [
      "content-length: 9399746, max_length: None\n",
      "True\n",
      "content-length: 9399746, max_length: 409600\n",
      "False\n",
      "content-length: 9399746, max_length: 9400000\n",
      "True\n"
     ]
    }
   ],
   "source": [
    "url = 'https://www.heinz.cmu.edu/heinz-shared/_files/img/life-at-heinz-college-images/hamburg-hall-media-component-image.jpg'\n",
    "print(is_downloadable(url))\n",
    "print(is_downloadable(url, max_length=2048 * 200)) # 200 mb\n",
    "print(is_downloadable(url, max_length=9400000)) # 200 mb"
   ]
  },
  {
   "cell_type": "markdown",
   "metadata": {},
   "source": [
    "## Getting filename from URL\n",
    "\n",
    "We can parse the url to get the filename.\n",
    "Example - <http://aviaryan.in/images/profile.png>.\n",
    "\n",
    "To extract the filename from the above URL we can write a routine which fetches the last string after backslash (/)."
   ]
  },
  {
   "cell_type": "code",
   "execution_count": 46,
   "metadata": {},
   "outputs": [
    {
     "name": "stdout",
     "output_type": "stream",
     "text": [
      "profile.png\n"
     ]
    }
   ],
   "source": [
    "url = 'http://aviaryan.in/images/profile.png'\n",
    "if url.find('/'):\n",
    "    print(url.rsplit('/', 1)[1])"
   ]
  },
  {
   "cell_type": "code",
   "execution_count": 48,
   "metadata": {},
   "outputs": [
    {
     "name": "stdout",
     "output_type": "stream",
     "text": [
      "['http://aviaryan.in/images', 'profile.png'] profile.png\n"
     ]
    }
   ],
   "source": [
    "url = 'http://aviaryan.in/images/profile.png'\n",
    "if url.find('/'):\n",
    "    parts = url.rsplit('/', 1)\n",
    "    name = parts[1]\n",
    "    print(parts, name)"
   ]
  },
  {
   "cell_type": "code",
   "execution_count": 49,
   "metadata": {},
   "outputs": [
    {
     "name": "stdout",
     "output_type": "stream",
     "text": [
      "['http:', '', 'aviaryan.in', 'images', 'profile.png'] profile.png\n"
     ]
    }
   ],
   "source": [
    "url = 'http://aviaryan.in/images/profile.png'\n",
    "if url.find('/'):\n",
    "    parts = url.split('/')\n",
    "    name = parts[-1]\n",
    "    print(parts, name)"
   ]
  },
  {
   "cell_type": "markdown",
   "metadata": {},
   "source": [
    "This will be give the filename in some cases correctly. However, there are times when the filename information is not present in the url.\n",
    "\n",
    "Example, something like <http://url.com/download>. In that case, the **Content-Disposition** header will contain the filename information.\n",
    "\n",
    "Here is how to fetch it."
   ]
  },
  {
   "cell_type": "code",
   "execution_count": 53,
   "metadata": {
    "collapsed": true
   },
   "outputs": [],
   "source": [
    "import re\n",
    "\n",
    "def get_filename_from_cd(content_disposition):\n",
    "    \"\"\"\n",
    "    Get filename from content-disposition\n",
    "    \"\"\"\n",
    "    if not content_disposition:\n",
    "        return None\n",
    "    fname = re.findall('filename=(.+)', content_disposition)\n",
    "    if len(fname) == 0:\n",
    "        return None\n",
    "    return fname[0]"
   ]
  },
  {
   "cell_type": "code",
   "execution_count": 57,
   "metadata": {},
   "outputs": [
    {
     "name": "stdout",
     "output_type": "stream",
     "text": [
      "content-disposition: inline; filename=\"Carnegie-Mellon-Heinz-College-Logo.png\"\n",
      "filename: \"Carnegie-Mellon-Heinz-College-Logo.png\"\n"
     ]
    }
   ],
   "source": [
    "url = 'https://www.atkearney.com/documents/10192/565528/Carnegie-Mellon-Heinz-College-Logo.png/f68f4055-317c-4c29-affc-ff44baf9b84c?t=1472465722965'\n",
    "# url = 'https://c1.staticflickr.com/1/326/20106051581_04627c3af2_b.jpg'\n",
    "response = requests.get(url, allow_redirects=True)\n",
    "# print(response.headers)\n",
    "content_disposition = response.headers.get('content-disposition')\n",
    "print('content-disposition: {0}'.format(content_disposition))\n",
    "filename = get_filename_from_cd(content_disposition)\n",
    "print('filename: {0}'.format(filename))\n",
    "# open(filename, 'wb').write(r.content)"
   ]
  },
  {
   "cell_type": "code",
   "execution_count": null,
   "metadata": {
    "collapsed": true
   },
   "outputs": [],
   "source": []
  }
 ],
 "metadata": {
  "kernelspec": {
   "display_name": "Python 3",
   "language": "python",
   "name": "python3"
  },
  "language_info": {
   "codemirror_mode": {
    "name": "ipython",
    "version": 3
   },
   "file_extension": ".py",
   "mimetype": "text/x-python",
   "name": "python",
   "nbconvert_exporter": "python",
   "pygments_lexer": "ipython3",
   "version": "3.6.3"
  }
 },
 "nbformat": 4,
 "nbformat_minor": 2
}
