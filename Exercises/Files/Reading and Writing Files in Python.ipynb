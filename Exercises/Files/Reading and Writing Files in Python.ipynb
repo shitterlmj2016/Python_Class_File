{
 "cells": [
  {
   "cell_type": "markdown",
   "metadata": {},
   "source": [
    "[Source](http://www.pythonforbeginners.com/files/reading-and-writing-files-in-python)\n",
    "\n",
    "## Overview\n",
    "\n",
    "When you’re working with Python, you don’t need to import a library in order to read and write files. It’s handled natively in the language, albeit in a unique manner.\n",
    "\n",
    "The first thing you’ll need to do is use Python’s built-in open function to get a file object. \n",
    "\n",
    "The open function opens a file. It’s simple. \n",
    "\n",
    "When you use the open function, it returns something called a file object. File objects contain methods and attributes that can be used to collect information about the file you opened. They can also be used to manipulate said file.\n",
    "\n",
    "For example, the mode attribute of a file object tells you which mode a file was opened in. And the name attribute tells you the name of the file that the file object has opened. \n",
    "\n",
    "You must understand that a file and file object are two wholly separate – yet related – things."
   ]
  },
  {
   "cell_type": "markdown",
   "metadata": {},
   "source": [
    "## File Types\n",
    "\n",
    "What you may know as a file is slightly different in Python. \n",
    "\n",
    "In Windows, for example, a file can be any item manipulated, edited or created by the user/OS. That means files can be images, text documents, executables, and much more. Most files are organized by keeping them in individual folders. \n",
    "\n",
    "In Python, a file is categorized as either text or binary, and the difference between the two file types is important. \n",
    "\n",
    "Text files are structured as a sequence of lines, where each line includes a sequence of characters. This is what you know as code or syntax. \n",
    "\n",
    "Each line is terminated with a special character, called the EOL or End of Line character. There are several types, but the most common is the comma {,} or newline character. It ends the current line and tells the interpreter a new one has begun. \n",
    "\n",
    "A backslash character can also be used, and it tells the interpreter that the next character – following the slash – should be treated as a new line. This character is useful when you don’t want to start a new line in the text itself but in the code. \n",
    "\n",
    "A binary file is any type of file that is not a text file. Because of their nature, binary files can only be processed by an application that know or understand the file’s structure. In other words, they must be applications that can read and interpret binary."
   ]
  },
  {
   "cell_type": "markdown",
   "metadata": {},
   "source": [
    "## Open ( ) Function\n",
    "\n",
    "In order to open a file for writing or use in Python, you must rely on the built-in ```open()``` function. \n",
    "\n",
    "As explained above, \n",
    "\n",
    "``` python\n",
    "open()\n",
    "``` \n",
    "\n",
    "will return a file object, so it is most commonly used with two arguments.  \n",
    "\n",
    "An argument is nothing more than a value that has been provided to a function, which is relayed when you call it. So, for instance, if we declare the name of a file as *“Test File,”* that name would be considered an argument. \n",
    "\n",
    "The syntax to open a file object in Python is: \n",
    "\n",
    "``` python\n",
    "file_object = open(\"filename\", \"mode\")\n",
    "```\n",
    "\n",
    "where **file_object** is the variable to add the file object. The second argument you see – mode – tells the interpreter and developer which way the file will be used.\n",
    "\n",
    "Additional information on modes can be found [here](https://docs.python.org/3/library/functions.html#open) and [here](https://www.tutorialspoint.com/python/python_files_io.htm)"
   ]
  },
  {
   "cell_type": "code",
   "execution_count": 1,
   "metadata": {
    "collapsed": true
   },
   "outputs": [],
   "source": [
    "f = open('readme.txt', 'r')"
   ]
  },
  {
   "cell_type": "markdown",
   "metadata": {},
   "source": [
    "### Mode\n",
    "\n",
    "Including a mode argument is optional because a default value of ‘r’ will be assumed if it is omitted. The ‘r’ value stands for read mode, which is just one of many. \n",
    "\n",
    "The modes are: \n",
    "\n",
    "‘r’ – Read mode which is used when the file is only being read \n",
    "‘w’ – Write mode which is used to edit and write new information to the file (any existing files with the same name will be erased when this mode is activated) \n",
    "‘a’ – Appending mode, which is used to add new data to the end of the file; that is new information is automatically amended to the end \n",
    "‘r+’ – Special read and write mode, which is used to handle both actions when working with a file \n",
    "\n",
    "So, let’s take a look at a quick example. \n",
    "\n",
    "``` python\n",
    "f = open(\"workfile\", \"w\") \n",
    "print(f)\n",
    "```\n",
    "\n",
    "This snippet opens the file named “workfile” in writing mode so that we can make changes to it. The current information stored within the file is also displayed – or printed – for us to view. \n",
    "\n",
    "Once this has been done, you can move on to call the objects functions. The two most common functions are read and write."
   ]
  },
  {
   "cell_type": "code",
   "execution_count": 2,
   "metadata": {},
   "outputs": [
    {
     "name": "stdout",
     "output_type": "stream",
     "text": [
      "<_io.TextIOWrapper name='workfile' mode='w' encoding='UTF-8'> <class '_io.TextIOWrapper'>\n"
     ]
    }
   ],
   "source": [
    "f = open(\"workfile\", \"w\") \n",
    "print(f, type(f))"
   ]
  },
  {
   "cell_type": "markdown",
   "metadata": {},
   "source": [
    "## Create a text file\n",
    "\n",
    "To get more familiar with text files in Python, let’s create our own and do some additional exercises. \n",
    "\n",
    "Using a simple text editor, let’s create a file. You can name it anything you like, and it’s better to use something you’ll identify with. \n",
    "\n",
    "For the purpose of this tutorial, however, we are going to call it *“testfile.txt”*.\n",
    "\n",
    "Just create the file and leave it blank. \n",
    "\n",
    "To manipulate the file, write the following in your Python environment."
   ]
  },
  {
   "cell_type": "code",
   "execution_count": 5,
   "metadata": {
    "collapsed": true
   },
   "outputs": [],
   "source": [
    "file = open(\"testfile.txt\", \"w\") \n",
    " \n",
    "file.write(\"Hello World.\")\n",
    "file.write(\"This is our new text file.\") \n",
    "file.write(\"and this is another line.\")\n",
    "file.write(\"Why? Because we can.\")\n",
    "\n",
    "file.close() "
   ]
  },
  {
   "cell_type": "code",
   "execution_count": 6,
   "metadata": {},
   "outputs": [
    {
     "name": "stdout",
     "output_type": "stream",
     "text": [
      "Hello World.This is our new text file.and this is another line.Why? Because we can."
     ]
    }
   ],
   "source": [
    "%cat testfile.txt "
   ]
  },
  {
   "cell_type": "code",
   "execution_count": 7,
   "metadata": {
    "collapsed": true
   },
   "outputs": [],
   "source": [
    "file = open(\"testfile.txt\", \"w\") \n",
    " \n",
    "file.write(\"Hello World.\\n\")\n",
    "file.write(\"This is our new text file.\\n\") \n",
    "file.write(\"and this is another line.\\n\")\n",
    "file.write(\"Why? Because we can.\\n\")\n",
    "\n",
    "file.close() "
   ]
  },
  {
   "cell_type": "markdown",
   "metadata": {},
   "source": [
    "Naturally, if you open the text file – or look at it – using Python you will see only the text we told the interpreter to add."
   ]
  },
  {
   "cell_type": "code",
   "execution_count": 8,
   "metadata": {},
   "outputs": [
    {
     "name": "stdout",
     "output_type": "stream",
     "text": [
      "Hello World.\r\n",
      "This is our new text file.\r\n",
      "and this is another line.\r\n",
      "Why? Because we can.\r\n"
     ]
    }
   ],
   "source": [
    "%cat testfile.txt "
   ]
  },
  {
   "cell_type": "code",
   "execution_count": 11,
   "metadata": {
    "collapsed": true
   },
   "outputs": [],
   "source": [
    "file = open(\"testfile.txt\", \"w\") \n",
    " \n",
    "file.write(\"first_name,last_name,age\\n\")\n",
    "file.write(\"brian,kolowitz,28\\n\") \n",
    "file.write(\"michael,jordan,54\\n\")\n",
    "file.write(\"tom,jones,99\\n\")\n",
    "\n",
    "file.close() "
   ]
  },
  {
   "cell_type": "code",
   "execution_count": 12,
   "metadata": {},
   "outputs": [
    {
     "name": "stdout",
     "output_type": "stream",
     "text": [
      "first_name,last_name,age\r\n",
      "brian,kolowitz,28\r\n",
      "michael,jordan,54\r\n",
      "tom,jones,99\r\n"
     ]
    }
   ],
   "source": [
    "%cat testfile.txt "
   ]
  },
  {
   "cell_type": "markdown",
   "metadata": {},
   "source": [
    "## Reading a Text File in Python\n",
    "\n",
    "There are actually a number of ways to read a text file in Python, not just one. \n",
    "\n",
    "If you need to extract a string that contains all characters in the file, you can use the following method: \n",
    "\n",
    "``` python\n",
    "file.read() \n",
    "```\n",
    "\n",
    "The full code to work with this method will look something like this: "
   ]
  },
  {
   "cell_type": "code",
   "execution_count": 13,
   "metadata": {},
   "outputs": [
    {
     "name": "stdout",
     "output_type": "stream",
     "text": [
      "first_name,last_name,age\n",
      "brian,kolowitz,28\n",
      "michael,jordan,54\n",
      "tom,jones,99\n",
      "\n"
     ]
    }
   ],
   "source": [
    "file = open(\"testfile.txt\", \"r\") \n",
    "file_content = file.read()\n",
    "print(file_content)"
   ]
  },
  {
   "cell_type": "markdown",
   "metadata": {},
   "source": [
    "The output of that command will display all the text inside the file, the same text we told the interpreter to add earlier. There’s no need to write it all out again, but if you must know, everything will be shown except for the \n",
    "\n",
    "``` bash\n",
    "$ cat testfile.txt\n",
    "```\n",
    "\n",
    "line. \n",
    "\n",
    "Another way to read a file is to call a certain number of characters.  \n",
    "\n",
    "For example, with the following code the interpreter will read the first five characters of stored data and return it as a string: "
   ]
  },
  {
   "cell_type": "code",
   "execution_count": 22,
   "metadata": {},
   "outputs": [
    {
     "name": "stdout",
     "output_type": "stream",
     "text": [
      "pos: 0, content: first\n",
      "pos: 5, content: _name,last\n",
      "pos: 15, content: _na\n",
      "18\n"
     ]
    }
   ],
   "source": [
    "file = open(\"testfile.txt\", \"r\")\n",
    "print(\"pos: {0}, content: {1}\".format(file.tell(), file.read(5)))\n",
    "print(\"pos: {0}, content: {1}\".format(file.tell(), file.read(10)))\n",
    "print(\"pos: {0}, content: {1}\".format(file.tell(), file.read(3)))\n",
    "print(file.tell())"
   ]
  },
  {
   "cell_type": "markdown",
   "metadata": {},
   "source": [
    "Notice how we’re using the same file.read() method, only this time we specify the number of characters to process? "
   ]
  },
  {
   "cell_type": "markdown",
   "metadata": {},
   "source": [
    "If you want to read a file line by line – as opposed to pulling the content of the entire file at once – then you use the \n",
    "\n",
    "``` python \n",
    "readline() \n",
    "```\n",
    "\n",
    "function. \n",
    "\n",
    "Why would you use something like this? \n",
    "\n",
    "Let’s say you only want to see the first line of the file – or the third. You would execute the readline() function as many times as possible to get the data you were looking for. \n",
    "\n",
    "Each time you run the method, it will return a string of characters that contains a single line of information from the file.\n",
    "\n",
    "But what if we wanted to return every line in the file, properly separated? You would use the same function, only in a new form. This is called the \n",
    "\n",
    "``` python \n",
    "file.readlines()\n",
    "```\n",
    "\n",
    "function. "
   ]
  },
  {
   "cell_type": "code",
   "execution_count": 23,
   "metadata": {},
   "outputs": [
    {
     "name": "stdout",
     "output_type": "stream",
     "text": [
      "['first_name,last_name,age\\n', 'brian,kolowitz,28\\n', 'michael,jordan,54\\n', 'tom,jones,99\\n']\n"
     ]
    }
   ],
   "source": [
    "file = open(\"testfile.txt\", \"r\")\n",
    "lines = file.readlines()\n",
    "print(lines)"
   ]
  },
  {
   "cell_type": "markdown",
   "metadata": {},
   "source": [
    "Notice how each line is separated accordingly? Note that this is not the ideal way to show users the content in a file. But it’s great when you want to collect information quickly for personal use during development or recall.\n",
    "\n",
    "We could grab the 3rd line like this:"
   ]
  },
  {
   "cell_type": "code",
   "execution_count": 24,
   "metadata": {},
   "outputs": [
    {
     "name": "stdout",
     "output_type": "stream",
     "text": [
      "michael,jordan,54\n",
      "\n"
     ]
    }
   ],
   "source": [
    "print(lines[2])"
   ]
  },
  {
   "cell_type": "markdown",
   "metadata": {},
   "source": [
    "## Looping over a file object\n",
    "\n",
    "When you want to read – or return – all the lines from a file in a more memory efficient, and fast manner, you can use the loop over method. The advantage to using this method is that the related code is both simple and easy to read. "
   ]
  },
  {
   "cell_type": "code",
   "execution_count": 25,
   "metadata": {},
   "outputs": [
    {
     "name": "stdout",
     "output_type": "stream",
     "text": [
      "first_name,last_name,age\n",
      "\n",
      "brian,kolowitz,28\n",
      "\n",
      "michael,jordan,54\n",
      "\n",
      "tom,jones,99\n",
      "\n"
     ]
    }
   ],
   "source": [
    "file = open(\"testfile.txt\", \"r\") \n",
    "for line in file: \n",
    "    print(line)"
   ]
  },
  {
   "cell_type": "code",
   "execution_count": 29,
   "metadata": {},
   "outputs": [
    {
     "name": "stdout",
     "output_type": "stream",
     "text": [
      "First: first_name, Last: last_name, Age: age\n",
      "\n",
      "First: brian, Last: kolowitz, Age: 28\n",
      "\n",
      "First: michael, Last: jordan, Age: 54\n",
      "\n",
      "First: tom, Last: jones, Age: 99\n",
      "\n"
     ]
    }
   ],
   "source": [
    "# print the ages\n",
    "file = open(\"testfile.txt\", \"r\") \n",
    "for line in file: \n",
    "    parts = line.split(',')\n",
    "    first_name = parts[0]\n",
    "    last_name = parts[1]\n",
    "    age = parts[2]\n",
    "    print(\"First: {0}, Last: {1}, Age: {2}\".format(first_name, last_name, age))"
   ]
  },
  {
   "cell_type": "code",
   "execution_count": 30,
   "metadata": {},
   "outputs": [
    {
     "name": "stdout",
     "output_type": "stream",
     "text": [
      "0 first_name,last_name,age\n",
      "\n",
      "1 brian,kolowitz,28\n",
      "\n",
      "2 michael,jordan,54\n",
      "\n",
      "3 tom,jones,99\n",
      "\n"
     ]
    }
   ],
   "source": [
    "file = open(\"testfile.txt\", \"r\") \n",
    "for index, line in enumerate(file): \n",
    "    print(index, line)"
   ]
  },
  {
   "cell_type": "code",
   "execution_count": 34,
   "metadata": {},
   "outputs": [
    {
     "name": "stdout",
     "output_type": "stream",
     "text": [
      "brian | kolowitz | 28\n",
      "\n",
      "michael | jordan | 54\n",
      "\n",
      "tom | jones | 99\n",
      "\n"
     ]
    }
   ],
   "source": [
    "# print the ages\n",
    "file = open(\"testfile.txt\", \"r\") \n",
    "for index, line in enumerate(file): \n",
    "    parts = line.split(',')\n",
    "    if index != 0:\n",
    "        # data\n",
    "        first_name = parts[0]\n",
    "        last_name = parts[1]\n",
    "        age = parts[2]\n",
    "        print(\"{0} | {1} | {2}\".format(first_name, last_name, age))"
   ]
  },
  {
   "cell_type": "code",
   "execution_count": 36,
   "metadata": {},
   "outputs": [
    {
     "name": "stdout",
     "output_type": "stream",
     "text": [
      "brian | kolowitz | 28\n",
      "\n",
      "michael | jordan | 54\n",
      "\n",
      "tom | jones | 99\n",
      "\n"
     ]
    }
   ],
   "source": [
    "# print the ages\n",
    "file = open(\"testfile.txt\", \"r\") \n",
    "header = file.readline()\n",
    "\n",
    "for index, line in enumerate(file): \n",
    "    parts = line.split(',')\n",
    "    first_name = parts[0]\n",
    "    last_name = parts[1]\n",
    "    age = parts[2]\n",
    "    print(\"{0} | {1} | {2}\".format(first_name, last_name, age))"
   ]
  },
  {
   "cell_type": "markdown",
   "metadata": {},
   "source": [
    "## Using the File Write Method\n",
    "\n",
    "One thing you’ll notice about the file write method is that it only requires a single parameter, which is the string you want to be written. \n",
    "\n",
    "This method is used to add information or content to an existing file. To start a new line after you write data to the file, you can add an EOL character."
   ]
  },
  {
   "cell_type": "code",
   "execution_count": 26,
   "metadata": {
    "collapsed": true
   },
   "outputs": [],
   "source": [
    "file = open(\"testfile.txt\", \"w+\")\n",
    "\n",
    "file.write(\"This is a test.\\n\") \n",
    "file.write(\"To add more lines.\\n\")\n",
    "\n",
    "file.close()"
   ]
  },
  {
   "cell_type": "markdown",
   "metadata": {},
   "source": [
    "This will overwrite our current file to include the two new lines of text. "
   ]
  },
  {
   "cell_type": "code",
   "execution_count": 27,
   "metadata": {},
   "outputs": [
    {
     "name": "stdout",
     "output_type": "stream",
     "text": [
      "This is a test.\r\n",
      "To add more lines.\r\n"
     ]
    }
   ],
   "source": [
    "%cat testfile.txt"
   ]
  },
  {
   "cell_type": "markdown",
   "metadata": {},
   "source": [
    "## Closing a File\n",
    "\n",
    "When you’re done working, you can use the fh.close() command to end things. What this does is close the file completely, terminating resources in use, in turn freeing them up for the system to deploy elsewhere. \n",
    "\n",
    "It’s important to understand that when you use the fh.close() method, any further attempts to use the file object will fail. \n",
    "\n",
    "Notice how we have used this in several of our examples to end interaction with a file? This is good practice."
   ]
  },
  {
   "cell_type": "markdown",
   "metadata": {},
   "source": [
    "## File Handling in the Real World\n",
    "To\n",
    "help you better understand some of the methods discussed here, we’re going to offer a few examples of them being used in the real world. Feel free to copy the code and try it out for yourself in a Python interpreter (make sure you have any named files created and accessible first).\n",
    "\n",
    "Opening a text file:"
   ]
  },
  {
   "cell_type": "code",
   "execution_count": 29,
   "metadata": {
    "collapsed": true
   },
   "outputs": [],
   "source": [
    "fh = open(\"hello.txt\", \"r\") "
   ]
  },
  {
   "cell_type": "markdown",
   "metadata": {},
   "source": [
    "Reading a text file:"
   ]
  },
  {
   "cell_type": "code",
   "execution_count": 30,
   "metadata": {},
   "outputs": [
    {
     "name": "stdout",
     "output_type": "stream",
     "text": [
      "hello\n"
     ]
    }
   ],
   "source": [
    "fh = open(\"hello.txt\", \"r\") \n",
    "text = fh.read()\n",
    "print(text)"
   ]
  },
  {
   "cell_type": "markdown",
   "metadata": {},
   "source": [
    "To read a text file one line at a time:"
   ]
  },
  {
   "cell_type": "code",
   "execution_count": 33,
   "metadata": {},
   "outputs": [
    {
     "name": "stdout",
     "output_type": "stream",
     "text": [
      "hello\n",
      "\n"
     ]
    }
   ],
   "source": [
    "fh = open(\"hello.txt\", \"r\") \n",
    "line = fh.readline()\n",
    "print(line)\n",
    "line = fh.readline()\n",
    "print(line)"
   ]
  },
  {
   "cell_type": "markdown",
   "metadata": {},
   "source": [
    "To read a list of lines in a text file: "
   ]
  },
  {
   "cell_type": "code",
   "execution_count": 32,
   "metadata": {},
   "outputs": [
    {
     "name": "stdout",
     "output_type": "stream",
     "text": [
      "['hello']\n"
     ]
    }
   ],
   "source": [
    "fh = open(\"hello.txt\", \"r\") \n",
    "lines = fh.readlines()\n",
    "print(lines)"
   ]
  },
  {
   "cell_type": "markdown",
   "metadata": {},
   "source": [
    "To append new content or text to a file:"
   ]
  },
  {
   "cell_type": "code",
   "execution_count": 35,
   "metadata": {
    "collapsed": true
   },
   "outputs": [],
   "source": [
    "fh = open(\"hello.txt\", \"a\") \n",
    " \n",
    "fh.write(\"Put the text you want to add here.\\n\") \n",
    "fh.write(\"and more lines if need be.\\n\") \n",
    " \n",
    "fh.close() "
   ]
  },
  {
   "cell_type": "markdown",
   "metadata": {},
   "source": [
    "You can also use this to write multiple lines to a file at once:"
   ]
  },
  {
   "cell_type": "code",
   "execution_count": 36,
   "metadata": {
    "collapsed": true
   },
   "outputs": [],
   "source": [
    "fh = open(\"hello.txt\", \"w\") \n",
    "lines_of_text = [\"One line of text here\\n\", \"and another line here\\n\"] \n",
    "fh.writelines(lines_of_text) \n",
    "fh.close() "
   ]
  },
  {
   "cell_type": "markdown",
   "metadata": {},
   "source": [
    "To close a file completely when you are done: "
   ]
  },
  {
   "cell_type": "code",
   "execution_count": 38,
   "metadata": {},
   "outputs": [
    {
     "name": "stdout",
     "output_type": "stream",
     "text": [
      "One line of text hereand another line here\n"
     ]
    }
   ],
   "source": [
    "fh = open(\"hello.txt\", \"r\") \n",
    "print(fh.read())\n",
    "fh.close() "
   ]
  },
  {
   "cell_type": "markdown",
   "metadata": {},
   "source": [
    "## With Statement\n",
    "\n",
    "You can also work with file objects using the with statement. It is designed to provide much cleaner syntax and exceptions handling when you are working with code. That explains why it’s good practice to use the with statement where applicable. \n",
    "\n",
    "One bonus of using this method is that any files opened will be closed automatically after you are done. This leaves less to worry about during cleanup. \n",
    "\n",
    "To use the with statement to open a file:\n",
    "\n",
    "``` python\n",
    "with open(“filename”) as file: \n",
    "```\n",
    "\n",
    "Now that you understand how to call this statement, let’s take a look at a few examples."
   ]
  },
  {
   "cell_type": "code",
   "execution_count": 40,
   "metadata": {},
   "outputs": [
    {
     "name": "stdout",
     "output_type": "stream",
     "text": [
      "This is a test.\n",
      "To add more lines.\n",
      "\n"
     ]
    }
   ],
   "source": [
    "with open(\"testfile.txt\") as file:  \n",
    "    data = file.read() \n",
    "    print(data)"
   ]
  },
  {
   "cell_type": "markdown",
   "metadata": {},
   "source": [
    "You can also call upon other methods while using this statement. For instance, you can do something like loop over a file object:"
   ]
  },
  {
   "cell_type": "code",
   "execution_count": 41,
   "metadata": {},
   "outputs": [
    {
     "name": "stdout",
     "output_type": "stream",
     "text": [
      "This is a test.\n",
      "\n",
      "To add more lines.\n",
      "\n"
     ]
    }
   ],
   "source": [
    "with open(\"testfile.txt\") as f: \n",
    "    for line in f: \n",
    "        print( line)"
   ]
  },
  {
   "cell_type": "markdown",
   "metadata": {},
   "source": [
    "You’ll also notice that in the above example we didn’t use the “file.close()” method because the with statement will automatically call that for us upon execution. It really makes things a lot easier, doesn’t it?"
   ]
  },
  {
   "cell_type": "markdown",
   "metadata": {},
   "source": [
    "## Using the With Statement in the Real World\n",
    "\n",
    "To better understand the with statement, let’s take a look at some real world examples just like we did with the file handling functions.\n",
    "\n",
    "To write to a file using the with statement:"
   ]
  },
  {
   "cell_type": "code",
   "execution_count": 42,
   "metadata": {
    "collapsed": true
   },
   "outputs": [],
   "source": [
    "with open(\"hello.txt\", \"w\") as f: \n",
    "    f.write(\"Hello World\")"
   ]
  },
  {
   "cell_type": "markdown",
   "metadata": {},
   "source": [
    "## Splitting Lines in a Text File\n",
    "\n",
    "As a final example, let’s explore a unique function that allows you to split the lines taken from a text file. What this is designed to do, is split the string contained in variable data whenever the interpreter encounters a space character.\n",
    "\n",
    "But just because we are going to use it to split lines after a space character, doesn’t mean that’s the only way. You can actually split your text using any character you wish - such as a colon, for instance.\n",
    "\n",
    "The code to do this (also using a with statement) is:"
   ]
  },
  {
   "cell_type": "code",
   "execution_count": 44,
   "metadata": {},
   "outputs": [
    {
     "name": "stdout",
     "output_type": "stream",
     "text": [
      "['Hello', 'World']\n"
     ]
    }
   ],
   "source": [
    "with open(\"hello.txt\", \"r\") as f:\n",
    "    data = f.readlines()\n",
    " \n",
    "    for line in data:\n",
    "        words = line.split()\n",
    "        print(words)"
   ]
  },
  {
   "cell_type": "code",
   "execution_count": null,
   "metadata": {
    "collapsed": true
   },
   "outputs": [],
   "source": []
  }
 ],
 "metadata": {
  "kernelspec": {
   "display_name": "Python 3",
   "language": "python",
   "name": "python3"
  },
  "language_info": {
   "codemirror_mode": {
    "name": "ipython",
    "version": 3
   },
   "file_extension": ".py",
   "mimetype": "text/x-python",
   "name": "python",
   "nbconvert_exporter": "python",
   "pygments_lexer": "ipython3",
   "version": "3.6.3"
  }
 },
 "nbformat": 4,
 "nbformat_minor": 2
}
