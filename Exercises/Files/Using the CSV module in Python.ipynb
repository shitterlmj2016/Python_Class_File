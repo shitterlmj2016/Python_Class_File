{
 "cells": [
  {
   "cell_type": "markdown",
   "metadata": {},
   "source": [
    "[Source1](http://www.pythonforbeginners.com/systems-programming/using-the-csv-module-in-python/), [Source2](https://code.tutsplus.com/tutorials/how-to-read-and-write-csv-files-in-python--cms-29907)\n",
    "\n",
    "# Using the CSV module in Python\n",
    "\n",
    "If you want to import or export spreadsheets and databases for use in the Python interpreter, you must rely on the CSV module, or Comma Separated Values format.\n",
    "\n",
    "## What is a CSV File?\n",
    "\n",
    "CSV files are used to store a large number of variables – or data. They are incredibly simplified spreadsheets – think Excel – only the content is stored in plaintext.\n",
    "\n",
    "And the CSV module is a built-in function that allows Python to parse these types of files.\n",
    "\n",
    "It’s worth noting that when you work with a CSV file, you are dabbling in JSON development.\n",
    "\n",
    "JSON – which stands for JavaScript Object Notation – is a format that is used to store information as JavaScript code in plaintext files. You don’t need to know JavaScript to work with these files, nor is the practice confined to that language. Obviously, since we’re working with Python here.\n",
    "\n",
    "The text inside a CSV file is laid out in rows, and each of those has columns, all separated by commas. Every line in the file is a row in the spreadsheet, while the commas are used to define and separate cells.\n",
    "\n",
    "## Working with the CSV Module\n",
    "\n",
    "To pull information from CSV files you use loop and split methods to get the data from individual columns.\n",
    "\n",
    "The CSV module explicitly exists to handle this task, making it much easier to deal with CSV formatted files. This becomes especially important when you are working with data that’s been exported from actual spreadsheets and databases to text files. This information can be tough to read on its own.\n",
    "\n",
    "Unfortunately, there is no standard so the CSV module uses “dialects” to support parsing using different parameters. Along with a generic reader and writer, the module includes a dialect for working with Microsoft Excel and related files.\n",
    "\n",
    "## CSV Functions\n",
    "The CSV module includes all the necessary functions built in. They are:\n",
    "\n",
    "``` python\n",
    "csv.reader\n",
    "csv.writer\n",
    "csv.register_dialect\n",
    "csv.unregister_dialect\n",
    "csv.get_dialect\n",
    "csv.list_dialects\n",
    "csv.field_size_limit\n",
    "```\n",
    "\n",
    "In this guide we are only going to focus on the reader and writer functions which allow you to edit, modify, and manipulate the data stored in a CSV file."
   ]
  },
  {
   "cell_type": "markdown",
   "metadata": {},
   "source": [
    "## Reading CSV Files\n",
    "\n",
    "To pull data from a CSV file, you must use the reader function to generate a reader object.\n",
    "\n",
    "The reader function is designed to take each line of the file and make a list of all columns. Then, you just choose the column you want the variable data for.\n",
    "\n",
    "It sounds a lot more complicated than it is. To prove it, let’s take a look at an example."
   ]
  },
  {
   "cell_type": "code",
   "execution_count": 1,
   "metadata": {
    "collapsed": true
   },
   "outputs": [],
   "source": [
    "import csv"
   ]
  },
  {
   "cell_type": "code",
   "execution_count": 7,
   "metadata": {},
   "outputs": [
    {
     "name": "stdout",
     "output_type": "stream",
     "text": [
      "['Title', 'Release Date', 'Director']\n",
      "['And Now For Something Completely Different', '1971', 'Ian MacNaughton']\n",
      "['Monty Python And The Holy Grail', '1975', 'Terry Gilliam and Terry Jones']\n",
      "[\"Monty Python's Life Of Brian\", '1979', 'Terry Jones']\n",
      "['Monty Python Live At The Hollywood Bowl', '1982', 'Terry Hughes']\n",
      "[\"Monty Python's The Meaning Of Life\", '1983', 'Terry Jones']\n"
     ]
    }
   ],
   "source": [
    "with open(\"some.csv\", \"r\") as f:\n",
    "    fileReader = csv.reader(f)\n",
    "    for row in fileReader:\n",
    "        print(row)"
   ]
  },
  {
   "cell_type": "markdown",
   "metadata": {},
   "source": [
    "## CSV Sample File\n",
    "\n",
    "We’re going to take a look at an example CSV file. Pay attention to how the information is stored and presented.\n",
    "\n",
    "``` text\n",
    "Title,Release Date,Director\n",
    "And Now For Something Completely Different,1971,Ian MacNaughton\n",
    "Monty Python And The Holy Grail,1975,Terry Gilliam and Terry Jones\n",
    "Monty Python's Life Of Brian,1979,Terry Jones\n",
    "Monty Python Live At The Hollywood Bowl,1982,Terry Hughes\n",
    "Monty Python's The Meaning Of Life,1983,Terry Jones\n",
    "```"
   ]
  },
  {
   "cell_type": "markdown",
   "metadata": {},
   "source": [
    "## Reading CSV Files Example\n",
    "\n",
    "We’re going to start with a basic CSV file with a header. Then, we’ll use the following Python program to read and display the contents of the CSV file."
   ]
  },
  {
   "cell_type": "code",
   "execution_count": 18,
   "metadata": {},
   "outputs": [
    {
     "name": "stdout",
     "output_type": "stream",
     "text": [
      "Title           : And Now For Something Completely Different\n",
      "Release Date    : 1971\n",
      "Director        : Ian MacNaughton\n",
      "\n",
      "Title           : Monty Python And The Holy Grail\n",
      "Release Date    : 1975\n",
      "Director        : Terry Gilliam and Terry Jones\n",
      "\n",
      "Title           : Monty Python's Life Of Brian\n",
      "Release Date    : 1979\n",
      "Director        : Terry Jones\n",
      "\n",
      "Title           : Monty Python Live At The Hollywood Bowl\n",
      "Release Date    : 1982\n",
      "Director        : Terry Hughes\n",
      "\n",
      "Title           : Monty Python's The Meaning Of Life\n",
      "Release Date    : 1983\n",
      "Director        : Terry Jones\n",
      "\n"
     ]
    }
   ],
   "source": [
    "with open(\"some.csv\", \"r\") as f:\n",
    "    fileReader = csv.reader(f)\n",
    " \n",
    "    row_num = 0\n",
    "    for row in fileReader:\n",
    "        \n",
    "        # Save header row.\n",
    "        col_num = 0\n",
    "        if row_num == 0:\n",
    "            header = row\n",
    "        else:        \n",
    "            for col in row:\n",
    "                print('%-16s: %s' % (header[col_num], col))\n",
    "                col_num += 1\n",
    "            print()\n",
    " \n",
    "        row_num += 1"
   ]
  },
  {
   "cell_type": "markdown",
   "metadata": {},
   "source": [
    "# Writing to CSV Files\n",
    "\n",
    "When you have a set of data that you would like to store inside a CSV file, it’s time to do the opposite and use the **write** function. Believe it or not, this is just as easy to accomplish as reading them.\n",
    "\n",
    "The **writer()** function will create an object suitable for writing. To iterate the data over the rows, you will need to use the **writerow()** function."
   ]
  },
  {
   "cell_type": "markdown",
   "metadata": {},
   "source": [
    "Writing to a CSV File Using csv.writer\n",
    "The code below writes the data defined to the example2.csv file."
   ]
  },
  {
   "cell_type": "code",
   "execution_count": 38,
   "metadata": {},
   "outputs": [
    {
     "name": "stdout",
     "output_type": "stream",
     "text": [
      "Writing complete\n"
     ]
    }
   ],
   "source": [
    "myData = [[\"first_name\", \"second_name\", \"Grade\"],\n",
    "          ['Alex', 'Brian', 'A'],\n",
    "          ['Tom', 'Smith', 'B']]\n",
    " \n",
    "with open('example2.csv', 'w') as myFile:\n",
    "    writer = csv.writer(myFile)\n",
    "    writer.writerows(myData)\n",
    "     \n",
    "print(\"Writing complete\")"
   ]
  },
  {
   "cell_type": "code",
   "execution_count": 39,
   "metadata": {},
   "outputs": [
    {
     "name": "stdout",
     "output_type": "stream",
     "text": [
      "first_name,second_name,Grade\r",
      "\r\n",
      "Alex,Brian,A\r",
      "\r\n",
      "Tom,Smith,B\r",
      "\r\n"
     ]
    }
   ],
   "source": [
    "%cat example2.csv"
   ]
  },
  {
   "cell_type": "markdown",
   "metadata": {},
   "source": [
    "Here’s an example.\n",
    "\n",
    "The following Python program converts a file called **“test.csv”** to a CSV file that uses tabs as a value separator with all values quoted. The delimiter character and the quote character, as well as how/when to quote, are specified when the writer is created. These same options are available when creating reader objects."
   ]
  },
  {
   "cell_type": "code",
   "execution_count": null,
   "metadata": {
    "collapsed": true
   },
   "outputs": [],
   "source": [
    "def replace_delimiter(input_file_name, output_file_name, original_delimiter, new_delimiter):\n",
    "    with open(input_file_name, \"r\") as in_file:\n",
    "        reader = csv.reader(in_file, delimiter=original_delimiter)\n",
    "\n",
    "        with open(output_file_name, \"w\") as out_file:\n",
    "            writer = csv.writer(out_file, delimiter=new_delimiter, quotechar='\"', quoting=csv.QUOTE_ALL)\n",
    "\n",
    "            for row in reader:\n",
    "                writer.writerow(row)"
   ]
  },
  {
   "cell_type": "code",
   "execution_count": 30,
   "metadata": {
    "collapsed": true
   },
   "outputs": [],
   "source": [
    "replace_delimiter('some.csv', 'some_tab.csv', ',', '\\t')"
   ]
  },
  {
   "cell_type": "code",
   "execution_count": 31,
   "metadata": {},
   "outputs": [
    {
     "name": "stdout",
     "output_type": "stream",
     "text": [
      "Title,Release Date,Director\r\n",
      "And Now For Something Completely Different,1971,Ian MacNaughton\r\n",
      "Monty Python And The Holy Grail,1975,Terry Gilliam and Terry Jones\r\n",
      "Monty Python's Life Of Brian,1979,Terry Jones\r\n",
      "Monty Python Live At The Hollywood Bowl,1982,Terry Hughes\r\n",
      "Monty Python's The Meaning Of Life,1983,Terry Jones"
     ]
    }
   ],
   "source": [
    "%cat some.csv"
   ]
  },
  {
   "cell_type": "code",
   "execution_count": 32,
   "metadata": {},
   "outputs": [
    {
     "name": "stdout",
     "output_type": "stream",
     "text": [
      "\"Title\"\t\"Release Date\"\t\"Director\"\r",
      "\r\n",
      "\"And Now For Something Completely Different\"\t\"1971\"\t\"Ian MacNaughton\"\r",
      "\r\n",
      "\"Monty Python And The Holy Grail\"\t\"1975\"\t\"Terry Gilliam and Terry Jones\"\r",
      "\r\n",
      "\"Monty Python's Life Of Brian\"\t\"1979\"\t\"Terry Jones\"\r",
      "\r\n",
      "\"Monty Python Live At The Hollywood Bowl\"\t\"1982\"\t\"Terry Hughes\"\r",
      "\r\n",
      "\"Monty Python's The Meaning Of Life\"\t\"1983\"\t\"Terry Jones\"\r",
      "\r\n"
     ]
    }
   ],
   "source": [
    "%cat some_tab.csv"
   ]
  },
  {
   "cell_type": "code",
   "execution_count": 33,
   "metadata": {
    "collapsed": true
   },
   "outputs": [],
   "source": [
    "replace_delimiter('some.csv', 'some_bar.csv', ',', '|')"
   ]
  },
  {
   "cell_type": "code",
   "execution_count": 34,
   "metadata": {},
   "outputs": [
    {
     "name": "stdout",
     "output_type": "stream",
     "text": [
      "\"Title\"|\"Release Date\"|\"Director\"\r",
      "\r\n",
      "\"And Now For Something Completely Different\"|\"1971\"|\"Ian MacNaughton\"\r",
      "\r\n",
      "\"Monty Python And The Holy Grail\"|\"1975\"|\"Terry Gilliam and Terry Jones\"\r",
      "\r\n",
      "\"Monty Python's Life Of Brian\"|\"1979\"|\"Terry Jones\"\r",
      "\r\n",
      "\"Monty Python Live At The Hollywood Bowl\"|\"1982\"|\"Terry Hughes\"\r",
      "\r\n",
      "\"Monty Python's The Meaning Of Life\"|\"1983\"|\"Terry Jones\"\r",
      "\r\n"
     ]
    }
   ],
   "source": [
    "%cat some_bar.csv"
   ]
  },
  {
   "cell_type": "markdown",
   "metadata": {},
   "source": [
    "## Quoting CSV Files\n",
    "\n",
    "With the CSV module, you can also perform a variety of quoting functions.\n",
    "\n",
    "They are:\n",
    "\n",
    "``` python\n",
    "csv.QUOTE_ALL        # Quote everything, regardless of type.\n",
    "csv.QUOTE_MINIMAL    # Quote fields with special characters\n",
    "csv.QUOTE_NONNUMERIC # Quote all fields that are not integers or floats\n",
    "csv.QUOTE_NONE       # Do not quote anything on output\n",
    "```"
   ]
  },
  {
   "cell_type": "markdown",
   "metadata": {},
   "source": [
    "## DictReader and DictWriter Classes\n",
    "\n",
    "The DictReader and DictWriter are classes available in Python for reading and writing to CSV. Although they are similar to the reader and writer functions, these classes use dictionary objects to read and write to csv files."
   ]
  },
  {
   "cell_type": "markdown",
   "metadata": {},
   "source": [
    "### DictReader\n",
    "It creates an object which maps the information read into a dictionary whose keys are given by the fieldnames parameter. This parameter is optional, but when not specified in the file, the first row data becomes the keys of the dictionary.\n",
    "\n",
    "Example:"
   ]
  },
  {
   "cell_type": "code",
   "execution_count": 37,
   "metadata": {},
   "outputs": [
    {
     "name": "stdout",
     "output_type": "stream",
     "text": [
      "OrderedDict([('first_name', 'tom'), ('last_name', 'brady')])\n",
      "OrderedDict([('first_name', 'mike'), ('last_name', 'jordan')])\n",
      "OrderedDict([('first_name', 'will'), ('last_name', 'smith')])\n"
     ]
    }
   ],
   "source": [
    "with open('name.csv') as csvfile:\n",
    "    reader = csv.DictReader(csvfile)\n",
    "    for row in reader:\n",
    "         print(row)"
   ]
  },
  {
   "cell_type": "code",
   "execution_count": null,
   "metadata": {
    "collapsed": true
   },
   "outputs": [],
   "source": [
    "with open('name.csv') as csvfile:\n",
    "    reader = csv.DictReader(csvfile)\n",
    "    for row in reader:\n",
    "         print(row['first_name'], row['last_name'])"
   ]
  },
  {
   "cell_type": "markdown",
   "metadata": {},
   "source": [
    "### DictWriter\n",
    "\n",
    "This class is similar to the DictWriter class and does the opposite, which is writing data to a CSV file. The class is defined as \n",
    "\n",
    "``` python\n",
    "csv.DictWriter(csvfile, fieldnames, restval='', extrasaction='raise', dialect='excel', *args, **kwds)\n",
    "```\n",
    "\n",
    "The fieldnames parameter defines the sequence of keys that identify the order in which values in the dictionary are written to the CSV file. Unlike the DictReader, this key is not optional and must be defined in order to avoid errors when writing to a CSV."
   ]
  },
  {
   "cell_type": "markdown",
   "metadata": {},
   "source": [
    "### Writing to a CSV File Using DictWriter\n",
    "Let's write the following data to a CSV."
   ]
  },
  {
   "cell_type": "code",
   "execution_count": 40,
   "metadata": {},
   "outputs": [
    {
     "name": "stdout",
     "output_type": "stream",
     "text": [
      "Writing complete\n"
     ]
    }
   ],
   "source": [
    "data = [{'Grade': 'B', 'first_name': 'Alex', 'last_name': 'Brian'}, \n",
    "{'Grade': 'A', 'first_name': 'Rachael', 'last_name': 'Rodriguez'},\n",
    "{'Grade': 'C', 'first_name': 'Tom', 'last_name': 'smith'},\n",
    "{'Grade': 'B', 'first_name': 'Jane', 'last_name': 'Oscar'}, \n",
    "{'Grade': 'A', 'first_name': 'Kennzy', 'last_name': 'Tim'}]\n",
    "\n",
    "with open('example4.csv', 'w') as csvfile:\n",
    "    fieldnames = ['first_name', 'last_name', 'Grade']\n",
    "    writer = csv.DictWriter(csvfile, fieldnames=fieldnames)\n",
    " \n",
    "    writer.writeheader()\n",
    "    writer.writerow({'Grade': 'B', 'first_name': 'Alex', 'last_name': 'Brian'})\n",
    "    writer.writerow({'Grade': 'A', 'first_name': 'Rachael',\n",
    "                     'last_name': 'Rodriguez'})\n",
    "    writer.writerow({'Grade': 'B', 'first_name': 'Jane', 'last_name': 'Oscar'})\n",
    "    writer.writerow({'Grade': 'B', 'first_name': 'Jane', 'last_name': 'Loive'})\n",
    " \n",
    "print(\"Writing complete\")"
   ]
  },
  {
   "cell_type": "code",
   "execution_count": 41,
   "metadata": {},
   "outputs": [
    {
     "name": "stdout",
     "output_type": "stream",
     "text": [
      "first_name,last_name,Grade\r",
      "\r\n",
      "Alex,Brian,B\r",
      "\r\n",
      "Rachael,Rodriguez,A\r",
      "\r\n",
      "Jane,Oscar,B\r",
      "\r\n",
      "Jane,Loive,B\r",
      "\r\n"
     ]
    }
   ],
   "source": [
    "%cat example4.csv"
   ]
  },
  {
   "cell_type": "markdown",
   "metadata": {},
   "source": [
    "Here is how to write to all the rows at once."
   ]
  },
  {
   "cell_type": "code",
   "execution_count": 43,
   "metadata": {},
   "outputs": [
    {
     "name": "stdout",
     "output_type": "stream",
     "text": [
      "writing complete\n"
     ]
    }
   ],
   "source": [
    "with open('example5.csv', 'w') as csvfile:\n",
    "    fieldnames = ['first_name', 'last_name', 'Grade']\n",
    "    writer = csv.DictWriter(csvfile, fieldnames=fieldnames)\n",
    " \n",
    "    writer.writeheader()\n",
    "    writer.writerows(data)\n",
    " \n",
    "print(\"writing complete\")"
   ]
  },
  {
   "cell_type": "code",
   "execution_count": 44,
   "metadata": {},
   "outputs": [
    {
     "name": "stdout",
     "output_type": "stream",
     "text": [
      "first_name,last_name,Grade\r",
      "\r\n",
      "Alex,Brian,B\r",
      "\r\n",
      "Rachael,Rodriguez,A\r",
      "\r\n",
      "Tom,smith,C\r",
      "\r\n",
      "Jane,Oscar,B\r",
      "\r\n",
      "Kennzy,Tim,A\r",
      "\r\n"
     ]
    }
   ],
   "source": [
    "%cat example5.csv"
   ]
  },
  {
   "cell_type": "markdown",
   "metadata": {},
   "source": [
    "## Dialects and Formatting\n",
    "\n",
    "A dialect is a helper class used to define the parameters for a specific reader or writer instance. Dialects and formatting parameters need to be declared when performing a reader or writer function.\n",
    "\n",
    "There are several attributes which are supported by a dialect:\n",
    "\n",
    "\n",
    ">* **delimiter** - A string used to separate fields. It defaults to ','.\n",
    "* **double quote** - Controls how instances of quotechar appearing inside a field should be quoted. Can be True or False.\n",
    "* **escapechar** - A string used by the writer to escape the delimiter if quoting is set to QUOTE_NONE.\n",
    "* **lineterminator** - A string used to terminate lines produced by the writer. It defaults to '\\r\\n'.\n",
    "* **quotechar** - A string used to quote fields containing special characters. It defaults to '\"'.\n",
    "* **skipinitialspace** - If set to True, any white space immediately following the delimiter is ignored.\n",
    "* **strict** - If set to True, it raises an exception Error on bad CSV input.\n",
    "* **quoting** - Controls when quotes should be generated when reading or writing to a CSV.\n"
   ]
  }
 ],
 "metadata": {
  "kernelspec": {
   "display_name": "Python 3",
   "language": "python",
   "name": "python3"
  },
  "language_info": {
   "codemirror_mode": {
    "name": "ipython",
    "version": 3
   },
   "file_extension": ".py",
   "mimetype": "text/x-python",
   "name": "python",
   "nbconvert_exporter": "python",
   "pygments_lexer": "ipython3",
   "version": "3.6.3"
  }
 },
 "nbformat": 4,
 "nbformat_minor": 2
}
