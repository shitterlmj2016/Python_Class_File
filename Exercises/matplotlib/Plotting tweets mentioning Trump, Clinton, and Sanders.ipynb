{
 "cells": [
  {
   "cell_type": "markdown",
   "metadata": {},
   "source": [
    "# Analyzing Tweets with Pandas and Matplotlib\n",
    "\n",
    "Python has a variety of visualization libraries, including seaborn, networkx, and vispy. Most Python visualization libraries are based wholly or partially on matplotlib, which often makes it the first resort for making simple plots, and the last resort for making plots too complex to create in other libraries.\n",
    "\n",
    "In this matplotlib tutorial, we'll cover the basics of the library, and walk through making some intermediate visualizations.\n",
    "\n",
    "We'll be working with a dataset of approximately 240,000 tweets about Hillary Clinton, Donald Trump, and Bernie Sanders, all current candidates for president of the United States.\n",
    "\n",
    "The data was pulled from the Twitter Streaming API, and the csv of all 240,000 tweets can be downloaded [here](https://s3.amazonaws.com/dqdata/tweets.csv). If you want to scrape more data yourself, you can look [here](https://github.com/dataquestio/twitter-scrape) for the scraper code.\n",
    "\n",
    "[Source](https://www.dataquest.io/blog/matplotlib-tutorial/)"
   ]
  },
  {
   "cell_type": "markdown",
   "metadata": {},
   "source": [
    "# Exploring tweets with Pandas\n",
    "\n",
    "Before we get started with plotting, let's load in the data and do some basic exploration. We can use Pandas, a Python library for data analysis, to help us with this. In the below code, we'll:\n",
    "\n",
    "* Import the Pandas library.\n",
    "* Read tweets.csv into a Pandas DataFrame.\n",
    "* Print the first 5 rows of the DataFrame."
   ]
  },
  {
   "cell_type": "code",
   "execution_count": 84,
   "metadata": {},
   "outputs": [
    {
     "data": {
      "text/html": [
       "<div>\n",
       "<style>\n",
       "    .dataframe thead tr:only-child th {\n",
       "        text-align: right;\n",
       "    }\n",
       "\n",
       "    .dataframe thead th {\n",
       "        text-align: left;\n",
       "    }\n",
       "\n",
       "    .dataframe tbody tr th {\n",
       "        vertical-align: top;\n",
       "    }\n",
       "</style>\n",
       "<table border=\"1\" class=\"dataframe\">\n",
       "  <thead>\n",
       "    <tr style=\"text-align: right;\">\n",
       "      <th></th>\n",
       "      <th>id</th>\n",
       "      <th>id_str</th>\n",
       "      <th>user_location</th>\n",
       "      <th>user_bg_color</th>\n",
       "      <th>retweet_count</th>\n",
       "      <th>user_name</th>\n",
       "      <th>polarity</th>\n",
       "      <th>created</th>\n",
       "      <th>geo</th>\n",
       "      <th>user_description</th>\n",
       "      <th>user_created</th>\n",
       "      <th>user_followers</th>\n",
       "      <th>coordinates</th>\n",
       "      <th>subjectivity</th>\n",
       "      <th>text</th>\n",
       "    </tr>\n",
       "  </thead>\n",
       "  <tbody>\n",
       "    <tr>\n",
       "      <th>0</th>\n",
       "      <td>1</td>\n",
       "      <td>729828033092149248</td>\n",
       "      <td>Wheeling WV</td>\n",
       "      <td>022330</td>\n",
       "      <td>0</td>\n",
       "      <td>Jaybo26003</td>\n",
       "      <td>0.00</td>\n",
       "      <td>2016-05-10T00:18:57</td>\n",
       "      <td>NaN</td>\n",
       "      <td>NaN</td>\n",
       "      <td>2011-11-17T02:45:42</td>\n",
       "      <td>39</td>\n",
       "      <td>NaN</td>\n",
       "      <td>0.0</td>\n",
       "      <td>Make a difference vote! WV Bernie Sanders Coul...</td>\n",
       "    </tr>\n",
       "    <tr>\n",
       "      <th>1</th>\n",
       "      <td>2</td>\n",
       "      <td>729828033092161537</td>\n",
       "      <td>NaN</td>\n",
       "      <td>C0DEED</td>\n",
       "      <td>0</td>\n",
       "      <td>brittttany_ns</td>\n",
       "      <td>0.15</td>\n",
       "      <td>2016-05-10T00:18:57</td>\n",
       "      <td>NaN</td>\n",
       "      <td>18 // PSJAN</td>\n",
       "      <td>2012-12-24T17:33:12</td>\n",
       "      <td>1175</td>\n",
       "      <td>NaN</td>\n",
       "      <td>0.1</td>\n",
       "      <td>RT @HlPHOPNEWS: T.I. says if Donald Trump wins...</td>\n",
       "    </tr>\n",
       "    <tr>\n",
       "      <th>2</th>\n",
       "      <td>3</td>\n",
       "      <td>729828033566224384</td>\n",
       "      <td>NaN</td>\n",
       "      <td>C0DEED</td>\n",
       "      <td>0</td>\n",
       "      <td>JeffriesLori</td>\n",
       "      <td>0.00</td>\n",
       "      <td>2016-05-10T00:18:57</td>\n",
       "      <td>NaN</td>\n",
       "      <td>NaN</td>\n",
       "      <td>2012-10-11T14:29:59</td>\n",
       "      <td>42</td>\n",
       "      <td>NaN</td>\n",
       "      <td>0.0</td>\n",
       "      <td>You have no one to blame but yourselves if Tru...</td>\n",
       "    </tr>\n",
       "    <tr>\n",
       "      <th>3</th>\n",
       "      <td>4</td>\n",
       "      <td>729828033893302272</td>\n",
       "      <td>global</td>\n",
       "      <td>C0DEED</td>\n",
       "      <td>0</td>\n",
       "      <td>WhorunsGOVs</td>\n",
       "      <td>0.00</td>\n",
       "      <td>2016-05-10T00:18:57</td>\n",
       "      <td>NaN</td>\n",
       "      <td>Get Latest Global Political news as they unfold</td>\n",
       "      <td>2014-02-16T07:34:24</td>\n",
       "      <td>290</td>\n",
       "      <td>NaN</td>\n",
       "      <td>0.0</td>\n",
       "      <td>'Ruin the rest of their lives': Donald Trump c...</td>\n",
       "    </tr>\n",
       "    <tr>\n",
       "      <th>4</th>\n",
       "      <td>5</td>\n",
       "      <td>729828034178482177</td>\n",
       "      <td>California, USA</td>\n",
       "      <td>131516</td>\n",
       "      <td>0</td>\n",
       "      <td>BJCG0830</td>\n",
       "      <td>0.00</td>\n",
       "      <td>2016-05-10T00:18:57</td>\n",
       "      <td>NaN</td>\n",
       "      <td>Queer Latino invoking his 1st amendment privil...</td>\n",
       "      <td>2009-03-21T01:43:26</td>\n",
       "      <td>354</td>\n",
       "      <td>NaN</td>\n",
       "      <td>0.0</td>\n",
       "      <td>RT @elianayjohnson: Per source, GOP megadonor ...</td>\n",
       "    </tr>\n",
       "  </tbody>\n",
       "</table>\n",
       "</div>"
      ],
      "text/plain": [
       "   id              id_str    user_location user_bg_color  retweet_count  \\\n",
       "0   1  729828033092149248      Wheeling WV        022330              0   \n",
       "1   2  729828033092161537              NaN        C0DEED              0   \n",
       "2   3  729828033566224384              NaN        C0DEED              0   \n",
       "3   4  729828033893302272           global        C0DEED              0   \n",
       "4   5  729828034178482177  California, USA        131516              0   \n",
       "\n",
       "       user_name  polarity              created  geo  \\\n",
       "0     Jaybo26003      0.00  2016-05-10T00:18:57  NaN   \n",
       "1  brittttany_ns      0.15  2016-05-10T00:18:57  NaN   \n",
       "2   JeffriesLori      0.00  2016-05-10T00:18:57  NaN   \n",
       "3    WhorunsGOVs      0.00  2016-05-10T00:18:57  NaN   \n",
       "4       BJCG0830      0.00  2016-05-10T00:18:57  NaN   \n",
       "\n",
       "                                    user_description         user_created  \\\n",
       "0                                                NaN  2011-11-17T02:45:42   \n",
       "1                                        18 // PSJAN  2012-12-24T17:33:12   \n",
       "2                                                NaN  2012-10-11T14:29:59   \n",
       "3    Get Latest Global Political news as they unfold  2014-02-16T07:34:24   \n",
       "4  Queer Latino invoking his 1st amendment privil...  2009-03-21T01:43:26   \n",
       "\n",
       "   user_followers coordinates  subjectivity  \\\n",
       "0              39         NaN           0.0   \n",
       "1            1175         NaN           0.1   \n",
       "2              42         NaN           0.0   \n",
       "3             290         NaN           0.0   \n",
       "4             354         NaN           0.0   \n",
       "\n",
       "                                                text  \n",
       "0  Make a difference vote! WV Bernie Sanders Coul...  \n",
       "1  RT @HlPHOPNEWS: T.I. says if Donald Trump wins...  \n",
       "2  You have no one to blame but yourselves if Tru...  \n",
       "3  'Ruin the rest of their lives': Donald Trump c...  \n",
       "4  RT @elianayjohnson: Per source, GOP megadonor ...  "
      ]
     },
     "execution_count": 84,
     "metadata": {},
     "output_type": "execute_result"
    }
   ],
   "source": [
    "import pandas as pd\n",
    "\n",
    "tweets = pd.read_csv(\"tweets.csv\")\n",
    "tweets.head()"
   ]
  },
  {
   "cell_type": "markdown",
   "metadata": {},
   "source": [
    "Here's a quick explanation of the important columns in the data:\n",
    "\n",
    "* id — the id of the row in the database (this isn't important).\n",
    "* id_str — the id of the tweet on Twitter.\n",
    "* user_location — the location the tweeter specified in their Twitter bio.\n",
    "* user_bg_color — the background color of the tweeter's profile.\n",
    "* user_name — the Twitter username of the tweeter.\n",
    "* polarity — the sentiment of the tweet, from -1, to 1. 1 indicates strong positivity, -1 strong negativity.\n",
    "* created — when the tweet was sent.\n",
    "* user_description — the description the tweeter specified in their bio.\n",
    "* user_created — when the tweeter created their account.\n",
    "* user_follower — the number of followers the tweeter has.\n",
    "* text — the text of the tweet.\n",
    "* subjectivity — the subjectivity or objectivity of the tweet. 0 is very objective, 1 is very subjective."
   ]
  },
  {
   "cell_type": "markdown",
   "metadata": {},
   "source": [
    "Generating a candidates column\n",
    "Most of the interesting things we can do with this dataset involve comparing the tweets about one candidate to the tweets about another candidate. For example, we could compare how objective tweets about Donald Trump are to how objective tweets about Bernie Sanders are.\n",
    "\n",
    "In order to accomplish this, we first need to generate a column that tells us what candidates are mentioned in each tweet. In the below code, we'll:\n",
    "\n",
    "* Create a function that finds what candidate names occur in a piece of text.\n",
    "* Use the apply method on DataFrames to generate a new column called candidate that contains what candidate(s) the tweet mentions."
   ]
  },
  {
   "cell_type": "code",
   "execution_count": 89,
   "metadata": {
    "collapsed": true
   },
   "outputs": [],
   "source": [
    "def get_candidate(row):\n",
    "    candidates = []\n",
    "    text = row[\"text\"].lower()\n",
    "    if \"clinton\" in text or \"hillary\" in text:\n",
    "        candidates.append(\"clinton\")\n",
    "    if \"trump\" in text or \"donald\" in text:\n",
    "        candidates.append(\"trump\")\n",
    "    if \"sanders\" in text or \"bernie\" in text:\n",
    "        candidates.append(\"sanders\")\n",
    "    return \",\".join(candidates)"
   ]
  },
  {
   "cell_type": "code",
   "execution_count": 90,
   "metadata": {},
   "outputs": [
    {
     "data": {
      "text/html": [
       "<div>\n",
       "<style>\n",
       "    .dataframe thead tr:only-child th {\n",
       "        text-align: right;\n",
       "    }\n",
       "\n",
       "    .dataframe thead th {\n",
       "        text-align: left;\n",
       "    }\n",
       "\n",
       "    .dataframe tbody tr th {\n",
       "        vertical-align: top;\n",
       "    }\n",
       "</style>\n",
       "<table border=\"1\" class=\"dataframe\">\n",
       "  <thead>\n",
       "    <tr style=\"text-align: right;\">\n",
       "      <th></th>\n",
       "      <th>text</th>\n",
       "      <th>candidate</th>\n",
       "    </tr>\n",
       "  </thead>\n",
       "  <tbody>\n",
       "    <tr>\n",
       "      <th>0</th>\n",
       "      <td>Make a difference vote! WV Bernie Sanders Coul...</td>\n",
       "      <td>clinton,sanders</td>\n",
       "    </tr>\n",
       "    <tr>\n",
       "      <th>1</th>\n",
       "      <td>RT @HlPHOPNEWS: T.I. says if Donald Trump wins...</td>\n",
       "      <td>trump</td>\n",
       "    </tr>\n",
       "    <tr>\n",
       "      <th>2</th>\n",
       "      <td>You have no one to blame but yourselves if Tru...</td>\n",
       "      <td>trump</td>\n",
       "    </tr>\n",
       "    <tr>\n",
       "      <th>3</th>\n",
       "      <td>'Ruin the rest of their lives': Donald Trump c...</td>\n",
       "      <td>trump</td>\n",
       "    </tr>\n",
       "    <tr>\n",
       "      <th>4</th>\n",
       "      <td>RT @elianayjohnson: Per source, GOP megadonor ...</td>\n",
       "      <td>trump</td>\n",
       "    </tr>\n",
       "    <tr>\n",
       "      <th>5</th>\n",
       "      <td>RT @KamVTV: Because of course they are 🙄 \"Emai...</td>\n",
       "      <td>clinton</td>\n",
       "    </tr>\n",
       "    <tr>\n",
       "      <th>6</th>\n",
       "      <td>RT @P0TUSTrump: .@AZEALIABANKS endorsed Trump ...</td>\n",
       "      <td>trump</td>\n",
       "    </tr>\n",
       "    <tr>\n",
       "      <th>7</th>\n",
       "      <td>RT @lexi4prez: serving lies  https://t.co/jJM3...</td>\n",
       "      <td></td>\n",
       "    </tr>\n",
       "    <tr>\n",
       "      <th>8</th>\n",
       "      <td>RT @dovorah001: I'm VERY HAPPY to help him wit...</td>\n",
       "      <td></td>\n",
       "    </tr>\n",
       "    <tr>\n",
       "      <th>9</th>\n",
       "      <td>RT @Shakestweetz: \"A brick wall is infinitely ...</td>\n",
       "      <td>clinton</td>\n",
       "    </tr>\n",
       "    <tr>\n",
       "      <th>10</th>\n",
       "      <td>https://t.co/tXn3QV1KNC</td>\n",
       "      <td></td>\n",
       "    </tr>\n",
       "    <tr>\n",
       "      <th>11</th>\n",
       "      <td>RT @FLAStopsTrump: Please just make it stop.  ...</td>\n",
       "      <td>trump</td>\n",
       "    </tr>\n",
       "    <tr>\n",
       "      <th>12</th>\n",
       "      <td>RT @Allen_Clifton: I can't help but wonder, af...</td>\n",
       "      <td>clinton,sanders</td>\n",
       "    </tr>\n",
       "    <tr>\n",
       "      <th>13</th>\n",
       "      <td>Trump se retracta tras comentarios sobre aumen...</td>\n",
       "      <td>trump</td>\n",
       "    </tr>\n",
       "    <tr>\n",
       "      <th>14</th>\n",
       "      <td>RT @FactChek: #Kentucky #Louisville #Lexington...</td>\n",
       "      <td></td>\n",
       "    </tr>\n",
       "    <tr>\n",
       "      <th>15</th>\n",
       "      <td>Sad thing is most people are to stupid to know...</td>\n",
       "      <td></td>\n",
       "    </tr>\n",
       "    <tr>\n",
       "      <th>16</th>\n",
       "      <td>RT @TheRickWilson: Again, if you want to tell ...</td>\n",
       "      <td></td>\n",
       "    </tr>\n",
       "    <tr>\n",
       "      <th>17</th>\n",
       "      <td>Need to read up about Filipino politics. Appar...</td>\n",
       "      <td>trump</td>\n",
       "    </tr>\n",
       "    <tr>\n",
       "      <th>18</th>\n",
       "      <td>RT @BernieSanders: California – make sure you'...</td>\n",
       "      <td>sanders</td>\n",
       "    </tr>\n",
       "    <tr>\n",
       "      <th>19</th>\n",
       "      <td>Our media represents what the 1% allow on the ...</td>\n",
       "      <td>sanders</td>\n",
       "    </tr>\n",
       "    <tr>\n",
       "      <th>20</th>\n",
       "      <td>RT @Cameron: If you say you're voting for Hill...</td>\n",
       "      <td>clinton,trump</td>\n",
       "    </tr>\n",
       "    <tr>\n",
       "      <th>21</th>\n",
       "      <td>RT @zesty_leftwing: Watch: #JohnOliver Wants A...</td>\n",
       "      <td></td>\n",
       "    </tr>\n",
       "    <tr>\n",
       "      <th>22</th>\n",
       "      <td>RT @livin_inaCRNKus: \" Donald trump is gonna b...</td>\n",
       "      <td>trump</td>\n",
       "    </tr>\n",
       "    <tr>\n",
       "      <th>23</th>\n",
       "      <td>RT @MonicaCrowley: Because of course they are....</td>\n",
       "      <td>clinton</td>\n",
       "    </tr>\n",
       "    <tr>\n",
       "      <th>24</th>\n",
       "      <td>RT @Pixburgher66: https://t.co/8TWQE6KDCN This...</td>\n",
       "      <td>trump</td>\n",
       "    </tr>\n",
       "    <tr>\n",
       "      <th>25</th>\n",
       "      <td>RT @RickyPDillon: NEW VIDEO FROM YESTERDAY! I ...</td>\n",
       "      <td>trump</td>\n",
       "    </tr>\n",
       "    <tr>\n",
       "      <th>26</th>\n",
       "      <td>Ann Coulter writes book in praise of Donald Tr...</td>\n",
       "      <td>trump</td>\n",
       "    </tr>\n",
       "    <tr>\n",
       "      <th>27</th>\n",
       "      <td>She's such a little person she could never apo...</td>\n",
       "      <td></td>\n",
       "    </tr>\n",
       "    <tr>\n",
       "      <th>28</th>\n",
       "      <td>RT @FT: David Cameron says Donald Trump 'deser...</td>\n",
       "      <td>trump</td>\n",
       "    </tr>\n",
       "    <tr>\n",
       "      <th>29</th>\n",
       "      <td>RT @realDonaldTrump: \"@NathanDWilsonFL: @Maria...</td>\n",
       "      <td>trump</td>\n",
       "    </tr>\n",
       "    <tr>\n",
       "      <th>30</th>\n",
       "      <td>RT @ThePatriot143: Dennis Miller to #NeverTrum...</td>\n",
       "      <td>clinton,trump</td>\n",
       "    </tr>\n",
       "    <tr>\n",
       "      <th>31</th>\n",
       "      <td>Marco Rubio descartó ser candidato de Trump a ...</td>\n",
       "      <td>trump</td>\n",
       "    </tr>\n",
       "    <tr>\n",
       "      <th>32</th>\n",
       "      <td>RT @Mike_Beacham: Clinton Email Scandal: \\nNow...</td>\n",
       "      <td>clinton</td>\n",
       "    </tr>\n",
       "    <tr>\n",
       "      <th>33</th>\n",
       "      <td>RT @bakedalaska: this is the REAL donald trump...</td>\n",
       "      <td>trump</td>\n",
       "    </tr>\n",
       "    <tr>\n",
       "      <th>34</th>\n",
       "      <td>RT @irritatedwoman: CLINTON TECH STAFFER EMAIL...</td>\n",
       "      <td>clinton</td>\n",
       "    </tr>\n",
       "    <tr>\n",
       "      <th>35</th>\n",
       "      <td>RT @PatriotByGod: So the Establishment is mad ...</td>\n",
       "      <td>trump</td>\n",
       "    </tr>\n",
       "    <tr>\n",
       "      <th>36</th>\n",
       "      <td>Isn't that enough to Trump for now? #inners</td>\n",
       "      <td>trump</td>\n",
       "    </tr>\n",
       "    <tr>\n",
       "      <th>37</th>\n",
       "      <td>RT @Campaign_Trump: CRUZ DID NOT SEE THIS COMI...</td>\n",
       "      <td>clinton,trump</td>\n",
       "    </tr>\n",
       "    <tr>\n",
       "      <th>38</th>\n",
       "      <td>RT @SmallBiz4Trump: HOOYAH! Military Times sur...</td>\n",
       "      <td>clinton,trump</td>\n",
       "    </tr>\n",
       "    <tr>\n",
       "      <th>39</th>\n",
       "      <td>@AC360 In 2008 Trump supported Bill Clinton an...</td>\n",
       "      <td>clinton,trump</td>\n",
       "    </tr>\n",
       "    <tr>\n",
       "      <th>40</th>\n",
       "      <td>RT @lilmojomofo: #Volunteer for Hillary # Figh...</td>\n",
       "      <td>clinton</td>\n",
       "    </tr>\n",
       "    <tr>\n",
       "      <th>41</th>\n",
       "      <td>RT @mitchellvii: Even if you dislike Trump, vo...</td>\n",
       "      <td>trump</td>\n",
       "    </tr>\n",
       "    <tr>\n",
       "      <th>42</th>\n",
       "      <td>RT @Miriam2626: #IHaveAGift for tweeting for #...</td>\n",
       "      <td>sanders</td>\n",
       "    </tr>\n",
       "    <tr>\n",
       "      <th>43</th>\n",
       "      <td>Crime Scene: Trump Headstone in Central Park: ...</td>\n",
       "      <td>trump</td>\n",
       "    </tr>\n",
       "    <tr>\n",
       "      <th>44</th>\n",
       "      <td>RT @cfhorgan: christ what an asshole. https://...</td>\n",
       "      <td></td>\n",
       "    </tr>\n",
       "    <tr>\n",
       "      <th>45</th>\n",
       "      <td>@marklevinshow @KatrinaPierson @realDonaldTrum...</td>\n",
       "      <td>trump</td>\n",
       "    </tr>\n",
       "    <tr>\n",
       "      <th>46</th>\n",
       "      <td>#ImExcitedAbout\\n@HarryBelafonte Endorsing Ber...</td>\n",
       "      <td>sanders</td>\n",
       "    </tr>\n",
       "    <tr>\n",
       "      <th>47</th>\n",
       "      <td>hey Chris, remember your JOB, here in NJ ??- -...</td>\n",
       "      <td>trump</td>\n",
       "    </tr>\n",
       "    <tr>\n",
       "      <th>48</th>\n",
       "      <td>RT @BuzzFeedster: BREAKING: Bush Ambassador to...</td>\n",
       "      <td>trump</td>\n",
       "    </tr>\n",
       "    <tr>\n",
       "      <th>49</th>\n",
       "      <td>RT @voter1vote: Trump Completely Contradicts H...</td>\n",
       "      <td>trump</td>\n",
       "    </tr>\n",
       "  </tbody>\n",
       "</table>\n",
       "</div>"
      ],
      "text/plain": [
       "                                                 text        candidate\n",
       "0   Make a difference vote! WV Bernie Sanders Coul...  clinton,sanders\n",
       "1   RT @HlPHOPNEWS: T.I. says if Donald Trump wins...            trump\n",
       "2   You have no one to blame but yourselves if Tru...            trump\n",
       "3   'Ruin the rest of their lives': Donald Trump c...            trump\n",
       "4   RT @elianayjohnson: Per source, GOP megadonor ...            trump\n",
       "5   RT @KamVTV: Because of course they are 🙄 \"Emai...          clinton\n",
       "6   RT @P0TUSTrump: .@AZEALIABANKS endorsed Trump ...            trump\n",
       "7   RT @lexi4prez: serving lies  https://t.co/jJM3...                 \n",
       "8   RT @dovorah001: I'm VERY HAPPY to help him wit...                 \n",
       "9   RT @Shakestweetz: \"A brick wall is infinitely ...          clinton\n",
       "10                            https://t.co/tXn3QV1KNC                 \n",
       "11  RT @FLAStopsTrump: Please just make it stop.  ...            trump\n",
       "12  RT @Allen_Clifton: I can't help but wonder, af...  clinton,sanders\n",
       "13  Trump se retracta tras comentarios sobre aumen...            trump\n",
       "14  RT @FactChek: #Kentucky #Louisville #Lexington...                 \n",
       "15  Sad thing is most people are to stupid to know...                 \n",
       "16  RT @TheRickWilson: Again, if you want to tell ...                 \n",
       "17  Need to read up about Filipino politics. Appar...            trump\n",
       "18  RT @BernieSanders: California – make sure you'...          sanders\n",
       "19  Our media represents what the 1% allow on the ...          sanders\n",
       "20  RT @Cameron: If you say you're voting for Hill...    clinton,trump\n",
       "21  RT @zesty_leftwing: Watch: #JohnOliver Wants A...                 \n",
       "22  RT @livin_inaCRNKus: \" Donald trump is gonna b...            trump\n",
       "23  RT @MonicaCrowley: Because of course they are....          clinton\n",
       "24  RT @Pixburgher66: https://t.co/8TWQE6KDCN This...            trump\n",
       "25  RT @RickyPDillon: NEW VIDEO FROM YESTERDAY! I ...            trump\n",
       "26  Ann Coulter writes book in praise of Donald Tr...            trump\n",
       "27  She's such a little person she could never apo...                 \n",
       "28  RT @FT: David Cameron says Donald Trump 'deser...            trump\n",
       "29  RT @realDonaldTrump: \"@NathanDWilsonFL: @Maria...            trump\n",
       "30  RT @ThePatriot143: Dennis Miller to #NeverTrum...    clinton,trump\n",
       "31  Marco Rubio descartó ser candidato de Trump a ...            trump\n",
       "32  RT @Mike_Beacham: Clinton Email Scandal: \\nNow...          clinton\n",
       "33  RT @bakedalaska: this is the REAL donald trump...            trump\n",
       "34  RT @irritatedwoman: CLINTON TECH STAFFER EMAIL...          clinton\n",
       "35  RT @PatriotByGod: So the Establishment is mad ...            trump\n",
       "36        Isn't that enough to Trump for now? #inners            trump\n",
       "37  RT @Campaign_Trump: CRUZ DID NOT SEE THIS COMI...    clinton,trump\n",
       "38  RT @SmallBiz4Trump: HOOYAH! Military Times sur...    clinton,trump\n",
       "39  @AC360 In 2008 Trump supported Bill Clinton an...    clinton,trump\n",
       "40  RT @lilmojomofo: #Volunteer for Hillary # Figh...          clinton\n",
       "41  RT @mitchellvii: Even if you dislike Trump, vo...            trump\n",
       "42  RT @Miriam2626: #IHaveAGift for tweeting for #...          sanders\n",
       "43  Crime Scene: Trump Headstone in Central Park: ...            trump\n",
       "44  RT @cfhorgan: christ what an asshole. https://...                 \n",
       "45  @marklevinshow @KatrinaPierson @realDonaldTrum...            trump\n",
       "46  #ImExcitedAbout\\n@HarryBelafonte Endorsing Ber...          sanders\n",
       "47  hey Chris, remember your JOB, here in NJ ??- -...            trump\n",
       "48  RT @BuzzFeedster: BREAKING: Bush Ambassador to...            trump\n",
       "49  RT @voter1vote: Trump Completely Contradicts H...            trump"
      ]
     },
     "execution_count": 90,
     "metadata": {},
     "output_type": "execute_result"
    }
   ],
   "source": [
    "tweets[\"candidate\"] = tweets.apply(get_candidate,axis=1)\n",
    "tweets[[\"text\", \"candidate\"]].head(50)"
   ]
  },
  {
   "cell_type": "markdown",
   "metadata": {},
   "source": [
    "Making the first plot\n",
    "Now that we have the preliminaries out the way, we're ready to draw our first plot using matplotlib. In matplotlib, drawing a plot involves:\n",
    "\n",
    "* Creating a [Figure](http://matplotlib.org/api/figure_api.html) to draw plots into.\n",
    "* Creating one or more [Axes](http://matplotlib.org/api/axes_api.html) objects to draw the plots.\n",
    "* Showing the figure, and any plots inside, as an image.\n",
    "\n",
    "Because of its flexible structure, you can draw multiple plots into a single image in matplotlib. Each Axes object represents a single plot, like a bar plot or a histogram.\n",
    "\n",
    "This may sound complicated, but matplotlib has convenience methods that do all the work of setting up a Figure and Axes object for us."
   ]
  },
  {
   "cell_type": "markdown",
   "metadata": {},
   "source": [
    "## Importing matplotlib\n",
    "\n",
    "In order to use matplotlib, you'll need to first import the library using import matplotlib.pyplot as plt. If you're using Jupyter notebook, you can setup matplotlib to work inside the notebook using %matplotlib inline."
   ]
  },
  {
   "cell_type": "code",
   "execution_count": 91,
   "metadata": {
    "collapsed": true
   },
   "outputs": [],
   "source": [
    "import matplotlib.pyplot as plt\n",
    "import numpy as np\n",
    "%matplotlib inline"
   ]
  },
  {
   "cell_type": "markdown",
   "metadata": {},
   "source": [
    "We import matplotlib.pyplot because this contains the plotting functions of matplotlib. We rename it to plt for convenience, so it's faster to make plots."
   ]
  },
  {
   "cell_type": "markdown",
   "metadata": {},
   "source": [
    "Making a bar plot\n",
    "Once we've imported matplotlib, we can make a bar plot of how many tweets mentioned each candidate. In order to do this, we'll:\n",
    "\n",
    "* Use the [value_counts](http://pandas.pydata.org/pandas-docs/stable/generated/pandas.Series.value_counts.html) method on Pandas [Series](http://pandas.pydata.org/pandas-docs/stable/generated/pandas.Series.html) to count up how many tweets mention each candidate.\n",
    "* Use plt.bar to create a bar plot. We'll pass in a list of numbers from 0 to the number of unique values in the candidate column as the x-axis input, and the counts as the y-axis input.\n",
    "* Display the counts so we have more context about what each bar represents."
   ]
  },
  {
   "cell_type": "code",
   "execution_count": 92,
   "metadata": {},
   "outputs": [
    {
     "data": {
      "image/png": "[encoded data removed]",
      "text/plain": [
       "<matplotlib.figure.Figure at 0x10af277b8>"
      ]
     },
     "metadata": {},
     "output_type": "display_data"
    },
    {
     "name": "stdout",
     "output_type": "stream",
     "text": [
      "trump                    119998\n",
      "clinton,trump             30521\n",
      "                          25429\n",
      "sanders                   25351\n",
      "clinton                   22746\n",
      "clinton,sanders            6044\n",
      "clinton,trump,sanders      4219\n",
      "trump,sanders              3172\n",
      "Name: candidate, dtype: int64\n"
     ]
    }
   ],
   "source": [
    "counts = tweets[\"candidate\"].value_counts()\n",
    "plt.bar(range(len(counts)), counts)\n",
    "plt.show()\n",
    "\n",
    "print(counts)"
   ]
  },
  {
   "cell_type": "markdown",
   "metadata": {},
   "source": [
    "It's pretty surprising how many more tweets are about Trump than are about Sanders or Clinton!\n",
    "\n",
    "You may notice that we don't create a Figure, or any Axes objects. This is because calling plt.bar will automatically setup a Figure and a single Axes object, representing the bar plot. Calling the plt.show method will show anything in the current figure. In this case, it shows an image containing a bar plot.\n",
    "\n",
    "matplotlib has a few methods in the pyplot module that make creating common types of plots faster and more convenient because they automatically create a Figure and an Axes object. The most widely used are:\n",
    "\n",
    "* [plt.bar](http://matplotlib.org/api/pyplot_api.html#matplotlib.pyplot.bar) — creates a bar chart.\n",
    "* [plt.boxplot](http://matplotlib.org/api/pyplot_api.html#matplotlib.pyplot.boxplot) — makes a box and whisker plot.\n",
    "* [plt.hist](http://matplotlib.org/api/pyplot_api.html#matplotlib.pyplot.hist) — makes a histogram.\n",
    "* [plt.plot](http://matplotlib.org/api/pyplot_api.html#matplotlib.pyplot.plot) — creates a line plot.\n",
    "* [plt.scatter](http://matplotlib.org/api/pyplot_api.html#matplotlib.pyplot.scatter) — makes a scatter plot.\n",
    "\n",
    "Calling any of these methods will automatically setup Figure and Axes objects, and draw the plot. Each of these methods has different parameters that can be passed in to modify the resulting plot."
   ]
  },
  {
   "cell_type": "markdown",
   "metadata": {},
   "source": [
    "# Customizing plots\n",
    "\n",
    "Now that we've made a basic first plot, we can move on to creating a more customized second plot. We'll make a basic histogram, then modify it to add labels and other information.\n",
    "\n",
    "One of the things we can look at is the age of the user accounts that are tweeting. We'll be able to find if there differences in when the accounts of users who tweet about Trump and when the accounts of users who tweet about Clinton were created. One candidate having more user accounts created recently might imply some kind of manipulation of Twitter with fake accounts.\n",
    "\n",
    "In the code below, we'll:\n",
    "\n",
    "* Convert the created and user_created columns to the Pandas datetime type.\n",
    "* Create a user_age column that is the number of years since the account was created.\n",
    "* Create a histogram of user ages.\n",
    "* Show the histogram."
   ]
  },
  {
   "cell_type": "code",
   "execution_count": 93,
   "metadata": {},
   "outputs": [
    {
     "data": {
      "image/png": "[encoded data removed]",
      "text/plain": [
       "<matplotlib.figure.Figure at 0x111232a90>"
      ]
     },
     "metadata": {},
     "output_type": "display_data"
    }
   ],
   "source": [
    "from datetime import datetime\n",
    "\n",
    "tweets[\"created\"] = pd.to_datetime(tweets[\"created\"])\n",
    "tweets[\"user_created\"] = pd.to_datetime(tweets[\"user_created\"])\n",
    "\n",
    "tweets[\"user_age\"] = tweets[\"user_created\"].apply(lambda x: (datetime.now() - x).total_seconds() / 3600 / 24 / 365)\n",
    "plt.hist(tweets[\"user_age\"], edgecolor='black')\n",
    "plt.show()"
   ]
  },
  {
   "cell_type": "markdown",
   "metadata": {},
   "source": [
    "Adding labels\n",
    "We can add titles and axis labels to matplotlib plots. The common methods with which to do this are:\n",
    "\n",
    "* [plt.title](http://matplotlib.org/api/pyplot_api.html#matplotlib.pyplot.title) — adds a title to the plot.\n",
    "* [plt.xlabel](http://matplotlib.org/api/pyplot_api.html#matplotlib.pyplot.xlabel) — adds an x-axis label.\n",
    "* [plt.ylabel](http://matplotlib.org/api/pyplot_api.html#matplotlib.pyplot.ylabel) — adds a y-axis label.\n",
    "\n",
    "Since all of the methods we discussed before, like bar and hist, automatically create a Figure and a single Axes object inside the figure, these labels will be added to the Axes object when the method is called.\n",
    "\n",
    "We can add labels to our previous histogram using the above methods. In the code below, we'll:\n",
    "\n",
    "* Generate the same histogram we did before.\n",
    "* Draw a title onto the histogram.\n",
    "* Draw an x axis label onto the histogram.\n",
    "* Draw a y axis label onto the histogram.\n",
    "* Show the plot."
   ]
  },
  {
   "cell_type": "code",
   "execution_count": 94,
   "metadata": {},
   "outputs": [
    {
     "data": {
      "image/png": "[encoded data removed]",
      "text/plain": [
       "<matplotlib.figure.Figure at 0x10af27390>"
      ]
     },
     "metadata": {},
     "output_type": "display_data"
    }
   ],
   "source": [
    "plt.hist(tweets[\"user_age\"], edgecolor='black')\n",
    "plt.title(\"Tweets mentioning candidates\")\n",
    "plt.xlabel(\"Twitter account age in years\")\n",
    "plt.ylabel(\"# of tweets\")\n",
    "plt.show()"
   ]
  },
  {
   "cell_type": "markdown",
   "metadata": {},
   "source": [
    "## Making a stacked histogram\n",
    "\n",
    "The current histogram does a nice job of telling us the account age of all tweeters, but it doesn't break it down by candidate, which might be more interesting. We can leverage the additional options in the hist method to create a stacked histogram.\n",
    "\n",
    "In the below code, we'll:\n",
    "\n",
    "* Generate three Pandas series, each containing the user_age data only for tweets about a certain candidate.\n",
    "* Make a stacked histogram by calling the hist method with additional options.\n",
    "    * Specifying a list as the input will plot three sets of histogram bars.\n",
    "    * Specifying stacked=True will stack the three sets of bars.\n",
    "    * Adding the label option will generate the correct labels for the legend.\n",
    "* Call the plt.legend method to draw a legend in the top right corner.\n",
    "* Add a title, x axis, and y axis labels.\n",
    "* Show the plot."
   ]
  },
  {
   "cell_type": "code",
   "execution_count": 106,
   "metadata": {},
   "outputs": [
    {
     "name": "stderr",
     "output_type": "stream",
     "text": [
      "/Users/kolobj/anaconda/lib/python3.6/site-packages/numpy/core/fromnumeric.py:57: FutureWarning: reshape is deprecated and will raise in a subsequent release. Please use .values.reshape(...) instead\n",
      "  return getattr(obj, method)(*args, **kwds)\n"
     ]
    },
    {
     "data": {
      "image/png": "[encoded data removed]",
      "text/plain": [
       "<matplotlib.figure.Figure at 0x1278a54e0>"
      ]
     },
     "metadata": {},
     "output_type": "display_data"
    }
   ],
   "source": [
    "cl_tweets = tweets[\"user_age\"][tweets[\"candidate\"] == \"clinton\"]\n",
    "sa_tweets = tweets[\"user_age\"][tweets[\"candidate\"] == \"sanders\"]\n",
    "tr_tweets = tweets[\"user_age\"][tweets[\"candidate\"] == \"trump\"]\n",
    "plt.hist([\n",
    "        cl_tweets, \n",
    "        sa_tweets, \n",
    "        tr_tweets\n",
    "    ], \n",
    "    stacked=True, \n",
    "    label=[\"clinton {}\".format(len(cl_tweets.index)), \n",
    "           \"sanders {}\".format(len(sa_tweets.index)), \n",
    "           \"trump {}\".format(len(tr_tweets.index))],\n",
    "    edgecolor='black'\n",
    ")\n",
    "plt.legend(loc=1)\n",
    "plt.title(\"Tweets mentioning each candidate\")\n",
    "plt.xlabel(\"Twitter account age in years\")\n",
    "plt.ylabel(\"# of tweets\")\n",
    "plt.show()"
   ]
  },
  {
   "cell_type": "markdown",
   "metadata": {},
   "source": [
    "## Annotating the histogram\n",
    "\n",
    "We can take advantage of matplotlibs ability to draw text over plots to add annotations. Annotations point to a specific part of the chart, and let us add a snippet describing something to look at.\n",
    "\n",
    "In the code below, we'll make the same histogram as we did above, but we'll call the plt.annotate method to add an annotation to the plot."
   ]
  },
  {
   "cell_type": "code",
   "execution_count": 117,
   "metadata": {},
   "outputs": [
    {
     "name": "stderr",
     "output_type": "stream",
     "text": [
      "/Users/kolobj/anaconda/lib/python3.6/site-packages/numpy/core/fromnumeric.py:57: FutureWarning: reshape is deprecated and will raise in a subsequent release. Please use .values.reshape(...) instead\n",
      "  return getattr(obj, method)(*args, **kwds)\n"
     ]
    },
    {
     "data": {
      "image/png": "[encoded data removed]",
      "text/plain": [
       "<matplotlib.figure.Figure at 0x10d9e76d8>"
      ]
     },
     "metadata": {},
     "output_type": "display_data"
    }
   ],
   "source": [
    "plt.hist([\n",
    "        cl_tweets, \n",
    "        sa_tweets, \n",
    "        tr_tweets\n",
    "    ], \n",
    "    stacked=True, \n",
    "    label=[\"clinton\", \"sanders\", \"trump\"],\n",
    "    edgecolor='black'\n",
    ")\n",
    "plt.legend()\n",
    "plt.title(\"Tweets mentioning each candidate\")\n",
    "plt.xlabel(\"Twitter account age in years\")\n",
    "plt.ylabel(\"# of tweets\")\n",
    "\n",
    "plt.annotate('More Trump Tweets',\n",
    "            xy=(3, 35000), xycoords='data',\n",
    "            xytext=(4, 37000), textcoords='data',\n",
    "            arrowprops=dict(facecolor='blue', shrink=0.05),\n",
    "            horizontalalignment='left', verticalalignment='bottom')\n",
    "\n",
    "plt.show()\n",
    "plt.close()"
   ]
  },
  {
   "cell_type": "markdown",
   "metadata": {},
   "source": [
    "Here's a description of what the options passed into annotate do:\n",
    "\n",
    "* xy — determines the x and y coordinates where the arrow should start.\n",
    "* xytext — determines the x and y coordinates where the text should start.\n",
    "* arrowprops — specify options about the arrow, such as color.\n",
    "\n",
    "As you can see, there are significantly more tweets about Trump then there are about other candidates, but there doesn't look to be a significant difference in account ages."
   ]
  },
  {
   "cell_type": "markdown",
   "metadata": {},
   "source": [
    "# Multiple subplots\n",
    "\n",
    "So far, we've been using methods like plt.bar and plt.hist, which automatically create a Figure object and an Axes object. However, we can explicitly create these objects when we want more control over our plots. One situation in which we would want more control is when we want to put multiple plots side by side in the same image.\n",
    "\n",
    "We can generate a Figure and multiple Axes objects by calling the plt.subplots methods. We pass in two arguments, nrows, and ncols, which define the layout of the Axes objects in the Figure. For example, plt.subplots(nrows=2, ncols=2) will generate 2x2 grid of Axes objects. plt.subplots(nrows=2, ncols=1) will generate a 2x1 grid of Axes objects, and stack the two Axes vertically.\n",
    "\n",
    "Each Axes object supports most of the methods from pyplot. For instance, we could call the bar method on an Axes object to generate a bar chart."
   ]
  },
  {
   "cell_type": "markdown",
   "metadata": {},
   "source": [
    "## Extracting colors\n",
    "\n",
    "We'll generate 4 plots that show the amount of the colors red and blue in the Twitter background colors of users tweeting about Trump. This may show if tweeters who identify as Republican are more likely to put red in their profile.\n",
    "\n",
    "First, we'll generate two columns, red and blue, that tell us how much of each color is in each tweeter's profile background, from 0 to 1.\n",
    "\n",
    "In the code below, we'll:\n",
    "\n",
    "* Use the apply method to go through each row in the user_bg_color column, and extract how much red is in it.\n",
    "* Use the apply method to go through each row in the user_bg_color column, and extract how much blue is in it."
   ]
  },
  {
   "cell_type": "code",
   "execution_count": 123,
   "metadata": {
    "collapsed": true
   },
   "outputs": [],
   "source": [
    "import matplotlib.colors as colors\n",
    "\n",
    "tweets[\"red\"] = tweets[\"user_bg_color\"].apply(lambda x: colors.hex2color('#{0}'.format(x))[0])\n",
    "tweets[\"blue\"] = tweets[\"user_bg_color\"].apply(lambda x: colors.hex2color('#{0}'.format(x))[2])"
   ]
  },
  {
   "cell_type": "markdown",
   "metadata": {},
   "source": [
    "## Creating the plot\n",
    "Once we have the data setup, we can create the plots. Each plot will be a histogram showing how many tweeters have a profile background containing a certain amount of blue or red.\n",
    "\n",
    "In the below code, we:\n",
    "\n",
    "* Generate a Figure and multiple Axes with the subplots method. The axes will be returned as an array.\n",
    "* The axes are returned in a 2x2 NumPy array. We extract each individual Axes object by using the flat property of arrays. This gives us 4 Axes objects we can work with.\n",
    "* Plot a histogram in the first Axes using the hist method.\n",
    "* Set the title of the first Axes to Red in all backgrounds using the set_title method. This performs the same function as plt.title.\n",
    "* Plot a histogram in the second Axes using the hist method.\n",
    "* Set the title of the second Axes to Red in Trump tweeters using the set_title method.\n",
    "* Plot a histogram in the third Axes using the hist method.\n",
    "* Set the title of the third Axes to Blue in all backgrounds using the set_title method. This performs the same function as plt.title.\n",
    "* Plot a histogram in the fourth Axes using the hist method.\n",
    "* Set the title of the fourth Axes to Blue in Trump tweeters using the set_title method.\n",
    "* Call the plt.tight_layout method to reduce padding in the graphs and fit all the elements.\n",
    "* Show the plot."
   ]
  },
  {
   "cell_type": "code",
   "execution_count": 134,
   "metadata": {},
   "outputs": [
    {
     "data": {
      "image/png": "[encoded data removed]",
      "text/plain": [
       "<matplotlib.figure.Figure at 0x11f202588>"
      ]
     },
     "metadata": {},
     "output_type": "display_data"
    }
   ],
   "source": [
    "fig, axes = plt.subplots(nrows=2, ncols=2)\n",
    "# ax0 = axes[0][0]\n",
    "# ax1 = axes[0][1]\n",
    "# ax2 = axes[1][0]\n",
    "# ax3 = axes[1][1]\n",
    "ax0, ax1, ax2, ax3 = axes.flat\n",
    "# ax = axes.flat\n",
    "\n",
    "ax0.hist(tweets[\"red\"])\n",
    "ax0.set_title('Red in backgrounds')\n",
    "\n",
    "ax1.hist(tweets[\"red\"][tweets[\"candidate\"] == \"trump\"].values)\n",
    "ax1.set_title('Red in Trump tweeters')\n",
    "\n",
    "ax2.hist(tweets[\"blue\"])\n",
    "ax2.set_title('Blue in backgrounds')\n",
    "\n",
    "ax3.hist(tweets[\"blue\"][tweets[\"candidate\"] == \"trump\"].values)\n",
    "ax3.set_title('Blue in Trump tweeters')\n",
    "\n",
    "plt.tight_layout()\n",
    "plt.show()"
   ]
  },
  {
   "cell_type": "code",
   "execution_count": null,
   "metadata": {
    "collapsed": true
   },
   "outputs": [],
   "source": []
  },
  {
   "cell_type": "markdown",
   "metadata": {},
   "source": [
    "## Removing common background colors\n",
    "\n",
    "Twitter has default profile background colors that we should probably remove so we can cut through the noise and generate a more accurate plot. The colors are in hexadecimal format, where #000000 is black, and #ffffff is white.\n",
    "\n",
    "Here's how to find the most common colors in background colors:"
   ]
  },
  {
   "cell_type": "code",
   "execution_count": 135,
   "metadata": {},
   "outputs": [
    {
     "data": {
      "text/plain": [
       "C0DEED    108977\n",
       "000000     31119\n",
       "F5F8FA     25597\n",
       "131516      7731\n",
       "1A1B1F      5059\n",
       "022330      4300\n",
       "0099B9      3958\n",
       "642D8B      3767\n",
       "FFFFFF      3101\n",
       "9AE4E8      2651\n",
       "ACDED6      2383\n",
       "352726      2338\n",
       "C6E2EE      1978\n",
       "709397      1518\n",
       "EBEBEB      1475\n",
       "FF6699      1370\n",
       "BADFCD      1336\n",
       "FFF04D      1300\n",
       "EDECE9      1225\n",
       "B2DFDA      1218\n",
       "DBE9ED      1113\n",
       "ABB8C2      1101\n",
       "8B542B      1073\n",
       "3B94D9       623\n",
       "89C9FA       414\n",
       "DD2E44       351\n",
       "94D487       318\n",
       "4A913C       300\n",
       "9266CC       287\n",
       "F5ABB5       267\n",
       "           ...  \n",
       "EBEB17         1\n",
       "51207A         1\n",
       "6298B3         1\n",
       "FCCFC4         1\n",
       "99C4E8         1\n",
       "D2DBDB         1\n",
       "1A1A04         1\n",
       "D9D5D8         1\n",
       "5E808A         1\n",
       "B8000F         1\n",
       "1AEB55         1\n",
       "CCFFCC         1\n",
       "5C468F         1\n",
       "9E7979         1\n",
       "B89046         1\n",
       "FAE6EE         1\n",
       "010308         1\n",
       "3A3B42         1\n",
       "030C1A         1\n",
       "B300FA         1\n",
       "07E6A7         1\n",
       "8CE4FA         1\n",
       "FF0044         1\n",
       "51EDA4         1\n",
       "0D1FE0         1\n",
       "9B8FA6         1\n",
       "D8E1E6         1\n",
       "DADAE6         1\n",
       "030203         1\n",
       "0B5375         1\n",
       "Name: user_bg_color, Length: 6970, dtype: int64"
      ]
     },
     "execution_count": 135,
     "metadata": {},
     "output_type": "execute_result"
    }
   ],
   "source": [
    "tweets[\"user_bg_color\"].value_counts()"
   ]
  },
  {
   "cell_type": "markdown",
   "metadata": {},
   "source": [
    "Now, we can remove the three most common colors, and only plot out users who have unique background colors. The code below is mostly what we did earlier, but we'll:\n",
    "\n",
    "* Remove C0DEED, 000000, and F5F8FA from user_bg_color.\n",
    "* Create a function with out plotting logic from the last chart inside.\n",
    "* Plot the same 4 plots from before without the most common colors in user_bg_color."
   ]
  },
  {
   "cell_type": "code",
   "execution_count": 141,
   "metadata": {},
   "outputs": [
    {
     "data": {
      "image/png": "[encoded data removed]",
      "text/plain": [
       "<matplotlib.figure.Figure at 0x10de206d8>"
      ]
     },
     "metadata": {},
     "output_type": "display_data"
    }
   ],
   "source": [
    "mask = ~tweets[\"user_bg_color\"].isin([\"C0DEED\", \"000000\", \"F5F8FA\"])\n",
    "tc = tweets[mask]\n",
    "\n",
    "def create_plot(data):\n",
    "    fig, axes = plt.subplots(nrows=2, ncols=2)\n",
    "    ax0, ax1, ax2, ax3 = axes.flat\n",
    "\n",
    "    ax0.hist(data[\"red\"])\n",
    "    ax0.set_title('Red in backgrounds')\n",
    "\n",
    "    ax1.hist(data[\"red\"][data[\"candidate\"] == \"trump\"].values)\n",
    "    ax1.set_title('Red in Trump tweets')\n",
    "\n",
    "    ax2.hist(data[\"blue\"])\n",
    "    ax2.set_title('Blue in backgrounds')\n",
    "\n",
    "    ax3.hist(data[\"blue\"][data[\"candidate\"] == \"trump\"].values)\n",
    "    ax3.set_title('Blue in Trump tweeters')\n",
    "\n",
    "    plt.tight_layout()\n",
    "    plt.show()\n",
    "\n",
    "create_plot(tc)"
   ]
  },
  {
   "cell_type": "markdown",
   "metadata": {},
   "source": [
    "As you can see, the distribution of blue and red in background colors for users that tweeted about Trump is almost identical to the distribution for all tweeters."
   ]
  },
  {
   "cell_type": "markdown",
   "metadata": {},
   "source": [
    "# Plotting sentiment\n",
    "We generated sentiment scores for each tweet using TextBlob, which are stored in the polarity column. We can plot the mean value for each candidate, along with the standard deviation. The standard deviation will tell us how wide the variation is between all the tweets, whereas the mean will tell us how the average tweet is.\n",
    "\n",
    "In order to do this, we can add 2 Axes to a single Figure, and plot the mean of polarity in one, and the standard deviation in the other. Because there are a lot of text labels in these plots, we'll need to increase the size of the generated figure to match. We can do this with the figsize option in the plt.subplots method.\n",
    "\n",
    "The code below will:\n",
    "\n",
    "* Group tweets by candidate, and compute the mean and standard deviation for each numerical column (including polarity).\n",
    "* Create a Figure that's 7 inches by 7 inches, with 2 Axes objects, arranged vertically.\n",
    "* Create a bar plot of the standard deviation the first Axes object.\n",
    "    * Set the tick labels using the set_xticklabels method, and rotate the labels 45 degrees using the rotation argument.\n",
    "    * Set the title.\n",
    "* Create a bar plot of the mean on the second Axes object.\n",
    "    * Set the tick labels.\n",
    "    * Set the title.\n",
    "* Show the plot.\n"
   ]
  },
  {
   "cell_type": "code",
   "execution_count": 142,
   "metadata": {},
   "outputs": [
    {
     "data": {
      "image/png": "[encoded data removed]",
      "text/plain": [
       "<matplotlib.figure.Figure at 0x12b49fb00>"
      ]
     },
     "metadata": {},
     "output_type": "display_data"
    }
   ],
   "source": [
    "gr = tweets.groupby(\"candidate\").agg([np.mean, np.std])\n",
    "\n",
    "fig, axes = plt.subplots(nrows=2, ncols=1, figsize=(7, 7))\n",
    "ax0, ax1 = axes.flat\n",
    "\n",
    "std = gr[\"polarity\"][\"std\"].iloc[1:]\n",
    "mean = gr[\"polarity\"][\"mean\"].iloc[1:]\n",
    "ax0.bar(range(len(std)), std)\n",
    "ax0.set_xticklabels(std.index, rotation=45)\n",
    "ax0.set_title('Standard deviation of tweet sentiment')\n",
    "\n",
    "ax1.bar(range(len(mean)), mean)\n",
    "ax1.set_xticklabels(mean.index, rotation=45)\n",
    "ax1.set_title('Mean tweet sentiment')\n",
    "\n",
    "plt.tight_layout()\n",
    "plt.show()"
   ]
  },
  {
   "cell_type": "markdown",
   "metadata": {},
   "source": []
  },
  {
   "cell_type": "markdown",
   "metadata": {},
   "source": [
    "# Generating a side by side bar plot\n",
    "We can plot tweet length by candidate using a bar plot. We'll first split the tweets into short, medium, and long tweets. Then, we'll count up how many tweets mentioning each candidate fall into each group. Then, we'll generate a bar plot with bars for each candidate side by side."
   ]
  },
  {
   "cell_type": "markdown",
   "metadata": {},
   "source": [
    "## Generating tweet lengths\n",
    "To plot the tweet lengths, we'll first have to categorize the tweets, then figure out how many tweets by each candidate fall into each bin.\n",
    "\n",
    "In the code below, we'll:\n",
    "\n",
    "* Define a function to mark a tweet as short if it's less than 100 characters, medium if it's 100 to 135 characters, and long if it's over 135 characters.\n",
    "* Use apply to generate a new column tweet_length.\n",
    "* Figure out how many tweets by each candidate fall into each group."
   ]
  },
  {
   "cell_type": "code",
   "execution_count": 143,
   "metadata": {
    "collapsed": true
   },
   "outputs": [],
   "source": [
    "def tweet_lengths(text):\n",
    "    if len(text) < 100:\n",
    "        return \"short\"\n",
    "    elif 100 <= len(text) <= 135:\n",
    "        return \"medium\"\n",
    "    else:\n",
    "        return \"long\"\n",
    "\n",
    "tweets[\"tweet_length\"] = tweets[\"text\"].apply(tweet_lengths)\n",
    "\n",
    "tl = {}\n",
    "for candidate in [\"clinton\", \"sanders\", \"trump\"]:\n",
    "    tl[candidate] = tweets[\"tweet_length\"][tweets[\"candidate\"] == candidate].value_counts()"
   ]
  },
  {
   "cell_type": "markdown",
   "metadata": {},
   "source": [
    "## Plotting\n",
    "Now that we have the data we want to plot, we can generate our side by side bar plot. We'll use the bar method to plot the tweet lengths for each candidate on the same axis. However, we'll use an offset to shift the bars to the right for the second and third candidates we plot. This will give us three category areas, short, medium, and long, with one bar for each candidate in each area.\n",
    "\n",
    "In the code below, we:\n",
    "\n",
    "* Create a Figure and a single Axes object.\n",
    "* Define the width for each bar, .5.\n",
    "* Generate a sequence of values, x, that is 0, 2, 4. Each value is the start of a category, such as short, medium, and long. We put a distance of 2 between each category so we have space for multiple bars.\n",
    "* Plot clinton tweets on the Axes object, with the bars at the positions defined by x.\n",
    "* Plot sanders tweets on the Axes object, but add width to x to move the bars to the right.\n",
    "* Plot trump tweets on the Axes object, but add width * 2 to x to move the bars to the far right.\n",
    "* Set the axis labels and title.\n",
    "* Use set_xticks to move the tick labels to the center of each category area.\n",
    "* Set tick labels."
   ]
  },
  {
   "cell_type": "code",
   "execution_count": 144,
   "metadata": {},
   "outputs": [
    {
     "data": {
      "image/png": "[encoded data removed]",
      "text/plain": [
       "<matplotlib.figure.Figure at 0x12b3546d8>"
      ]
     },
     "metadata": {},
     "output_type": "display_data"
    }
   ],
   "source": [
    "fig, ax = plt.subplots()\n",
    "width = .5\n",
    "x = np.array(range(0, 6, 2))\n",
    "ax.bar(x, tl[\"clinton\"], width, color='g')\n",
    "ax.bar(x + width, tl[\"sanders\"], width, color='b')\n",
    "ax.bar(x + (width * 2), tl[\"trump\"], width, color='r')\n",
    "\n",
    "ax.set_ylabel('# of tweets')\n",
    "ax.set_title('Number of Tweets per candidate by length')\n",
    "ax.set_xticks(x + (width * 1.5))\n",
    "ax.set_xticklabels(('long', 'medium', 'short'))\n",
    "ax.set_xlabel('Tweet length')\n",
    "plt.show()"
   ]
  },
  {
   "cell_type": "markdown",
   "metadata": {},
   "source": [
    "# Next steps\n",
    "You can make quite a few plots next:\n",
    "\n",
    "* Analyze user descriptions, and see how description length varies by candidate.\n",
    "* Explore time of day — do supporters of one candidate tweet more at certain times?\n",
    "* Explore user location, and see which states tweet about which candidates the most.\n",
    "* See what kinds of usernames tweet more about what kinds of candidates.\n",
    "    * Do more digits in usernames correlate with support for a candidate?\n",
    "    * Which candidate has the most all caps supporters?\n",
    "* Scrape more data, and see if the patterns shift."
   ]
  },
  {
   "cell_type": "code",
   "execution_count": null,
   "metadata": {
    "collapsed": true
   },
   "outputs": [],
   "source": []
  }
 ],
 "metadata": {
  "kernelspec": {
   "display_name": "Python 3",
   "language": "python",
   "name": "python3"
  },
  "language_info": {
   "codemirror_mode": {
    "name": "ipython",
    "version": 3
   },
   "file_extension": ".py",
   "mimetype": "text/x-python",
   "name": "python",
   "nbconvert_exporter": "python",
   "pygments_lexer": "ipython3",
   "version": "3.6.4"
  }
 },
 "nbformat": 4,
 "nbformat_minor": 2
}
