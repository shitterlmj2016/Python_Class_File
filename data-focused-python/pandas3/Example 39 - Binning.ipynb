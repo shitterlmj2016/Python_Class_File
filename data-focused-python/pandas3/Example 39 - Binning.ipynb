{
 "cells": [
  {
   "cell_type": "code",
   "execution_count": 4,
   "metadata": {
    "collapsed": true
   },
   "outputs": [],
   "source": [
    "import numpy as np\n",
    "import pandas as pd\n",
    "from pandas import Series,DataFrame"
   ]
  },
  {
   "cell_type": "code",
   "execution_count": 5,
   "metadata": {
    "collapsed": true
   },
   "outputs": [],
   "source": [
    "years = [1990,1991,1992,2008,2012,2015,1987,1969,2013,2008,1999]"
   ]
  },
  {
   "cell_type": "code",
   "execution_count": 6,
   "metadata": {
    "collapsed": true
   },
   "outputs": [],
   "source": [
    "decade_bins = [1960,1970,1980,1990,2000,2010,2020]"
   ]
  },
  {
   "cell_type": "code",
   "execution_count": 7,
   "metadata": {},
   "outputs": [],
   "source": [
    "decade_cat = pd.cut(years,decade_bins)"
   ]
  },
  {
   "cell_type": "code",
   "execution_count": 8,
   "metadata": {},
   "outputs": [
    {
     "data": {
      "text/plain": [
       "[(1980, 1990], (1990, 2000], (1990, 2000], (2000, 2010], (2010, 2020], ..., (1980, 1990], (1960, 1970], (2010, 2020], (2000, 2010], (1990, 2000]]\n",
       "Length: 11\n",
       "Categories (6, interval[int64]): [(1960, 1970] < (1970, 1980] < (1980, 1990] < (1990, 2000] < (2000, 2010] < (2010, 2020]]"
      ]
     },
     "execution_count": 8,
     "metadata": {},
     "output_type": "execute_result"
    }
   ],
   "source": [
    "decade_cat"
   ]
  },
  {
   "cell_type": "code",
   "execution_count": 6,
   "metadata": {},
   "outputs": [
    {
     "data": {
      "text/plain": [
       "IntervalIndex([(1960, 1970], (1970, 1980], (1980, 1990], (1990, 2000], (2000, 2010], (2010, 2020]]\n",
       "              closed='right',\n",
       "              dtype='interval[int64]')"
      ]
     },
     "execution_count": 6,
     "metadata": {},
     "output_type": "execute_result"
    }
   ],
   "source": [
    "decade_cat.categories"
   ]
  },
  {
   "cell_type": "code",
   "execution_count": 7,
   "metadata": {},
   "outputs": [
    {
     "data": {
      "text/plain": [
       "(2010, 2020]    3\n",
       "(1990, 2000]    3\n",
       "(2000, 2010]    2\n",
       "(1980, 1990]    2\n",
       "(1960, 1970]    1\n",
       "(1970, 1980]    0\n",
       "dtype: int64"
      ]
     },
     "execution_count": 7,
     "metadata": {},
     "output_type": "execute_result"
    }
   ],
   "source": [
    "pd.value_counts(decade_cat)"
   ]
  },
  {
   "cell_type": "code",
   "execution_count": 8,
   "metadata": {},
   "outputs": [
    {
     "data": {
      "text/plain": [
       "[(1969.0, 1992.0], (1969.0, 1992.0], (1969.0, 1992.0], (1992.0, 2015.0], (1992.0, 2015.0], ..., (1969.0, 1992.0], (1969.0, 1992.0], (1992.0, 2015.0], (1992.0, 2015.0], (1992.0, 2015.0]]\n",
       "Length: 11\n",
       "Categories (2, interval[float64]): [(1969.0, 1992.0] < (1992.0, 2015.0]]"
      ]
     },
     "execution_count": 8,
     "metadata": {},
     "output_type": "execute_result"
    }
   ],
   "source": [
    "pd.cut(years,2,precision=1)"
   ]
  },
  {
   "cell_type": "code",
   "execution_count": 9,
   "metadata": {},
   "outputs": [
    {
     "name": "stdout",
     "output_type": "stream",
     "text": [
      "Help on function cut in module pandas.core.reshape.tile:\n",
      "\n",
      "cut(x, bins, right=True, labels=None, retbins=False, precision=3, include_lowest=False)\n",
      "    Return indices of half-open bins to which each value of `x` belongs.\n",
      "    \n",
      "    Parameters\n",
      "    ----------\n",
      "    x : array-like\n",
      "        Input array to be binned. It has to be 1-dimensional.\n",
      "    bins : int, sequence of scalars, or IntervalIndex\n",
      "        If `bins` is an int, it defines the number of equal-width bins in the\n",
      "        range of `x`. However, in this case, the range of `x` is extended\n",
      "        by .1% on each side to include the min or max values of `x`. If\n",
      "        `bins` is a sequence it defines the bin edges allowing for\n",
      "        non-uniform bin width. No extension of the range of `x` is done in\n",
      "        this case.\n",
      "    right : bool, optional\n",
      "        Indicates whether the bins include the rightmost edge or not. If\n",
      "        right == True (the default), then the bins [1,2,3,4] indicate\n",
      "        (1,2], (2,3], (3,4].\n",
      "    labels : array or boolean, default None\n",
      "        Used as labels for the resulting bins. Must be of the same length as\n",
      "        the resulting bins. If False, return only integer indicators of the\n",
      "        bins.\n",
      "    retbins : bool, optional\n",
      "        Whether to return the bins or not. Can be useful if bins is given\n",
      "        as a scalar.\n",
      "    precision : int, optional\n",
      "        The precision at which to store and display the bins labels\n",
      "    include_lowest : bool, optional\n",
      "        Whether the first interval should be left-inclusive or not.\n",
      "    \n",
      "    Returns\n",
      "    -------\n",
      "    out : Categorical or Series or array of integers if labels is False\n",
      "        The return type (Categorical or Series) depends on the input: a Series\n",
      "        of type category if input is a Series else Categorical. Bins are\n",
      "        represented as categories when categorical data is returned.\n",
      "    bins : ndarray of floats\n",
      "        Returned only if `retbins` is True.\n",
      "    \n",
      "    Notes\n",
      "    -----\n",
      "    The `cut` function can be useful for going from a continuous variable to\n",
      "    a categorical variable. For example, `cut` could convert ages to groups\n",
      "    of age ranges.\n",
      "    \n",
      "    Any NA values will be NA in the result.  Out of bounds values will be NA in\n",
      "    the resulting Categorical object\n",
      "    \n",
      "    \n",
      "    Examples\n",
      "    --------\n",
      "    >>> pd.cut(np.array([.2, 1.4, 2.5, 6.2, 9.7, 2.1]), 3, retbins=True)\n",
      "    ([(0.191, 3.367], (0.191, 3.367], (0.191, 3.367], (3.367, 6.533],\n",
      "      (6.533, 9.7], (0.191, 3.367]]\n",
      "    Categories (3, object): [(0.191, 3.367] < (3.367, 6.533] < (6.533, 9.7]],\n",
      "    array([ 0.1905    ,  3.36666667,  6.53333333,  9.7       ]))\n",
      "    \n",
      "    >>> pd.cut(np.array([.2, 1.4, 2.5, 6.2, 9.7, 2.1]), 3,\n",
      "               labels=[\"good\",\"medium\",\"bad\"])\n",
      "    [good, good, good, medium, bad, good]\n",
      "    Categories (3, object): [good < medium < bad]\n",
      "    \n",
      "    >>> pd.cut(np.ones(5), 4, labels=False)\n",
      "    array([1, 1, 1, 1, 1], dtype=int64)\n",
      "\n"
     ]
    }
   ],
   "source": [
    "help(pd.cut)"
   ]
  },
  {
   "cell_type": "code",
   "execution_count": null,
   "metadata": {
    "collapsed": true
   },
   "outputs": [],
   "source": []
  }
 ],
 "metadata": {
  "kernelspec": {
   "display_name": "Python 3",
   "language": "python",
   "name": "python3"
  },
  "language_info": {
   "codemirror_mode": {
    "name": "ipython",
    "version": 3
   },
   "file_extension": ".py",
   "mimetype": "text/x-python",
   "name": "python",
   "nbconvert_exporter": "python",
   "pygments_lexer": "ipython3",
   "version": "3.6.3"
  }
 },
 "nbformat": 4,
 "nbformat_minor": 2
}
