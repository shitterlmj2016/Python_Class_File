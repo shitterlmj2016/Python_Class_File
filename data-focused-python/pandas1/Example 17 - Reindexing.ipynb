{
 "cells": [
  {
   "cell_type": "code",
   "execution_count": 1,
   "metadata": {},
   "outputs": [
    {
     "name": "stderr",
     "output_type": "stream",
     "text": [
      "/Users/kolobj/anaconda/envs/cmu3/lib/python3.6/importlib/_bootstrap.py:219: RuntimeWarning: numpy.dtype size changed, may indicate binary incompatibility. Expected 96, got 88\n",
      "  return f(*args, **kwds)\n",
      "/Users/kolobj/anaconda/envs/cmu3/lib/python3.6/importlib/_bootstrap.py:219: RuntimeWarning: numpy.dtype size changed, may indicate binary incompatibility. Expected 96, got 88\n",
      "  return f(*args, **kwds)\n"
     ]
    }
   ],
   "source": [
    "import numpy as np\n",
    "from pandas import Series,DataFrame\n",
    "import pandas as pd\n",
    "\n",
    "from numpy.random import randn"
   ]
  },
  {
   "cell_type": "code",
   "execution_count": 21,
   "metadata": {},
   "outputs": [
    {
     "name": "stdout",
     "output_type": "stream",
     "text": [
      "A    1\n",
      "B    2\n",
      "C    3\n",
      "D    4\n",
      "dtype: int32 int32\n"
     ]
    }
   ],
   "source": [
    "ser1 = Series([1,2,3,4], index=['A', 'B', 'C', 'D'], dtype='int32')\n",
    "print(ser1, ser1.dtype)"
   ]
  },
  {
   "cell_type": "code",
   "execution_count": 28,
   "metadata": {},
   "outputs": [
    {
     "data": {
      "text/plain": [
       "A    1.0\n",
       "B    2.0\n",
       "C    3.0\n",
       "D    4.0\n",
       "E    NaN\n",
       "F    NaN\n",
       "dtype: float64"
      ]
     },
     "execution_count": 28,
     "metadata": {},
     "output_type": "execute_result"
    }
   ],
   "source": [
    "ser2 = ser1.reindex(['A','B','C','D','E','F'])\n",
    "ser2"
   ]
  },
  {
   "cell_type": "code",
   "execution_count": 6,
   "metadata": {},
   "outputs": [
    {
     "data": {
      "text/plain": [
       "A    1.0\n",
       "B    2.0\n",
       "C    3.0\n",
       "D    4.0\n",
       "E    NaN\n",
       "F    NaN\n",
       "G    0.0\n",
       "dtype: float64"
      ]
     },
     "execution_count": 6,
     "metadata": {},
     "output_type": "execute_result"
    }
   ],
   "source": [
    "ser2.reindex(['A', 'B', 'C', 'D', 'E', 'F', 'G'], fill_value=0)"
   ]
  },
  {
   "cell_type": "code",
   "execution_count": 15,
   "metadata": {},
   "outputs": [
    {
     "data": {
      "text/plain": [
       "dtype('float64')"
      ]
     },
     "execution_count": 15,
     "metadata": {},
     "output_type": "execute_result"
    }
   ],
   "source": [
    "ser2.dtype"
   ]
  },
  {
   "cell_type": "code",
   "execution_count": 7,
   "metadata": {
    "collapsed": true
   },
   "outputs": [],
   "source": [
    "ser3 = Series(['USA', 'Mexico', 'Canada'], index=[0,5,10])"
   ]
  },
  {
   "cell_type": "code",
   "execution_count": 11,
   "metadata": {},
   "outputs": [
    {
     "data": {
      "text/plain": [
       "0        USA\n",
       "5     Mexico\n",
       "10    Canada\n",
       "dtype: object"
      ]
     },
     "execution_count": 11,
     "metadata": {},
     "output_type": "execute_result"
    }
   ],
   "source": [
    "ser3"
   ]
  },
  {
   "cell_type": "code",
   "execution_count": 12,
   "metadata": {
    "collapsed": true
   },
   "outputs": [],
   "source": [
    "ranger = range(15)"
   ]
  },
  {
   "cell_type": "code",
   "execution_count": 13,
   "metadata": {},
   "outputs": [
    {
     "data": {
      "text/plain": [
       "range(0, 15)"
      ]
     },
     "execution_count": 13,
     "metadata": {},
     "output_type": "execute_result"
    }
   ],
   "source": [
    "ranger"
   ]
  },
  {
   "cell_type": "code",
   "execution_count": 14,
   "metadata": {},
   "outputs": [
    {
     "data": {
      "text/plain": [
       "0        USA\n",
       "1        USA\n",
       "2        USA\n",
       "3        USA\n",
       "4        USA\n",
       "5     Mexico\n",
       "6     Mexico\n",
       "7     Mexico\n",
       "8     Mexico\n",
       "9     Mexico\n",
       "10    Canada\n",
       "11    Canada\n",
       "12    Canada\n",
       "13    Canada\n",
       "14    Canada\n",
       "dtype: object"
      ]
     },
     "execution_count": 14,
     "metadata": {},
     "output_type": "execute_result"
    }
   ],
   "source": [
    "ser3.reindex(ranger, method='ffill')"
   ]
  },
  {
   "cell_type": "code",
   "execution_count": 29,
   "metadata": {},
   "outputs": [
    {
     "data": {
      "text/html": [
       "<div>\n",
       "<style scoped>\n",
       "    .dataframe tbody tr th:only-of-type {\n",
       "        vertical-align: middle;\n",
       "    }\n",
       "\n",
       "    .dataframe tbody tr th {\n",
       "        vertical-align: top;\n",
       "    }\n",
       "\n",
       "    .dataframe thead th {\n",
       "        text-align: right;\n",
       "    }\n",
       "</style>\n",
       "<table border=\"1\" class=\"dataframe\">\n",
       "  <thead>\n",
       "    <tr style=\"text-align: right;\">\n",
       "      <th></th>\n",
       "      <th>col1</th>\n",
       "      <th>col2</th>\n",
       "      <th>col3</th>\n",
       "      <th>col4</th>\n",
       "      <th>col5</th>\n",
       "    </tr>\n",
       "  </thead>\n",
       "  <tbody>\n",
       "    <tr>\n",
       "      <th>A</th>\n",
       "      <td>2.264367</td>\n",
       "      <td>-0.201017</td>\n",
       "      <td>-0.934010</td>\n",
       "      <td>1.265018</td>\n",
       "      <td>1.670051</td>\n",
       "    </tr>\n",
       "    <tr>\n",
       "      <th>B</th>\n",
       "      <td>1.871773</td>\n",
       "      <td>-0.048783</td>\n",
       "      <td>-0.592258</td>\n",
       "      <td>2.020963</td>\n",
       "      <td>1.312669</td>\n",
       "    </tr>\n",
       "    <tr>\n",
       "      <th>D</th>\n",
       "      <td>-0.535894</td>\n",
       "      <td>1.360402</td>\n",
       "      <td>0.549102</td>\n",
       "      <td>-0.122476</td>\n",
       "      <td>0.549154</td>\n",
       "    </tr>\n",
       "    <tr>\n",
       "      <th>E</th>\n",
       "      <td>-0.191506</td>\n",
       "      <td>-1.717748</td>\n",
       "      <td>0.443559</td>\n",
       "      <td>-0.823413</td>\n",
       "      <td>1.908932</td>\n",
       "    </tr>\n",
       "    <tr>\n",
       "      <th>F</th>\n",
       "      <td>1.549954</td>\n",
       "      <td>1.595530</td>\n",
       "      <td>1.427128</td>\n",
       "      <td>-0.243460</td>\n",
       "      <td>-1.837436</td>\n",
       "    </tr>\n",
       "  </tbody>\n",
       "</table>\n",
       "</div>"
      ],
      "text/plain": [
       "       col1      col2      col3      col4      col5\n",
       "A  2.264367 -0.201017 -0.934010  1.265018  1.670051\n",
       "B  1.871773 -0.048783 -0.592258  2.020963  1.312669\n",
       "D -0.535894  1.360402  0.549102 -0.122476  0.549154\n",
       "E -0.191506 -1.717748  0.443559 -0.823413  1.908932\n",
       "F  1.549954  1.595530  1.427128 -0.243460 -1.837436"
      ]
     },
     "execution_count": 29,
     "metadata": {},
     "output_type": "execute_result"
    }
   ],
   "source": [
    "dframe = DataFrame(randn(25).reshape((5,5)),index=['A','B','D','E','F'],columns=['col1','col2','col3','col4','col5'])\n",
    "dframe"
   ]
  },
  {
   "cell_type": "code",
   "execution_count": 16,
   "metadata": {},
   "outputs": [
    {
     "data": {
      "text/html": [
       "<div>\n",
       "<style>\n",
       "    .dataframe thead tr:only-child th {\n",
       "        text-align: right;\n",
       "    }\n",
       "\n",
       "    .dataframe thead th {\n",
       "        text-align: left;\n",
       "    }\n",
       "\n",
       "    .dataframe tbody tr th {\n",
       "        vertical-align: top;\n",
       "    }\n",
       "</style>\n",
       "<table border=\"1\" class=\"dataframe\">\n",
       "  <thead>\n",
       "    <tr style=\"text-align: right;\">\n",
       "      <th></th>\n",
       "      <th>col1</th>\n",
       "      <th>col2</th>\n",
       "      <th>col3</th>\n",
       "      <th>col4</th>\n",
       "      <th>col5</th>\n",
       "    </tr>\n",
       "  </thead>\n",
       "  <tbody>\n",
       "    <tr>\n",
       "      <th>A</th>\n",
       "      <td>-0.096501</td>\n",
       "      <td>0.361312</td>\n",
       "      <td>0.419080</td>\n",
       "      <td>0.583098</td>\n",
       "      <td>-0.851470</td>\n",
       "    </tr>\n",
       "    <tr>\n",
       "      <th>B</th>\n",
       "      <td>0.212760</td>\n",
       "      <td>-2.787913</td>\n",
       "      <td>-0.101889</td>\n",
       "      <td>-0.469943</td>\n",
       "      <td>0.075107</td>\n",
       "    </tr>\n",
       "    <tr>\n",
       "      <th>C</th>\n",
       "      <td>NaN</td>\n",
       "      <td>NaN</td>\n",
       "      <td>NaN</td>\n",
       "      <td>NaN</td>\n",
       "      <td>NaN</td>\n",
       "    </tr>\n",
       "    <tr>\n",
       "      <th>D</th>\n",
       "      <td>0.442735</td>\n",
       "      <td>-0.121766</td>\n",
       "      <td>-1.099969</td>\n",
       "      <td>-0.721740</td>\n",
       "      <td>-0.971635</td>\n",
       "    </tr>\n",
       "    <tr>\n",
       "      <th>E</th>\n",
       "      <td>0.436235</td>\n",
       "      <td>-1.209586</td>\n",
       "      <td>1.589384</td>\n",
       "      <td>1.723443</td>\n",
       "      <td>1.779326</td>\n",
       "    </tr>\n",
       "    <tr>\n",
       "      <th>F</th>\n",
       "      <td>0.514531</td>\n",
       "      <td>-0.446853</td>\n",
       "      <td>0.956181</td>\n",
       "      <td>-1.333042</td>\n",
       "      <td>0.287431</td>\n",
       "    </tr>\n",
       "  </tbody>\n",
       "</table>\n",
       "</div>"
      ],
      "text/plain": [
       "       col1      col2      col3      col4      col5\n",
       "A -0.096501  0.361312  0.419080  0.583098 -0.851470\n",
       "B  0.212760 -2.787913 -0.101889 -0.469943  0.075107\n",
       "C       NaN       NaN       NaN       NaN       NaN\n",
       "D  0.442735 -0.121766 -1.099969 -0.721740 -0.971635\n",
       "E  0.436235 -1.209586  1.589384  1.723443  1.779326\n",
       "F  0.514531 -0.446853  0.956181 -1.333042  0.287431"
      ]
     },
     "execution_count": 16,
     "metadata": {},
     "output_type": "execute_result"
    }
   ],
   "source": [
    "dframe2 = dframe.reindex(['A','B','C','D','E','F'])\n",
    "dframe2"
   ]
  },
  {
   "cell_type": "code",
   "execution_count": 22,
   "metadata": {},
   "outputs": [
    {
     "data": {
      "text/plain": [
       "['col1', 'col2', 'col3', 'col4', 'col5', 'col6']"
      ]
     },
     "execution_count": 22,
     "metadata": {},
     "output_type": "execute_result"
    }
   ],
   "source": [
    "new_columns = ['col1','col2','col3','col4','col5','col6']\n",
    "new_columns"
   ]
  },
  {
   "cell_type": "code",
   "execution_count": 21,
   "metadata": {},
   "outputs": [
    {
     "data": {
      "text/html": [
       "<div>\n",
       "<style>\n",
       "    .dataframe thead tr:only-child th {\n",
       "        text-align: right;\n",
       "    }\n",
       "\n",
       "    .dataframe thead th {\n",
       "        text-align: left;\n",
       "    }\n",
       "\n",
       "    .dataframe tbody tr th {\n",
       "        vertical-align: top;\n",
       "    }\n",
       "</style>\n",
       "<table border=\"1\" class=\"dataframe\">\n",
       "  <thead>\n",
       "    <tr style=\"text-align: right;\">\n",
       "      <th></th>\n",
       "      <th>col1</th>\n",
       "      <th>col2</th>\n",
       "      <th>col3</th>\n",
       "      <th>col4</th>\n",
       "      <th>col5</th>\n",
       "    </tr>\n",
       "  </thead>\n",
       "  <tbody>\n",
       "    <tr>\n",
       "      <th>A</th>\n",
       "      <td>-0.096501</td>\n",
       "      <td>0.361312</td>\n",
       "      <td>0.419080</td>\n",
       "      <td>0.583098</td>\n",
       "      <td>-0.851470</td>\n",
       "    </tr>\n",
       "    <tr>\n",
       "      <th>B</th>\n",
       "      <td>0.212760</td>\n",
       "      <td>-2.787913</td>\n",
       "      <td>-0.101889</td>\n",
       "      <td>-0.469943</td>\n",
       "      <td>0.075107</td>\n",
       "    </tr>\n",
       "    <tr>\n",
       "      <th>C</th>\n",
       "      <td>NaN</td>\n",
       "      <td>NaN</td>\n",
       "      <td>NaN</td>\n",
       "      <td>NaN</td>\n",
       "      <td>NaN</td>\n",
       "    </tr>\n",
       "    <tr>\n",
       "      <th>D</th>\n",
       "      <td>0.442735</td>\n",
       "      <td>-0.121766</td>\n",
       "      <td>-1.099969</td>\n",
       "      <td>-0.721740</td>\n",
       "      <td>-0.971635</td>\n",
       "    </tr>\n",
       "    <tr>\n",
       "      <th>E</th>\n",
       "      <td>0.436235</td>\n",
       "      <td>-1.209586</td>\n",
       "      <td>1.589384</td>\n",
       "      <td>1.723443</td>\n",
       "      <td>1.779326</td>\n",
       "    </tr>\n",
       "    <tr>\n",
       "      <th>F</th>\n",
       "      <td>0.514531</td>\n",
       "      <td>-0.446853</td>\n",
       "      <td>0.956181</td>\n",
       "      <td>-1.333042</td>\n",
       "      <td>0.287431</td>\n",
       "    </tr>\n",
       "  </tbody>\n",
       "</table>\n",
       "</div>"
      ],
      "text/plain": [
       "       col1      col2      col3      col4      col5\n",
       "A -0.096501  0.361312  0.419080  0.583098 -0.851470\n",
       "B  0.212760 -2.787913 -0.101889 -0.469943  0.075107\n",
       "C       NaN       NaN       NaN       NaN       NaN\n",
       "D  0.442735 -0.121766 -1.099969 -0.721740 -0.971635\n",
       "E  0.436235 -1.209586  1.589384  1.723443  1.779326\n",
       "F  0.514531 -0.446853  0.956181 -1.333042  0.287431"
      ]
     },
     "execution_count": 21,
     "metadata": {},
     "output_type": "execute_result"
    }
   ],
   "source": [
    "dframe2.reindex(columns=new_columns)\n",
    "dframe2"
   ]
  },
  {
   "cell_type": "code",
   "execution_count": 23,
   "metadata": {},
   "outputs": [
    {
     "data": {
      "text/html": [
       "<div>\n",
       "<style>\n",
       "    .dataframe thead tr:only-child th {\n",
       "        text-align: right;\n",
       "    }\n",
       "\n",
       "    .dataframe thead th {\n",
       "        text-align: left;\n",
       "    }\n",
       "\n",
       "    .dataframe tbody tr th {\n",
       "        vertical-align: top;\n",
       "    }\n",
       "</style>\n",
       "<table border=\"1\" class=\"dataframe\">\n",
       "  <thead>\n",
       "    <tr style=\"text-align: right;\">\n",
       "      <th></th>\n",
       "      <th>col1</th>\n",
       "      <th>col2</th>\n",
       "      <th>col3</th>\n",
       "      <th>col4</th>\n",
       "      <th>col5</th>\n",
       "    </tr>\n",
       "  </thead>\n",
       "  <tbody>\n",
       "    <tr>\n",
       "      <th>A</th>\n",
       "      <td>-0.096501</td>\n",
       "      <td>0.361312</td>\n",
       "      <td>0.419080</td>\n",
       "      <td>0.583098</td>\n",
       "      <td>-0.851470</td>\n",
       "    </tr>\n",
       "    <tr>\n",
       "      <th>B</th>\n",
       "      <td>0.212760</td>\n",
       "      <td>-2.787913</td>\n",
       "      <td>-0.101889</td>\n",
       "      <td>-0.469943</td>\n",
       "      <td>0.075107</td>\n",
       "    </tr>\n",
       "    <tr>\n",
       "      <th>C</th>\n",
       "      <td>NaN</td>\n",
       "      <td>NaN</td>\n",
       "      <td>NaN</td>\n",
       "      <td>NaN</td>\n",
       "      <td>NaN</td>\n",
       "    </tr>\n",
       "    <tr>\n",
       "      <th>D</th>\n",
       "      <td>0.442735</td>\n",
       "      <td>-0.121766</td>\n",
       "      <td>-1.099969</td>\n",
       "      <td>-0.721740</td>\n",
       "      <td>-0.971635</td>\n",
       "    </tr>\n",
       "    <tr>\n",
       "      <th>E</th>\n",
       "      <td>0.436235</td>\n",
       "      <td>-1.209586</td>\n",
       "      <td>1.589384</td>\n",
       "      <td>1.723443</td>\n",
       "      <td>1.779326</td>\n",
       "    </tr>\n",
       "    <tr>\n",
       "      <th>F</th>\n",
       "      <td>0.514531</td>\n",
       "      <td>-0.446853</td>\n",
       "      <td>0.956181</td>\n",
       "      <td>-1.333042</td>\n",
       "      <td>0.287431</td>\n",
       "    </tr>\n",
       "  </tbody>\n",
       "</table>\n",
       "</div>"
      ],
      "text/plain": [
       "       col1      col2      col3      col4      col5\n",
       "A -0.096501  0.361312  0.419080  0.583098 -0.851470\n",
       "B  0.212760 -2.787913 -0.101889 -0.469943  0.075107\n",
       "C       NaN       NaN       NaN       NaN       NaN\n",
       "D  0.442735 -0.121766 -1.099969 -0.721740 -0.971635\n",
       "E  0.436235 -1.209586  1.589384  1.723443  1.779326\n",
       "F  0.514531 -0.446853  0.956181 -1.333042  0.287431"
      ]
     },
     "execution_count": 23,
     "metadata": {},
     "output_type": "execute_result"
    }
   ],
   "source": [
    "dframe2"
   ]
  },
  {
   "cell_type": "code",
   "execution_count": 24,
   "metadata": {},
   "outputs": [
    {
     "data": {
      "text/html": [
       "<div>\n",
       "<style>\n",
       "    .dataframe thead tr:only-child th {\n",
       "        text-align: right;\n",
       "    }\n",
       "\n",
       "    .dataframe thead th {\n",
       "        text-align: left;\n",
       "    }\n",
       "\n",
       "    .dataframe tbody tr th {\n",
       "        vertical-align: top;\n",
       "    }\n",
       "</style>\n",
       "<table border=\"1\" class=\"dataframe\">\n",
       "  <thead>\n",
       "    <tr style=\"text-align: right;\">\n",
       "      <th></th>\n",
       "      <th>col1</th>\n",
       "      <th>col2</th>\n",
       "      <th>col3</th>\n",
       "      <th>col4</th>\n",
       "      <th>col5</th>\n",
       "    </tr>\n",
       "  </thead>\n",
       "  <tbody>\n",
       "    <tr>\n",
       "      <th>A</th>\n",
       "      <td>-0.096501</td>\n",
       "      <td>0.361312</td>\n",
       "      <td>0.419080</td>\n",
       "      <td>0.583098</td>\n",
       "      <td>-0.851470</td>\n",
       "    </tr>\n",
       "    <tr>\n",
       "      <th>B</th>\n",
       "      <td>0.212760</td>\n",
       "      <td>-2.787913</td>\n",
       "      <td>-0.101889</td>\n",
       "      <td>-0.469943</td>\n",
       "      <td>0.075107</td>\n",
       "    </tr>\n",
       "    <tr>\n",
       "      <th>D</th>\n",
       "      <td>0.442735</td>\n",
       "      <td>-0.121766</td>\n",
       "      <td>-1.099969</td>\n",
       "      <td>-0.721740</td>\n",
       "      <td>-0.971635</td>\n",
       "    </tr>\n",
       "    <tr>\n",
       "      <th>E</th>\n",
       "      <td>0.436235</td>\n",
       "      <td>-1.209586</td>\n",
       "      <td>1.589384</td>\n",
       "      <td>1.723443</td>\n",
       "      <td>1.779326</td>\n",
       "    </tr>\n",
       "    <tr>\n",
       "      <th>F</th>\n",
       "      <td>0.514531</td>\n",
       "      <td>-0.446853</td>\n",
       "      <td>0.956181</td>\n",
       "      <td>-1.333042</td>\n",
       "      <td>0.287431</td>\n",
       "    </tr>\n",
       "  </tbody>\n",
       "</table>\n",
       "</div>"
      ],
      "text/plain": [
       "       col1      col2      col3      col4      col5\n",
       "A -0.096501  0.361312  0.419080  0.583098 -0.851470\n",
       "B  0.212760 -2.787913 -0.101889 -0.469943  0.075107\n",
       "D  0.442735 -0.121766 -1.099969 -0.721740 -0.971635\n",
       "E  0.436235 -1.209586  1.589384  1.723443  1.779326\n",
       "F  0.514531 -0.446853  0.956181 -1.333042  0.287431"
      ]
     },
     "execution_count": 24,
     "metadata": {},
     "output_type": "execute_result"
    }
   ],
   "source": [
    "dframe"
   ]
  },
  {
   "cell_type": "code",
   "execution_count": 25,
   "metadata": {},
   "outputs": [
    {
     "data": {
      "text/html": [
       "<div>\n",
       "<style>\n",
       "    .dataframe thead tr:only-child th {\n",
       "        text-align: right;\n",
       "    }\n",
       "\n",
       "    .dataframe thead th {\n",
       "        text-align: left;\n",
       "    }\n",
       "\n",
       "    .dataframe tbody tr th {\n",
       "        vertical-align: top;\n",
       "    }\n",
       "</style>\n",
       "<table border=\"1\" class=\"dataframe\">\n",
       "  <thead>\n",
       "    <tr style=\"text-align: right;\">\n",
       "      <th></th>\n",
       "      <th>col1</th>\n",
       "      <th>col2</th>\n",
       "      <th>col3</th>\n",
       "      <th>col4</th>\n",
       "      <th>col5</th>\n",
       "      <th>col6</th>\n",
       "    </tr>\n",
       "  </thead>\n",
       "  <tbody>\n",
       "    <tr>\n",
       "      <th>A</th>\n",
       "      <td>-0.096501</td>\n",
       "      <td>0.361312</td>\n",
       "      <td>0.419080</td>\n",
       "      <td>0.583098</td>\n",
       "      <td>-0.851470</td>\n",
       "      <td>NaN</td>\n",
       "    </tr>\n",
       "    <tr>\n",
       "      <th>B</th>\n",
       "      <td>0.212760</td>\n",
       "      <td>-2.787913</td>\n",
       "      <td>-0.101889</td>\n",
       "      <td>-0.469943</td>\n",
       "      <td>0.075107</td>\n",
       "      <td>NaN</td>\n",
       "    </tr>\n",
       "    <tr>\n",
       "      <th>C</th>\n",
       "      <td>NaN</td>\n",
       "      <td>NaN</td>\n",
       "      <td>NaN</td>\n",
       "      <td>NaN</td>\n",
       "      <td>NaN</td>\n",
       "      <td>NaN</td>\n",
       "    </tr>\n",
       "    <tr>\n",
       "      <th>D</th>\n",
       "      <td>0.442735</td>\n",
       "      <td>-0.121766</td>\n",
       "      <td>-1.099969</td>\n",
       "      <td>-0.721740</td>\n",
       "      <td>-0.971635</td>\n",
       "      <td>NaN</td>\n",
       "    </tr>\n",
       "    <tr>\n",
       "      <th>E</th>\n",
       "      <td>0.436235</td>\n",
       "      <td>-1.209586</td>\n",
       "      <td>1.589384</td>\n",
       "      <td>1.723443</td>\n",
       "      <td>1.779326</td>\n",
       "      <td>NaN</td>\n",
       "    </tr>\n",
       "    <tr>\n",
       "      <th>F</th>\n",
       "      <td>0.514531</td>\n",
       "      <td>-0.446853</td>\n",
       "      <td>0.956181</td>\n",
       "      <td>-1.333042</td>\n",
       "      <td>0.287431</td>\n",
       "      <td>NaN</td>\n",
       "    </tr>\n",
       "  </tbody>\n",
       "</table>\n",
       "</div>"
      ],
      "text/plain": [
       "       col1      col2      col3      col4      col5  col6\n",
       "A -0.096501  0.361312  0.419080  0.583098 -0.851470   NaN\n",
       "B  0.212760 -2.787913 -0.101889 -0.469943  0.075107   NaN\n",
       "C       NaN       NaN       NaN       NaN       NaN   NaN\n",
       "D  0.442735 -0.121766 -1.099969 -0.721740 -0.971635   NaN\n",
       "E  0.436235 -1.209586  1.589384  1.723443  1.779326   NaN\n",
       "F  0.514531 -0.446853  0.956181 -1.333042  0.287431   NaN"
      ]
     },
     "execution_count": 25,
     "metadata": {},
     "output_type": "execute_result"
    }
   ],
   "source": [
    "dframe.loc[['A','B','C','D','E','F'],new_columns]"
   ]
  },
  {
   "cell_type": "code",
   "execution_count": null,
   "metadata": {
    "collapsed": true
   },
   "outputs": [],
   "source": []
  }
 ],
 "metadata": {
  "kernelspec": {
   "display_name": "Python 3",
   "language": "python",
   "name": "python3"
  },
  "language_info": {
   "codemirror_mode": {
    "name": "ipython",
    "version": 3
   },
   "file_extension": ".py",
   "mimetype": "text/x-python",
   "name": "python",
   "nbconvert_exporter": "python",
   "pygments_lexer": "ipython3",
   "version": "3.6.3"
  }
 },
 "nbformat": 4,
 "nbformat_minor": 2
}
